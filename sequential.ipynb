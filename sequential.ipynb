{
 "metadata": {
  "language_info": {
   "codemirror_mode": {
    "name": "ipython",
    "version": 3
   },
   "file_extension": ".py",
   "mimetype": "text/x-python",
   "name": "python",
   "nbconvert_exporter": "python",
   "pygments_lexer": "ipython3",
   "version": "3.8.5"
  },
  "orig_nbformat": 2,
  "kernelspec": {
   "name": "python385jvsc74a57bd0916dbcbb3f70747c44a77c7bcd40155683ae19c65e1c03b4aa3499c5328201f1",
   "display_name": "Python 3.8.5 64-bit"
  },
  "metadata": {
   "interpreter": {
    "hash": "916dbcbb3f70747c44a77c7bcd40155683ae19c65e1c03b4aa3499c5328201f1"
   }
  }
 },
 "nbformat": 4,
 "nbformat_minor": 2,
 "cells": [
  {
   "cell_type": "code",
   "execution_count": 1,
   "metadata": {},
   "outputs": [],
   "source": [
    "# IMPORTAMOS LAS LIBRERIAS \n",
    "\n",
    "import os \n",
    "import datetime \n",
    "\n",
    "import numpy as np\n",
    "import pandas as pd\n",
    "\n",
    "import seaborn as sns\n",
    "import matplotlib.pyplot as plt\n",
    "\n",
    "from sklearn.metrics import r2_score\n",
    "from sklearn.preprocessing import StandardScaler\n",
    "\n",
    "import tensorflow as tf"
   ]
  },
  {
   "cell_type": "code",
   "execution_count": 2,
   "metadata": {},
   "outputs": [
    {
     "output_type": "execute_result",
     "data": {
      "text/plain": [
       "          Country  Year      Status  Life expectancy   Adult Mortality  \\\n",
       "0     Afghanistan  2015  Developing              65.0            263.0   \n",
       "1     Afghanistan  2014  Developing              59.9            271.0   \n",
       "2     Afghanistan  2013  Developing              59.9            268.0   \n",
       "3     Afghanistan  2012  Developing              59.5            272.0   \n",
       "4     Afghanistan  2011  Developing              59.2            275.0   \n",
       "...           ...   ...         ...               ...              ...   \n",
       "2933     Zimbabwe  2004  Developing              44.3            723.0   \n",
       "2934     Zimbabwe  2003  Developing              44.5            715.0   \n",
       "2935     Zimbabwe  2002  Developing              44.8             73.0   \n",
       "2936     Zimbabwe  2001  Developing              45.3            686.0   \n",
       "2937     Zimbabwe  2000  Developing              46.0            665.0   \n",
       "\n",
       "      infant deaths  Alcohol  percentage expenditure  Hepatitis B  Measles   \\\n",
       "0                62     0.01               71.279624         65.0      1154   \n",
       "1                64     0.01               73.523582         62.0       492   \n",
       "2                66     0.01               73.219243         64.0       430   \n",
       "3                69     0.01               78.184215         67.0      2787   \n",
       "4                71     0.01                7.097109         68.0      3013   \n",
       "...             ...      ...                     ...          ...       ...   \n",
       "2933             27     4.36                0.000000         68.0        31   \n",
       "2934             26     4.06                0.000000          7.0       998   \n",
       "2935             25     4.43                0.000000         73.0       304   \n",
       "2936             25     1.72                0.000000         76.0       529   \n",
       "2937             24     1.68                0.000000         79.0      1483   \n",
       "\n",
       "      ...  Polio  Total expenditure  Diphtheria    HIV/AIDS         GDP  \\\n",
       "0     ...    6.0               8.16         65.0        0.1  584.259210   \n",
       "1     ...   58.0               8.18         62.0        0.1  612.696514   \n",
       "2     ...   62.0               8.13         64.0        0.1  631.744976   \n",
       "3     ...   67.0               8.52         67.0        0.1  669.959000   \n",
       "4     ...   68.0               7.87         68.0        0.1   63.537231   \n",
       "...   ...    ...                ...          ...        ...         ...   \n",
       "2933  ...   67.0               7.13         65.0       33.6  454.366654   \n",
       "2934  ...    7.0               6.52         68.0       36.7  453.351155   \n",
       "2935  ...   73.0               6.53         71.0       39.8   57.348340   \n",
       "2936  ...   76.0               6.16         75.0       42.1  548.587312   \n",
       "2937  ...   78.0               7.10         78.0       43.5  547.358878   \n",
       "\n",
       "      Population   thinness  1-19 years   thinness 5-9 years  \\\n",
       "0     33736494.0                   17.2                 17.3   \n",
       "1       327582.0                   17.5                 17.5   \n",
       "2     31731688.0                   17.7                 17.7   \n",
       "3      3696958.0                   17.9                 18.0   \n",
       "4      2978599.0                   18.2                 18.2   \n",
       "...          ...                    ...                  ...   \n",
       "2933  12777511.0                    9.4                  9.4   \n",
       "2934  12633897.0                    9.8                  9.9   \n",
       "2935    125525.0                    1.2                  1.3   \n",
       "2936  12366165.0                    1.6                  1.7   \n",
       "2937  12222251.0                   11.0                 11.2   \n",
       "\n",
       "      Income composition of resources  Schooling  \n",
       "0                               0.479       10.1  \n",
       "1                               0.476       10.0  \n",
       "2                               0.470        9.9  \n",
       "3                               0.463        9.8  \n",
       "4                               0.454        9.5  \n",
       "...                               ...        ...  \n",
       "2933                            0.407        9.2  \n",
       "2934                            0.418        9.5  \n",
       "2935                            0.427       10.0  \n",
       "2936                            0.427        9.8  \n",
       "2937                            0.434        9.8  \n",
       "\n",
       "[2938 rows x 22 columns]"
      ],
      "text/html": "<div>\n<style scoped>\n    .dataframe tbody tr th:only-of-type {\n        vertical-align: middle;\n    }\n\n    .dataframe tbody tr th {\n        vertical-align: top;\n    }\n\n    .dataframe thead th {\n        text-align: right;\n    }\n</style>\n<table border=\"1\" class=\"dataframe\">\n  <thead>\n    <tr style=\"text-align: right;\">\n      <th></th>\n      <th>Country</th>\n      <th>Year</th>\n      <th>Status</th>\n      <th>Life expectancy</th>\n      <th>Adult Mortality</th>\n      <th>infant deaths</th>\n      <th>Alcohol</th>\n      <th>percentage expenditure</th>\n      <th>Hepatitis B</th>\n      <th>Measles</th>\n      <th>...</th>\n      <th>Polio</th>\n      <th>Total expenditure</th>\n      <th>Diphtheria</th>\n      <th>HIV/AIDS</th>\n      <th>GDP</th>\n      <th>Population</th>\n      <th>thinness  1-19 years</th>\n      <th>thinness 5-9 years</th>\n      <th>Income composition of resources</th>\n      <th>Schooling</th>\n    </tr>\n  </thead>\n  <tbody>\n    <tr>\n      <th>0</th>\n      <td>Afghanistan</td>\n      <td>2015</td>\n      <td>Developing</td>\n      <td>65.0</td>\n      <td>263.0</td>\n      <td>62</td>\n      <td>0.01</td>\n      <td>71.279624</td>\n      <td>65.0</td>\n      <td>1154</td>\n      <td>...</td>\n      <td>6.0</td>\n      <td>8.16</td>\n      <td>65.0</td>\n      <td>0.1</td>\n      <td>584.259210</td>\n      <td>33736494.0</td>\n      <td>17.2</td>\n      <td>17.3</td>\n      <td>0.479</td>\n      <td>10.1</td>\n    </tr>\n    <tr>\n      <th>1</th>\n      <td>Afghanistan</td>\n      <td>2014</td>\n      <td>Developing</td>\n      <td>59.9</td>\n      <td>271.0</td>\n      <td>64</td>\n      <td>0.01</td>\n      <td>73.523582</td>\n      <td>62.0</td>\n      <td>492</td>\n      <td>...</td>\n      <td>58.0</td>\n      <td>8.18</td>\n      <td>62.0</td>\n      <td>0.1</td>\n      <td>612.696514</td>\n      <td>327582.0</td>\n      <td>17.5</td>\n      <td>17.5</td>\n      <td>0.476</td>\n      <td>10.0</td>\n    </tr>\n    <tr>\n      <th>2</th>\n      <td>Afghanistan</td>\n      <td>2013</td>\n      <td>Developing</td>\n      <td>59.9</td>\n      <td>268.0</td>\n      <td>66</td>\n      <td>0.01</td>\n      <td>73.219243</td>\n      <td>64.0</td>\n      <td>430</td>\n      <td>...</td>\n      <td>62.0</td>\n      <td>8.13</td>\n      <td>64.0</td>\n      <td>0.1</td>\n      <td>631.744976</td>\n      <td>31731688.0</td>\n      <td>17.7</td>\n      <td>17.7</td>\n      <td>0.470</td>\n      <td>9.9</td>\n    </tr>\n    <tr>\n      <th>3</th>\n      <td>Afghanistan</td>\n      <td>2012</td>\n      <td>Developing</td>\n      <td>59.5</td>\n      <td>272.0</td>\n      <td>69</td>\n      <td>0.01</td>\n      <td>78.184215</td>\n      <td>67.0</td>\n      <td>2787</td>\n      <td>...</td>\n      <td>67.0</td>\n      <td>8.52</td>\n      <td>67.0</td>\n      <td>0.1</td>\n      <td>669.959000</td>\n      <td>3696958.0</td>\n      <td>17.9</td>\n      <td>18.0</td>\n      <td>0.463</td>\n      <td>9.8</td>\n    </tr>\n    <tr>\n      <th>4</th>\n      <td>Afghanistan</td>\n      <td>2011</td>\n      <td>Developing</td>\n      <td>59.2</td>\n      <td>275.0</td>\n      <td>71</td>\n      <td>0.01</td>\n      <td>7.097109</td>\n      <td>68.0</td>\n      <td>3013</td>\n      <td>...</td>\n      <td>68.0</td>\n      <td>7.87</td>\n      <td>68.0</td>\n      <td>0.1</td>\n      <td>63.537231</td>\n      <td>2978599.0</td>\n      <td>18.2</td>\n      <td>18.2</td>\n      <td>0.454</td>\n      <td>9.5</td>\n    </tr>\n    <tr>\n      <th>...</th>\n      <td>...</td>\n      <td>...</td>\n      <td>...</td>\n      <td>...</td>\n      <td>...</td>\n      <td>...</td>\n      <td>...</td>\n      <td>...</td>\n      <td>...</td>\n      <td>...</td>\n      <td>...</td>\n      <td>...</td>\n      <td>...</td>\n      <td>...</td>\n      <td>...</td>\n      <td>...</td>\n      <td>...</td>\n      <td>...</td>\n      <td>...</td>\n      <td>...</td>\n      <td>...</td>\n    </tr>\n    <tr>\n      <th>2933</th>\n      <td>Zimbabwe</td>\n      <td>2004</td>\n      <td>Developing</td>\n      <td>44.3</td>\n      <td>723.0</td>\n      <td>27</td>\n      <td>4.36</td>\n      <td>0.000000</td>\n      <td>68.0</td>\n      <td>31</td>\n      <td>...</td>\n      <td>67.0</td>\n      <td>7.13</td>\n      <td>65.0</td>\n      <td>33.6</td>\n      <td>454.366654</td>\n      <td>12777511.0</td>\n      <td>9.4</td>\n      <td>9.4</td>\n      <td>0.407</td>\n      <td>9.2</td>\n    </tr>\n    <tr>\n      <th>2934</th>\n      <td>Zimbabwe</td>\n      <td>2003</td>\n      <td>Developing</td>\n      <td>44.5</td>\n      <td>715.0</td>\n      <td>26</td>\n      <td>4.06</td>\n      <td>0.000000</td>\n      <td>7.0</td>\n      <td>998</td>\n      <td>...</td>\n      <td>7.0</td>\n      <td>6.52</td>\n      <td>68.0</td>\n      <td>36.7</td>\n      <td>453.351155</td>\n      <td>12633897.0</td>\n      <td>9.8</td>\n      <td>9.9</td>\n      <td>0.418</td>\n      <td>9.5</td>\n    </tr>\n    <tr>\n      <th>2935</th>\n      <td>Zimbabwe</td>\n      <td>2002</td>\n      <td>Developing</td>\n      <td>44.8</td>\n      <td>73.0</td>\n      <td>25</td>\n      <td>4.43</td>\n      <td>0.000000</td>\n      <td>73.0</td>\n      <td>304</td>\n      <td>...</td>\n      <td>73.0</td>\n      <td>6.53</td>\n      <td>71.0</td>\n      <td>39.8</td>\n      <td>57.348340</td>\n      <td>125525.0</td>\n      <td>1.2</td>\n      <td>1.3</td>\n      <td>0.427</td>\n      <td>10.0</td>\n    </tr>\n    <tr>\n      <th>2936</th>\n      <td>Zimbabwe</td>\n      <td>2001</td>\n      <td>Developing</td>\n      <td>45.3</td>\n      <td>686.0</td>\n      <td>25</td>\n      <td>1.72</td>\n      <td>0.000000</td>\n      <td>76.0</td>\n      <td>529</td>\n      <td>...</td>\n      <td>76.0</td>\n      <td>6.16</td>\n      <td>75.0</td>\n      <td>42.1</td>\n      <td>548.587312</td>\n      <td>12366165.0</td>\n      <td>1.6</td>\n      <td>1.7</td>\n      <td>0.427</td>\n      <td>9.8</td>\n    </tr>\n    <tr>\n      <th>2937</th>\n      <td>Zimbabwe</td>\n      <td>2000</td>\n      <td>Developing</td>\n      <td>46.0</td>\n      <td>665.0</td>\n      <td>24</td>\n      <td>1.68</td>\n      <td>0.000000</td>\n      <td>79.0</td>\n      <td>1483</td>\n      <td>...</td>\n      <td>78.0</td>\n      <td>7.10</td>\n      <td>78.0</td>\n      <td>43.5</td>\n      <td>547.358878</td>\n      <td>12222251.0</td>\n      <td>11.0</td>\n      <td>11.2</td>\n      <td>0.434</td>\n      <td>9.8</td>\n    </tr>\n  </tbody>\n</table>\n<p>2938 rows × 22 columns</p>\n</div>"
     },
     "metadata": {},
     "execution_count": 2
    }
   ],
   "source": [
    "# CARGAMOS EL DATASET\n",
    "data = pd.read_csv('Life Expectancy Data.csv')\n",
    "data"
   ]
  },
  {
   "cell_type": "code",
   "execution_count": 3,
   "metadata": {},
   "outputs": [
    {
     "output_type": "execute_result",
     "data": {
      "text/plain": [
       "Country                              0\n",
       "Year                                 0\n",
       "Status                               0\n",
       "Life expectancy                     10\n",
       "Adult Mortality                     10\n",
       "infant deaths                        0\n",
       "Alcohol                            194\n",
       "percentage expenditure               0\n",
       "Hepatitis B                        553\n",
       "Measles                              0\n",
       " BMI                                34\n",
       "under-five deaths                    0\n",
       "Polio                               19\n",
       "Total expenditure                  226\n",
       "Diphtheria                          19\n",
       " HIV/AIDS                            0\n",
       "GDP                                448\n",
       "Population                         652\n",
       " thinness  1-19 years               34\n",
       " thinness 5-9 years                 34\n",
       "Income composition of resources    167\n",
       "Schooling                          163\n",
       "dtype: int64"
      ]
     },
     "metadata": {},
     "execution_count": 3
    }
   ],
   "source": [
    "# VEMOS LOS DATOS FALTANTES\n",
    "data.isna().sum()"
   ]
  },
  {
   "cell_type": "code",
   "execution_count": 4,
   "metadata": {},
   "outputs": [],
   "source": [
    "# ELIMINAMOS LA DATA FALTANTE\n",
    "data.dropna(inplace=True)"
   ]
  },
  {
   "cell_type": "code",
   "execution_count": 5,
   "metadata": {},
   "outputs": [
    {
     "output_type": "execute_result",
     "data": {
      "text/plain": [
       "Country                            0\n",
       "Year                               0\n",
       "Status                             0\n",
       "Life expectancy                    0\n",
       "Adult Mortality                    0\n",
       "infant deaths                      0\n",
       "Alcohol                            0\n",
       "percentage expenditure             0\n",
       "Hepatitis B                        0\n",
       "Measles                            0\n",
       " BMI                               0\n",
       "under-five deaths                  0\n",
       "Polio                              0\n",
       "Total expenditure                  0\n",
       "Diphtheria                         0\n",
       " HIV/AIDS                          0\n",
       "GDP                                0\n",
       "Population                         0\n",
       " thinness  1-19 years              0\n",
       " thinness 5-9 years                0\n",
       "Income composition of resources    0\n",
       "Schooling                          0\n",
       "dtype: int64"
      ]
     },
     "metadata": {},
     "execution_count": 5
    }
   ],
   "source": [
    "# VERIFICAMOS QUE SE HAYA ELIMINADO LA DATA FALTANTE\n",
    "data.isna().sum()"
   ]
  },
  {
   "cell_type": "code",
   "execution_count": 6,
   "metadata": {},
   "outputs": [],
   "source": [
    "target = data['Life expectancy ']"
   ]
  },
  {
   "cell_type": "code",
   "execution_count": 7,
   "metadata": {},
   "outputs": [
    {
     "output_type": "execute_result",
     "data": {
      "text/plain": [
       "          Country      Status\n",
       "0     Afghanistan  Developing\n",
       "1     Afghanistan  Developing\n",
       "2     Afghanistan  Developing\n",
       "3     Afghanistan  Developing\n",
       "4     Afghanistan  Developing\n",
       "...           ...         ...\n",
       "2933     Zimbabwe  Developing\n",
       "2934     Zimbabwe  Developing\n",
       "2935     Zimbabwe  Developing\n",
       "2936     Zimbabwe  Developing\n",
       "2937     Zimbabwe  Developing\n",
       "\n",
       "[1649 rows x 2 columns]"
      ],
      "text/html": "<div>\n<style scoped>\n    .dataframe tbody tr th:only-of-type {\n        vertical-align: middle;\n    }\n\n    .dataframe tbody tr th {\n        vertical-align: top;\n    }\n\n    .dataframe thead th {\n        text-align: right;\n    }\n</style>\n<table border=\"1\" class=\"dataframe\">\n  <thead>\n    <tr style=\"text-align: right;\">\n      <th></th>\n      <th>Country</th>\n      <th>Status</th>\n    </tr>\n  </thead>\n  <tbody>\n    <tr>\n      <th>0</th>\n      <td>Afghanistan</td>\n      <td>Developing</td>\n    </tr>\n    <tr>\n      <th>1</th>\n      <td>Afghanistan</td>\n      <td>Developing</td>\n    </tr>\n    <tr>\n      <th>2</th>\n      <td>Afghanistan</td>\n      <td>Developing</td>\n    </tr>\n    <tr>\n      <th>3</th>\n      <td>Afghanistan</td>\n      <td>Developing</td>\n    </tr>\n    <tr>\n      <th>4</th>\n      <td>Afghanistan</td>\n      <td>Developing</td>\n    </tr>\n    <tr>\n      <th>...</th>\n      <td>...</td>\n      <td>...</td>\n    </tr>\n    <tr>\n      <th>2933</th>\n      <td>Zimbabwe</td>\n      <td>Developing</td>\n    </tr>\n    <tr>\n      <th>2934</th>\n      <td>Zimbabwe</td>\n      <td>Developing</td>\n    </tr>\n    <tr>\n      <th>2935</th>\n      <td>Zimbabwe</td>\n      <td>Developing</td>\n    </tr>\n    <tr>\n      <th>2936</th>\n      <td>Zimbabwe</td>\n      <td>Developing</td>\n    </tr>\n    <tr>\n      <th>2937</th>\n      <td>Zimbabwe</td>\n      <td>Developing</td>\n    </tr>\n  </tbody>\n</table>\n<p>1649 rows × 2 columns</p>\n</div>"
     },
     "metadata": {},
     "execution_count": 7
    }
   ],
   "source": [
    "categorical_col = data.select_dtypes(exclude='number')\n",
    "categorical_col"
   ]
  },
  {
   "cell_type": "code",
   "execution_count": 8,
   "metadata": {},
   "outputs": [],
   "source": [
    "# PODEMOS ELIMIMAR LA COLUMNA data['Country']\n",
    "data.drop('Country',axis=1,inplace=True)"
   ]
  },
  {
   "cell_type": "code",
   "execution_count": 9,
   "metadata": {},
   "outputs": [
    {
     "output_type": "execute_result",
     "data": {
      "text/plain": [
       "      Developed  Developing\n",
       "0             0           1\n",
       "1             0           1\n",
       "2             0           1\n",
       "3             0           1\n",
       "4             0           1\n",
       "...         ...         ...\n",
       "2933          0           1\n",
       "2934          0           1\n",
       "2935          0           1\n",
       "2936          0           1\n",
       "2937          0           1\n",
       "\n",
       "[1649 rows x 2 columns]"
      ],
      "text/html": "<div>\n<style scoped>\n    .dataframe tbody tr th:only-of-type {\n        vertical-align: middle;\n    }\n\n    .dataframe tbody tr th {\n        vertical-align: top;\n    }\n\n    .dataframe thead th {\n        text-align: right;\n    }\n</style>\n<table border=\"1\" class=\"dataframe\">\n  <thead>\n    <tr style=\"text-align: right;\">\n      <th></th>\n      <th>Developed</th>\n      <th>Developing</th>\n    </tr>\n  </thead>\n  <tbody>\n    <tr>\n      <th>0</th>\n      <td>0</td>\n      <td>1</td>\n    </tr>\n    <tr>\n      <th>1</th>\n      <td>0</td>\n      <td>1</td>\n    </tr>\n    <tr>\n      <th>2</th>\n      <td>0</td>\n      <td>1</td>\n    </tr>\n    <tr>\n      <th>3</th>\n      <td>0</td>\n      <td>1</td>\n    </tr>\n    <tr>\n      <th>4</th>\n      <td>0</td>\n      <td>1</td>\n    </tr>\n    <tr>\n      <th>...</th>\n      <td>...</td>\n      <td>...</td>\n    </tr>\n    <tr>\n      <th>2933</th>\n      <td>0</td>\n      <td>1</td>\n    </tr>\n    <tr>\n      <th>2934</th>\n      <td>0</td>\n      <td>1</td>\n    </tr>\n    <tr>\n      <th>2935</th>\n      <td>0</td>\n      <td>1</td>\n    </tr>\n    <tr>\n      <th>2936</th>\n      <td>0</td>\n      <td>1</td>\n    </tr>\n    <tr>\n      <th>2937</th>\n      <td>0</td>\n      <td>1</td>\n    </tr>\n  </tbody>\n</table>\n<p>1649 rows × 2 columns</p>\n</div>"
     },
     "metadata": {},
     "execution_count": 9
    }
   ],
   "source": [
    "# CONVERTIMOS LA COLUMNA data['status'] EN NUMERICO\n",
    "status_dummy = pd.get_dummies(data['Status'])\n",
    "status_dummy"
   ]
  },
  {
   "cell_type": "code",
   "execution_count": 10,
   "metadata": {},
   "outputs": [],
   "source": [
    "# ELIMINAMOS LA DATA CATEGORICA \n",
    "data.drop('Status',axis=1,inplace=True)"
   ]
  },
  {
   "cell_type": "code",
   "execution_count": 11,
   "metadata": {},
   "outputs": [],
   "source": [
    "# AGREGAMOS LA DATA DUMMY\n",
    "data['develop'] = status_dummy['Developed']"
   ]
  },
  {
   "cell_type": "code",
   "execution_count": 12,
   "metadata": {},
   "outputs": [
    {
     "output_type": "execute_result",
     "data": {
      "text/plain": [
       "                                  count          mean           std  \\\n",
       "Year                             1649.0  2.007841e+03  4.087711e+00   \n",
       "Life expectancy                  1649.0  6.930230e+01  8.796834e+00   \n",
       "Adult Mortality                  1649.0  1.682153e+02  1.253104e+02   \n",
       "infant deaths                    1649.0  3.255306e+01  1.208472e+02   \n",
       "Alcohol                          1649.0  4.533196e+00  4.029189e+00   \n",
       "percentage expenditure           1649.0  6.989736e+02  1.759229e+03   \n",
       "Hepatitis B                      1649.0  7.921771e+01  2.560466e+01   \n",
       "Measles                          1649.0  2.224494e+03  1.008580e+04   \n",
       " BMI                             1649.0  3.812862e+01  1.975425e+01   \n",
       "under-five deaths                1649.0  4.422013e+01  1.628980e+02   \n",
       "Polio                            1649.0  8.356458e+01  2.245056e+01   \n",
       "Total expenditure                1649.0  5.955925e+00  2.299385e+00   \n",
       "Diphtheria                       1649.0  8.415525e+01  2.157919e+01   \n",
       " HIV/AIDS                        1649.0  1.983869e+00  6.032360e+00   \n",
       "GDP                              1649.0  5.566032e+03  1.147590e+04   \n",
       "Population                       1649.0  1.465363e+07  7.046039e+07   \n",
       " thinness  1-19 years            1649.0  4.850637e+00  4.599228e+00   \n",
       " thinness 5-9 years              1649.0  4.907762e+00  4.653757e+00   \n",
       "Income composition of resources  1649.0  6.315512e-01  1.830887e-01   \n",
       "Schooling                        1649.0  1.211989e+01  2.795388e+00   \n",
       "develop                          1649.0  1.467556e-01  3.539695e-01   \n",
       "\n",
       "                                        min            25%           50%  \\\n",
       "Year                             2000.00000    2005.000000  2.008000e+03   \n",
       "Life expectancy                    44.00000      64.400000  7.170000e+01   \n",
       "Adult Mortality                     1.00000      77.000000  1.480000e+02   \n",
       "infant deaths                       0.00000       1.000000  3.000000e+00   \n",
       "Alcohol                             0.01000       0.810000  3.790000e+00   \n",
       "percentage expenditure              0.00000      37.438577  1.451023e+02   \n",
       "Hepatitis B                         2.00000      74.000000  8.900000e+01   \n",
       "Measles                             0.00000       0.000000  1.500000e+01   \n",
       " BMI                                2.00000      19.500000  4.370000e+01   \n",
       "under-five deaths                   0.00000       1.000000  4.000000e+00   \n",
       "Polio                               3.00000      81.000000  9.300000e+01   \n",
       "Total expenditure                   0.74000       4.410000  5.840000e+00   \n",
       "Diphtheria                          2.00000      82.000000  9.200000e+01   \n",
       " HIV/AIDS                           0.10000       0.100000  1.000000e-01   \n",
       "GDP                                 1.68135     462.149650  1.592572e+03   \n",
       "Population                         34.00000  191897.000000  1.419631e+06   \n",
       " thinness  1-19 years               0.10000       1.600000  3.000000e+00   \n",
       " thinness 5-9 years                 0.10000       1.700000  3.200000e+00   \n",
       "Income composition of resources     0.00000       0.509000  6.730000e-01   \n",
       "Schooling                           4.20000      10.300000  1.230000e+01   \n",
       "develop                             0.00000       0.000000  0.000000e+00   \n",
       "\n",
       "                                          75%           max  \n",
       "Year                             2.011000e+03  2.015000e+03  \n",
       "Life expectancy                  7.500000e+01  8.900000e+01  \n",
       "Adult Mortality                  2.270000e+02  7.230000e+02  \n",
       "infant deaths                    2.200000e+01  1.600000e+03  \n",
       "Alcohol                          7.340000e+00  1.787000e+01  \n",
       "percentage expenditure           5.093900e+02  1.896135e+04  \n",
       "Hepatitis B                      9.600000e+01  9.900000e+01  \n",
       "Measles                          3.730000e+02  1.314410e+05  \n",
       " BMI                             5.580000e+01  7.710000e+01  \n",
       "under-five deaths                2.900000e+01  2.100000e+03  \n",
       "Polio                            9.700000e+01  9.900000e+01  \n",
       "Total expenditure                7.470000e+00  1.439000e+01  \n",
       "Diphtheria                       9.700000e+01  9.900000e+01  \n",
       " HIV/AIDS                        7.000000e-01  5.060000e+01  \n",
       "GDP                              4.718513e+03  1.191727e+05  \n",
       "Population                       7.658972e+06  1.293859e+09  \n",
       " thinness  1-19 years            7.100000e+00  2.720000e+01  \n",
       " thinness 5-9 years              7.100000e+00  2.820000e+01  \n",
       "Income composition of resources  7.510000e-01  9.360000e-01  \n",
       "Schooling                        1.400000e+01  2.070000e+01  \n",
       "develop                          0.000000e+00  1.000000e+00  "
      ],
      "text/html": "<div>\n<style scoped>\n    .dataframe tbody tr th:only-of-type {\n        vertical-align: middle;\n    }\n\n    .dataframe tbody tr th {\n        vertical-align: top;\n    }\n\n    .dataframe thead th {\n        text-align: right;\n    }\n</style>\n<table border=\"1\" class=\"dataframe\">\n  <thead>\n    <tr style=\"text-align: right;\">\n      <th></th>\n      <th>count</th>\n      <th>mean</th>\n      <th>std</th>\n      <th>min</th>\n      <th>25%</th>\n      <th>50%</th>\n      <th>75%</th>\n      <th>max</th>\n    </tr>\n  </thead>\n  <tbody>\n    <tr>\n      <th>Year</th>\n      <td>1649.0</td>\n      <td>2.007841e+03</td>\n      <td>4.087711e+00</td>\n      <td>2000.00000</td>\n      <td>2005.000000</td>\n      <td>2.008000e+03</td>\n      <td>2.011000e+03</td>\n      <td>2.015000e+03</td>\n    </tr>\n    <tr>\n      <th>Life expectancy</th>\n      <td>1649.0</td>\n      <td>6.930230e+01</td>\n      <td>8.796834e+00</td>\n      <td>44.00000</td>\n      <td>64.400000</td>\n      <td>7.170000e+01</td>\n      <td>7.500000e+01</td>\n      <td>8.900000e+01</td>\n    </tr>\n    <tr>\n      <th>Adult Mortality</th>\n      <td>1649.0</td>\n      <td>1.682153e+02</td>\n      <td>1.253104e+02</td>\n      <td>1.00000</td>\n      <td>77.000000</td>\n      <td>1.480000e+02</td>\n      <td>2.270000e+02</td>\n      <td>7.230000e+02</td>\n    </tr>\n    <tr>\n      <th>infant deaths</th>\n      <td>1649.0</td>\n      <td>3.255306e+01</td>\n      <td>1.208472e+02</td>\n      <td>0.00000</td>\n      <td>1.000000</td>\n      <td>3.000000e+00</td>\n      <td>2.200000e+01</td>\n      <td>1.600000e+03</td>\n    </tr>\n    <tr>\n      <th>Alcohol</th>\n      <td>1649.0</td>\n      <td>4.533196e+00</td>\n      <td>4.029189e+00</td>\n      <td>0.01000</td>\n      <td>0.810000</td>\n      <td>3.790000e+00</td>\n      <td>7.340000e+00</td>\n      <td>1.787000e+01</td>\n    </tr>\n    <tr>\n      <th>percentage expenditure</th>\n      <td>1649.0</td>\n      <td>6.989736e+02</td>\n      <td>1.759229e+03</td>\n      <td>0.00000</td>\n      <td>37.438577</td>\n      <td>1.451023e+02</td>\n      <td>5.093900e+02</td>\n      <td>1.896135e+04</td>\n    </tr>\n    <tr>\n      <th>Hepatitis B</th>\n      <td>1649.0</td>\n      <td>7.921771e+01</td>\n      <td>2.560466e+01</td>\n      <td>2.00000</td>\n      <td>74.000000</td>\n      <td>8.900000e+01</td>\n      <td>9.600000e+01</td>\n      <td>9.900000e+01</td>\n    </tr>\n    <tr>\n      <th>Measles</th>\n      <td>1649.0</td>\n      <td>2.224494e+03</td>\n      <td>1.008580e+04</td>\n      <td>0.00000</td>\n      <td>0.000000</td>\n      <td>1.500000e+01</td>\n      <td>3.730000e+02</td>\n      <td>1.314410e+05</td>\n    </tr>\n    <tr>\n      <th>BMI</th>\n      <td>1649.0</td>\n      <td>3.812862e+01</td>\n      <td>1.975425e+01</td>\n      <td>2.00000</td>\n      <td>19.500000</td>\n      <td>4.370000e+01</td>\n      <td>5.580000e+01</td>\n      <td>7.710000e+01</td>\n    </tr>\n    <tr>\n      <th>under-five deaths</th>\n      <td>1649.0</td>\n      <td>4.422013e+01</td>\n      <td>1.628980e+02</td>\n      <td>0.00000</td>\n      <td>1.000000</td>\n      <td>4.000000e+00</td>\n      <td>2.900000e+01</td>\n      <td>2.100000e+03</td>\n    </tr>\n    <tr>\n      <th>Polio</th>\n      <td>1649.0</td>\n      <td>8.356458e+01</td>\n      <td>2.245056e+01</td>\n      <td>3.00000</td>\n      <td>81.000000</td>\n      <td>9.300000e+01</td>\n      <td>9.700000e+01</td>\n      <td>9.900000e+01</td>\n    </tr>\n    <tr>\n      <th>Total expenditure</th>\n      <td>1649.0</td>\n      <td>5.955925e+00</td>\n      <td>2.299385e+00</td>\n      <td>0.74000</td>\n      <td>4.410000</td>\n      <td>5.840000e+00</td>\n      <td>7.470000e+00</td>\n      <td>1.439000e+01</td>\n    </tr>\n    <tr>\n      <th>Diphtheria</th>\n      <td>1649.0</td>\n      <td>8.415525e+01</td>\n      <td>2.157919e+01</td>\n      <td>2.00000</td>\n      <td>82.000000</td>\n      <td>9.200000e+01</td>\n      <td>9.700000e+01</td>\n      <td>9.900000e+01</td>\n    </tr>\n    <tr>\n      <th>HIV/AIDS</th>\n      <td>1649.0</td>\n      <td>1.983869e+00</td>\n      <td>6.032360e+00</td>\n      <td>0.10000</td>\n      <td>0.100000</td>\n      <td>1.000000e-01</td>\n      <td>7.000000e-01</td>\n      <td>5.060000e+01</td>\n    </tr>\n    <tr>\n      <th>GDP</th>\n      <td>1649.0</td>\n      <td>5.566032e+03</td>\n      <td>1.147590e+04</td>\n      <td>1.68135</td>\n      <td>462.149650</td>\n      <td>1.592572e+03</td>\n      <td>4.718513e+03</td>\n      <td>1.191727e+05</td>\n    </tr>\n    <tr>\n      <th>Population</th>\n      <td>1649.0</td>\n      <td>1.465363e+07</td>\n      <td>7.046039e+07</td>\n      <td>34.00000</td>\n      <td>191897.000000</td>\n      <td>1.419631e+06</td>\n      <td>7.658972e+06</td>\n      <td>1.293859e+09</td>\n    </tr>\n    <tr>\n      <th>thinness  1-19 years</th>\n      <td>1649.0</td>\n      <td>4.850637e+00</td>\n      <td>4.599228e+00</td>\n      <td>0.10000</td>\n      <td>1.600000</td>\n      <td>3.000000e+00</td>\n      <td>7.100000e+00</td>\n      <td>2.720000e+01</td>\n    </tr>\n    <tr>\n      <th>thinness 5-9 years</th>\n      <td>1649.0</td>\n      <td>4.907762e+00</td>\n      <td>4.653757e+00</td>\n      <td>0.10000</td>\n      <td>1.700000</td>\n      <td>3.200000e+00</td>\n      <td>7.100000e+00</td>\n      <td>2.820000e+01</td>\n    </tr>\n    <tr>\n      <th>Income composition of resources</th>\n      <td>1649.0</td>\n      <td>6.315512e-01</td>\n      <td>1.830887e-01</td>\n      <td>0.00000</td>\n      <td>0.509000</td>\n      <td>6.730000e-01</td>\n      <td>7.510000e-01</td>\n      <td>9.360000e-01</td>\n    </tr>\n    <tr>\n      <th>Schooling</th>\n      <td>1649.0</td>\n      <td>1.211989e+01</td>\n      <td>2.795388e+00</td>\n      <td>4.20000</td>\n      <td>10.300000</td>\n      <td>1.230000e+01</td>\n      <td>1.400000e+01</td>\n      <td>2.070000e+01</td>\n    </tr>\n    <tr>\n      <th>develop</th>\n      <td>1649.0</td>\n      <td>1.467556e-01</td>\n      <td>3.539695e-01</td>\n      <td>0.00000</td>\n      <td>0.000000</td>\n      <td>0.000000e+00</td>\n      <td>0.000000e+00</td>\n      <td>1.000000e+00</td>\n    </tr>\n  </tbody>\n</table>\n</div>"
     },
     "metadata": {},
     "execution_count": 12
    }
   ],
   "source": [
    "data.describe().T"
   ]
  },
  {
   "cell_type": "code",
   "execution_count": 13,
   "metadata": {},
   "outputs": [],
   "source": [
    "# ESTANDARIZAMOS NUESTRA DATA CON StandardScaler()\n",
    "\n",
    "s_scaler = StandardScaler()\n",
    "scaled_data = s_scaler.fit_transform(data)\n",
    "\n",
    "scaled_data = pd.DataFrame(scaled_data,\n",
    "columns=data.columns,\n",
    "index=data.index)"
   ]
  },
  {
   "cell_type": "code",
   "execution_count": 14,
   "metadata": {},
   "outputs": [
    {
     "output_type": "execute_result",
     "data": {
      "text/plain": [
       "                                  count          mean       std       min  \\\n",
       "Year                             1649.0 -7.962905e-15  1.000303 -1.918650   \n",
       "Life expectancy                  1649.0  7.239004e-16  1.000303 -2.877169   \n",
       "Adult Mortality                  1649.0 -7.756076e-17  1.000303 -1.334813   \n",
       "infant deaths                    1649.0 -4.308931e-18  1.000303 -0.269455   \n",
       "Alcohol                          1649.0  6.894290e-17  1.000303 -1.122948   \n",
       "percentage expenditure           1649.0  2.585359e-17  1.000303 -0.397439   \n",
       "Hepatitis B                      1649.0  1.637394e-16  1.000303 -3.016682   \n",
       "Measles                          1649.0 -4.308931e-18  1.000303 -0.220624   \n",
       " BMI                             1649.0 -6.894290e-17  1.000303 -1.829459   \n",
       "under-five deaths                1649.0 -2.585359e-17  1.000303 -0.271541   \n",
       "Polio                            1649.0  2.574586e-16  1.000303 -3.589622   \n",
       "Total expenditure                1649.0  1.680483e-16  1.000303 -2.269088   \n",
       "Diphtheria                       1649.0  1.292679e-17  1.000303 -3.808306   \n",
       " HIV/AIDS                        1649.0  6.032504e-17  1.000303 -0.312389   \n",
       "GDP                              1649.0  8.617862e-17  1.000303 -0.485020   \n",
       "Population                       1649.0 -3.016252e-17  1.000303 -0.208032   \n",
       " thinness  1-19 years            1649.0  5.601610e-17  1.000303 -1.033234   \n",
       " thinness 5-9 years              1649.0 -7.756076e-17  1.000303 -1.033406   \n",
       "Income composition of resources  1649.0  1.723572e-16  1.000303 -3.450474   \n",
       "Schooling                        1649.0  7.928433e-16  1.000303 -2.834059   \n",
       "develop                          1649.0 -3.016252e-17  1.000303 -0.414725   \n",
       "\n",
       "                                      25%       50%       75%        max  \n",
       "Year                            -0.695101  0.039029  0.773159   1.751998  \n",
       "Life expectancy                 -0.557450  0.272646  0.647895   2.239859  \n",
       "Adult Mortality                 -0.728135 -0.161371  0.469255   4.428626  \n",
       "infant deaths                   -0.261178 -0.244623 -0.087352  12.974422  \n",
       "Alcohol                         -0.924336 -0.184509  0.696829   3.311051  \n",
       "percentage expenditure          -0.376151 -0.314933 -0.107798  10.384044  \n",
       "Hepatitis B                     -0.203841  0.382167  0.655638   0.772839  \n",
       "Measles                         -0.220624 -0.219136 -0.183630  12.815610  \n",
       " BMI                            -0.943305  0.282120  0.894832   1.973408  \n",
       "under-five deaths               -0.265401 -0.246979 -0.093462  12.623872  \n",
       "Polio                           -0.114267  0.420403  0.598626   0.687738  \n",
       "Total expenditure               -0.672525 -0.050431  0.658669   3.669082  \n",
       "Diphtheria                      -0.099906  0.363644  0.595419   0.688128  \n",
       " HIV/AIDS                       -0.312389 -0.312389 -0.212895   8.061668  \n",
       "GDP                             -0.444883 -0.346349 -0.073874   9.902593  \n",
       "Population                      -0.205308 -0.187879 -0.099301  18.160468  \n",
       " thinness  1-19 years           -0.706993 -0.402502  0.489222   4.860846  \n",
       " thinness 5-9 years             -0.689494 -0.367076  0.471211   5.006558  \n",
       "Income composition of resources -0.669557  0.226455  0.652607   1.663353  \n",
       "Schooling                       -0.651231  0.064450  0.672780   3.070312  \n",
       "develop                         -0.414725 -0.414725 -0.414725   2.411234  "
      ],
      "text/html": "<div>\n<style scoped>\n    .dataframe tbody tr th:only-of-type {\n        vertical-align: middle;\n    }\n\n    .dataframe tbody tr th {\n        vertical-align: top;\n    }\n\n    .dataframe thead th {\n        text-align: right;\n    }\n</style>\n<table border=\"1\" class=\"dataframe\">\n  <thead>\n    <tr style=\"text-align: right;\">\n      <th></th>\n      <th>count</th>\n      <th>mean</th>\n      <th>std</th>\n      <th>min</th>\n      <th>25%</th>\n      <th>50%</th>\n      <th>75%</th>\n      <th>max</th>\n    </tr>\n  </thead>\n  <tbody>\n    <tr>\n      <th>Year</th>\n      <td>1649.0</td>\n      <td>-7.962905e-15</td>\n      <td>1.000303</td>\n      <td>-1.918650</td>\n      <td>-0.695101</td>\n      <td>0.039029</td>\n      <td>0.773159</td>\n      <td>1.751998</td>\n    </tr>\n    <tr>\n      <th>Life expectancy</th>\n      <td>1649.0</td>\n      <td>7.239004e-16</td>\n      <td>1.000303</td>\n      <td>-2.877169</td>\n      <td>-0.557450</td>\n      <td>0.272646</td>\n      <td>0.647895</td>\n      <td>2.239859</td>\n    </tr>\n    <tr>\n      <th>Adult Mortality</th>\n      <td>1649.0</td>\n      <td>-7.756076e-17</td>\n      <td>1.000303</td>\n      <td>-1.334813</td>\n      <td>-0.728135</td>\n      <td>-0.161371</td>\n      <td>0.469255</td>\n      <td>4.428626</td>\n    </tr>\n    <tr>\n      <th>infant deaths</th>\n      <td>1649.0</td>\n      <td>-4.308931e-18</td>\n      <td>1.000303</td>\n      <td>-0.269455</td>\n      <td>-0.261178</td>\n      <td>-0.244623</td>\n      <td>-0.087352</td>\n      <td>12.974422</td>\n    </tr>\n    <tr>\n      <th>Alcohol</th>\n      <td>1649.0</td>\n      <td>6.894290e-17</td>\n      <td>1.000303</td>\n      <td>-1.122948</td>\n      <td>-0.924336</td>\n      <td>-0.184509</td>\n      <td>0.696829</td>\n      <td>3.311051</td>\n    </tr>\n    <tr>\n      <th>percentage expenditure</th>\n      <td>1649.0</td>\n      <td>2.585359e-17</td>\n      <td>1.000303</td>\n      <td>-0.397439</td>\n      <td>-0.376151</td>\n      <td>-0.314933</td>\n      <td>-0.107798</td>\n      <td>10.384044</td>\n    </tr>\n    <tr>\n      <th>Hepatitis B</th>\n      <td>1649.0</td>\n      <td>1.637394e-16</td>\n      <td>1.000303</td>\n      <td>-3.016682</td>\n      <td>-0.203841</td>\n      <td>0.382167</td>\n      <td>0.655638</td>\n      <td>0.772839</td>\n    </tr>\n    <tr>\n      <th>Measles</th>\n      <td>1649.0</td>\n      <td>-4.308931e-18</td>\n      <td>1.000303</td>\n      <td>-0.220624</td>\n      <td>-0.220624</td>\n      <td>-0.219136</td>\n      <td>-0.183630</td>\n      <td>12.815610</td>\n    </tr>\n    <tr>\n      <th>BMI</th>\n      <td>1649.0</td>\n      <td>-6.894290e-17</td>\n      <td>1.000303</td>\n      <td>-1.829459</td>\n      <td>-0.943305</td>\n      <td>0.282120</td>\n      <td>0.894832</td>\n      <td>1.973408</td>\n    </tr>\n    <tr>\n      <th>under-five deaths</th>\n      <td>1649.0</td>\n      <td>-2.585359e-17</td>\n      <td>1.000303</td>\n      <td>-0.271541</td>\n      <td>-0.265401</td>\n      <td>-0.246979</td>\n      <td>-0.093462</td>\n      <td>12.623872</td>\n    </tr>\n    <tr>\n      <th>Polio</th>\n      <td>1649.0</td>\n      <td>2.574586e-16</td>\n      <td>1.000303</td>\n      <td>-3.589622</td>\n      <td>-0.114267</td>\n      <td>0.420403</td>\n      <td>0.598626</td>\n      <td>0.687738</td>\n    </tr>\n    <tr>\n      <th>Total expenditure</th>\n      <td>1649.0</td>\n      <td>1.680483e-16</td>\n      <td>1.000303</td>\n      <td>-2.269088</td>\n      <td>-0.672525</td>\n      <td>-0.050431</td>\n      <td>0.658669</td>\n      <td>3.669082</td>\n    </tr>\n    <tr>\n      <th>Diphtheria</th>\n      <td>1649.0</td>\n      <td>1.292679e-17</td>\n      <td>1.000303</td>\n      <td>-3.808306</td>\n      <td>-0.099906</td>\n      <td>0.363644</td>\n      <td>0.595419</td>\n      <td>0.688128</td>\n    </tr>\n    <tr>\n      <th>HIV/AIDS</th>\n      <td>1649.0</td>\n      <td>6.032504e-17</td>\n      <td>1.000303</td>\n      <td>-0.312389</td>\n      <td>-0.312389</td>\n      <td>-0.312389</td>\n      <td>-0.212895</td>\n      <td>8.061668</td>\n    </tr>\n    <tr>\n      <th>GDP</th>\n      <td>1649.0</td>\n      <td>8.617862e-17</td>\n      <td>1.000303</td>\n      <td>-0.485020</td>\n      <td>-0.444883</td>\n      <td>-0.346349</td>\n      <td>-0.073874</td>\n      <td>9.902593</td>\n    </tr>\n    <tr>\n      <th>Population</th>\n      <td>1649.0</td>\n      <td>-3.016252e-17</td>\n      <td>1.000303</td>\n      <td>-0.208032</td>\n      <td>-0.205308</td>\n      <td>-0.187879</td>\n      <td>-0.099301</td>\n      <td>18.160468</td>\n    </tr>\n    <tr>\n      <th>thinness  1-19 years</th>\n      <td>1649.0</td>\n      <td>5.601610e-17</td>\n      <td>1.000303</td>\n      <td>-1.033234</td>\n      <td>-0.706993</td>\n      <td>-0.402502</td>\n      <td>0.489222</td>\n      <td>4.860846</td>\n    </tr>\n    <tr>\n      <th>thinness 5-9 years</th>\n      <td>1649.0</td>\n      <td>-7.756076e-17</td>\n      <td>1.000303</td>\n      <td>-1.033406</td>\n      <td>-0.689494</td>\n      <td>-0.367076</td>\n      <td>0.471211</td>\n      <td>5.006558</td>\n    </tr>\n    <tr>\n      <th>Income composition of resources</th>\n      <td>1649.0</td>\n      <td>1.723572e-16</td>\n      <td>1.000303</td>\n      <td>-3.450474</td>\n      <td>-0.669557</td>\n      <td>0.226455</td>\n      <td>0.652607</td>\n      <td>1.663353</td>\n    </tr>\n    <tr>\n      <th>Schooling</th>\n      <td>1649.0</td>\n      <td>7.928433e-16</td>\n      <td>1.000303</td>\n      <td>-2.834059</td>\n      <td>-0.651231</td>\n      <td>0.064450</td>\n      <td>0.672780</td>\n      <td>3.070312</td>\n    </tr>\n    <tr>\n      <th>develop</th>\n      <td>1649.0</td>\n      <td>-3.016252e-17</td>\n      <td>1.000303</td>\n      <td>-0.414725</td>\n      <td>-0.414725</td>\n      <td>-0.414725</td>\n      <td>-0.414725</td>\n      <td>2.411234</td>\n    </tr>\n  </tbody>\n</table>\n</div>"
     },
     "metadata": {},
     "execution_count": 14
    }
   ],
   "source": [
    "scaled_data.describe().T"
   ]
  },
  {
   "cell_type": "code",
   "execution_count": null,
   "metadata": {},
   "outputs": [],
   "source": []
  },
  {
   "cell_type": "code",
   "execution_count": null,
   "metadata": {},
   "outputs": [],
   "source": []
  }
 ]
}