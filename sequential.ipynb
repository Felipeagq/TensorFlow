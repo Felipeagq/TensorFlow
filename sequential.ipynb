{
 "metadata": {
  "language_info": {
   "codemirror_mode": {
    "name": "ipython",
    "version": 3
   },
   "file_extension": ".py",
   "mimetype": "text/x-python",
   "name": "python",
   "nbconvert_exporter": "python",
   "pygments_lexer": "ipython3",
   "version": "3.8.5"
  },
  "orig_nbformat": 2,
  "kernelspec": {
   "name": "python385jvsc74a57bd0916dbcbb3f70747c44a77c7bcd40155683ae19c65e1c03b4aa3499c5328201f1",
   "display_name": "Python 3.8.5 64-bit"
  },
  "metadata": {
   "interpreter": {
    "hash": "916dbcbb3f70747c44a77c7bcd40155683ae19c65e1c03b4aa3499c5328201f1"
   }
  }
 },
 "nbformat": 4,
 "nbformat_minor": 2,
 "cells": [
  {
   "source": [
    "# PREPARANDO LA DATA"
   ],
   "cell_type": "markdown",
   "metadata": {}
  },
  {
   "cell_type": "code",
   "execution_count": 1,
   "metadata": {},
   "outputs": [],
   "source": [
    "# IMPORTAMOS LAS LIBRERIAS \n",
    "\n",
    "import os \n",
    "import datetime \n",
    "\n",
    "import numpy as np\n",
    "import pandas as pd\n",
    "\n",
    "import seaborn as sns\n",
    "import matplotlib.pyplot as plt\n",
    "\n",
    "from sklearn.metrics import r2_score\n",
    "from sklearn.preprocessing import StandardScaler\n",
    "\n",
    "import tensorflow as tf"
   ]
  },
  {
   "cell_type": "code",
   "execution_count": 2,
   "metadata": {},
   "outputs": [
    {
     "output_type": "execute_result",
     "data": {
      "text/plain": [
       "          Country  Year      Status  Life expectancy   Adult Mortality  \\\n",
       "0     Afghanistan  2015  Developing              65.0            263.0   \n",
       "1     Afghanistan  2014  Developing              59.9            271.0   \n",
       "2     Afghanistan  2013  Developing              59.9            268.0   \n",
       "3     Afghanistan  2012  Developing              59.5            272.0   \n",
       "4     Afghanistan  2011  Developing              59.2            275.0   \n",
       "...           ...   ...         ...               ...              ...   \n",
       "2933     Zimbabwe  2004  Developing              44.3            723.0   \n",
       "2934     Zimbabwe  2003  Developing              44.5            715.0   \n",
       "2935     Zimbabwe  2002  Developing              44.8             73.0   \n",
       "2936     Zimbabwe  2001  Developing              45.3            686.0   \n",
       "2937     Zimbabwe  2000  Developing              46.0            665.0   \n",
       "\n",
       "      infant deaths  Alcohol  percentage expenditure  Hepatitis B  Measles   \\\n",
       "0                62     0.01               71.279624         65.0      1154   \n",
       "1                64     0.01               73.523582         62.0       492   \n",
       "2                66     0.01               73.219243         64.0       430   \n",
       "3                69     0.01               78.184215         67.0      2787   \n",
       "4                71     0.01                7.097109         68.0      3013   \n",
       "...             ...      ...                     ...          ...       ...   \n",
       "2933             27     4.36                0.000000         68.0        31   \n",
       "2934             26     4.06                0.000000          7.0       998   \n",
       "2935             25     4.43                0.000000         73.0       304   \n",
       "2936             25     1.72                0.000000         76.0       529   \n",
       "2937             24     1.68                0.000000         79.0      1483   \n",
       "\n",
       "      ...  Polio  Total expenditure  Diphtheria    HIV/AIDS         GDP  \\\n",
       "0     ...    6.0               8.16         65.0        0.1  584.259210   \n",
       "1     ...   58.0               8.18         62.0        0.1  612.696514   \n",
       "2     ...   62.0               8.13         64.0        0.1  631.744976   \n",
       "3     ...   67.0               8.52         67.0        0.1  669.959000   \n",
       "4     ...   68.0               7.87         68.0        0.1   63.537231   \n",
       "...   ...    ...                ...          ...        ...         ...   \n",
       "2933  ...   67.0               7.13         65.0       33.6  454.366654   \n",
       "2934  ...    7.0               6.52         68.0       36.7  453.351155   \n",
       "2935  ...   73.0               6.53         71.0       39.8   57.348340   \n",
       "2936  ...   76.0               6.16         75.0       42.1  548.587312   \n",
       "2937  ...   78.0               7.10         78.0       43.5  547.358878   \n",
       "\n",
       "      Population   thinness  1-19 years   thinness 5-9 years  \\\n",
       "0     33736494.0                   17.2                 17.3   \n",
       "1       327582.0                   17.5                 17.5   \n",
       "2     31731688.0                   17.7                 17.7   \n",
       "3      3696958.0                   17.9                 18.0   \n",
       "4      2978599.0                   18.2                 18.2   \n",
       "...          ...                    ...                  ...   \n",
       "2933  12777511.0                    9.4                  9.4   \n",
       "2934  12633897.0                    9.8                  9.9   \n",
       "2935    125525.0                    1.2                  1.3   \n",
       "2936  12366165.0                    1.6                  1.7   \n",
       "2937  12222251.0                   11.0                 11.2   \n",
       "\n",
       "      Income composition of resources  Schooling  \n",
       "0                               0.479       10.1  \n",
       "1                               0.476       10.0  \n",
       "2                               0.470        9.9  \n",
       "3                               0.463        9.8  \n",
       "4                               0.454        9.5  \n",
       "...                               ...        ...  \n",
       "2933                            0.407        9.2  \n",
       "2934                            0.418        9.5  \n",
       "2935                            0.427       10.0  \n",
       "2936                            0.427        9.8  \n",
       "2937                            0.434        9.8  \n",
       "\n",
       "[2938 rows x 22 columns]"
      ],
      "text/html": "<div>\n<style scoped>\n    .dataframe tbody tr th:only-of-type {\n        vertical-align: middle;\n    }\n\n    .dataframe tbody tr th {\n        vertical-align: top;\n    }\n\n    .dataframe thead th {\n        text-align: right;\n    }\n</style>\n<table border=\"1\" class=\"dataframe\">\n  <thead>\n    <tr style=\"text-align: right;\">\n      <th></th>\n      <th>Country</th>\n      <th>Year</th>\n      <th>Status</th>\n      <th>Life expectancy</th>\n      <th>Adult Mortality</th>\n      <th>infant deaths</th>\n      <th>Alcohol</th>\n      <th>percentage expenditure</th>\n      <th>Hepatitis B</th>\n      <th>Measles</th>\n      <th>...</th>\n      <th>Polio</th>\n      <th>Total expenditure</th>\n      <th>Diphtheria</th>\n      <th>HIV/AIDS</th>\n      <th>GDP</th>\n      <th>Population</th>\n      <th>thinness  1-19 years</th>\n      <th>thinness 5-9 years</th>\n      <th>Income composition of resources</th>\n      <th>Schooling</th>\n    </tr>\n  </thead>\n  <tbody>\n    <tr>\n      <th>0</th>\n      <td>Afghanistan</td>\n      <td>2015</td>\n      <td>Developing</td>\n      <td>65.0</td>\n      <td>263.0</td>\n      <td>62</td>\n      <td>0.01</td>\n      <td>71.279624</td>\n      <td>65.0</td>\n      <td>1154</td>\n      <td>...</td>\n      <td>6.0</td>\n      <td>8.16</td>\n      <td>65.0</td>\n      <td>0.1</td>\n      <td>584.259210</td>\n      <td>33736494.0</td>\n      <td>17.2</td>\n      <td>17.3</td>\n      <td>0.479</td>\n      <td>10.1</td>\n    </tr>\n    <tr>\n      <th>1</th>\n      <td>Afghanistan</td>\n      <td>2014</td>\n      <td>Developing</td>\n      <td>59.9</td>\n      <td>271.0</td>\n      <td>64</td>\n      <td>0.01</td>\n      <td>73.523582</td>\n      <td>62.0</td>\n      <td>492</td>\n      <td>...</td>\n      <td>58.0</td>\n      <td>8.18</td>\n      <td>62.0</td>\n      <td>0.1</td>\n      <td>612.696514</td>\n      <td>327582.0</td>\n      <td>17.5</td>\n      <td>17.5</td>\n      <td>0.476</td>\n      <td>10.0</td>\n    </tr>\n    <tr>\n      <th>2</th>\n      <td>Afghanistan</td>\n      <td>2013</td>\n      <td>Developing</td>\n      <td>59.9</td>\n      <td>268.0</td>\n      <td>66</td>\n      <td>0.01</td>\n      <td>73.219243</td>\n      <td>64.0</td>\n      <td>430</td>\n      <td>...</td>\n      <td>62.0</td>\n      <td>8.13</td>\n      <td>64.0</td>\n      <td>0.1</td>\n      <td>631.744976</td>\n      <td>31731688.0</td>\n      <td>17.7</td>\n      <td>17.7</td>\n      <td>0.470</td>\n      <td>9.9</td>\n    </tr>\n    <tr>\n      <th>3</th>\n      <td>Afghanistan</td>\n      <td>2012</td>\n      <td>Developing</td>\n      <td>59.5</td>\n      <td>272.0</td>\n      <td>69</td>\n      <td>0.01</td>\n      <td>78.184215</td>\n      <td>67.0</td>\n      <td>2787</td>\n      <td>...</td>\n      <td>67.0</td>\n      <td>8.52</td>\n      <td>67.0</td>\n      <td>0.1</td>\n      <td>669.959000</td>\n      <td>3696958.0</td>\n      <td>17.9</td>\n      <td>18.0</td>\n      <td>0.463</td>\n      <td>9.8</td>\n    </tr>\n    <tr>\n      <th>4</th>\n      <td>Afghanistan</td>\n      <td>2011</td>\n      <td>Developing</td>\n      <td>59.2</td>\n      <td>275.0</td>\n      <td>71</td>\n      <td>0.01</td>\n      <td>7.097109</td>\n      <td>68.0</td>\n      <td>3013</td>\n      <td>...</td>\n      <td>68.0</td>\n      <td>7.87</td>\n      <td>68.0</td>\n      <td>0.1</td>\n      <td>63.537231</td>\n      <td>2978599.0</td>\n      <td>18.2</td>\n      <td>18.2</td>\n      <td>0.454</td>\n      <td>9.5</td>\n    </tr>\n    <tr>\n      <th>...</th>\n      <td>...</td>\n      <td>...</td>\n      <td>...</td>\n      <td>...</td>\n      <td>...</td>\n      <td>...</td>\n      <td>...</td>\n      <td>...</td>\n      <td>...</td>\n      <td>...</td>\n      <td>...</td>\n      <td>...</td>\n      <td>...</td>\n      <td>...</td>\n      <td>...</td>\n      <td>...</td>\n      <td>...</td>\n      <td>...</td>\n      <td>...</td>\n      <td>...</td>\n      <td>...</td>\n    </tr>\n    <tr>\n      <th>2933</th>\n      <td>Zimbabwe</td>\n      <td>2004</td>\n      <td>Developing</td>\n      <td>44.3</td>\n      <td>723.0</td>\n      <td>27</td>\n      <td>4.36</td>\n      <td>0.000000</td>\n      <td>68.0</td>\n      <td>31</td>\n      <td>...</td>\n      <td>67.0</td>\n      <td>7.13</td>\n      <td>65.0</td>\n      <td>33.6</td>\n      <td>454.366654</td>\n      <td>12777511.0</td>\n      <td>9.4</td>\n      <td>9.4</td>\n      <td>0.407</td>\n      <td>9.2</td>\n    </tr>\n    <tr>\n      <th>2934</th>\n      <td>Zimbabwe</td>\n      <td>2003</td>\n      <td>Developing</td>\n      <td>44.5</td>\n      <td>715.0</td>\n      <td>26</td>\n      <td>4.06</td>\n      <td>0.000000</td>\n      <td>7.0</td>\n      <td>998</td>\n      <td>...</td>\n      <td>7.0</td>\n      <td>6.52</td>\n      <td>68.0</td>\n      <td>36.7</td>\n      <td>453.351155</td>\n      <td>12633897.0</td>\n      <td>9.8</td>\n      <td>9.9</td>\n      <td>0.418</td>\n      <td>9.5</td>\n    </tr>\n    <tr>\n      <th>2935</th>\n      <td>Zimbabwe</td>\n      <td>2002</td>\n      <td>Developing</td>\n      <td>44.8</td>\n      <td>73.0</td>\n      <td>25</td>\n      <td>4.43</td>\n      <td>0.000000</td>\n      <td>73.0</td>\n      <td>304</td>\n      <td>...</td>\n      <td>73.0</td>\n      <td>6.53</td>\n      <td>71.0</td>\n      <td>39.8</td>\n      <td>57.348340</td>\n      <td>125525.0</td>\n      <td>1.2</td>\n      <td>1.3</td>\n      <td>0.427</td>\n      <td>10.0</td>\n    </tr>\n    <tr>\n      <th>2936</th>\n      <td>Zimbabwe</td>\n      <td>2001</td>\n      <td>Developing</td>\n      <td>45.3</td>\n      <td>686.0</td>\n      <td>25</td>\n      <td>1.72</td>\n      <td>0.000000</td>\n      <td>76.0</td>\n      <td>529</td>\n      <td>...</td>\n      <td>76.0</td>\n      <td>6.16</td>\n      <td>75.0</td>\n      <td>42.1</td>\n      <td>548.587312</td>\n      <td>12366165.0</td>\n      <td>1.6</td>\n      <td>1.7</td>\n      <td>0.427</td>\n      <td>9.8</td>\n    </tr>\n    <tr>\n      <th>2937</th>\n      <td>Zimbabwe</td>\n      <td>2000</td>\n      <td>Developing</td>\n      <td>46.0</td>\n      <td>665.0</td>\n      <td>24</td>\n      <td>1.68</td>\n      <td>0.000000</td>\n      <td>79.0</td>\n      <td>1483</td>\n      <td>...</td>\n      <td>78.0</td>\n      <td>7.10</td>\n      <td>78.0</td>\n      <td>43.5</td>\n      <td>547.358878</td>\n      <td>12222251.0</td>\n      <td>11.0</td>\n      <td>11.2</td>\n      <td>0.434</td>\n      <td>9.8</td>\n    </tr>\n  </tbody>\n</table>\n<p>2938 rows × 22 columns</p>\n</div>"
     },
     "metadata": {},
     "execution_count": 2
    }
   ],
   "source": [
    "# CARGAMOS EL DATASET\n",
    "data = pd.read_csv('Life Expectancy Data.csv')\n",
    "data"
   ]
  },
  {
   "cell_type": "code",
   "execution_count": 3,
   "metadata": {},
   "outputs": [
    {
     "output_type": "execute_result",
     "data": {
      "text/plain": [
       "Country                              0\n",
       "Year                                 0\n",
       "Status                               0\n",
       "Life expectancy                     10\n",
       "Adult Mortality                     10\n",
       "infant deaths                        0\n",
       "Alcohol                            194\n",
       "percentage expenditure               0\n",
       "Hepatitis B                        553\n",
       "Measles                              0\n",
       " BMI                                34\n",
       "under-five deaths                    0\n",
       "Polio                               19\n",
       "Total expenditure                  226\n",
       "Diphtheria                          19\n",
       " HIV/AIDS                            0\n",
       "GDP                                448\n",
       "Population                         652\n",
       " thinness  1-19 years               34\n",
       " thinness 5-9 years                 34\n",
       "Income composition of resources    167\n",
       "Schooling                          163\n",
       "dtype: int64"
      ]
     },
     "metadata": {},
     "execution_count": 3
    }
   ],
   "source": [
    "# VEMOS LOS DATOS FALTANTES\n",
    "data.isna().sum()"
   ]
  },
  {
   "cell_type": "code",
   "execution_count": 4,
   "metadata": {},
   "outputs": [],
   "source": [
    "# ELIMINAMOS LA DATA FALTANTE\n",
    "data.dropna(inplace=True)"
   ]
  },
  {
   "cell_type": "code",
   "execution_count": 5,
   "metadata": {},
   "outputs": [
    {
     "output_type": "execute_result",
     "data": {
      "text/plain": [
       "Country                            0\n",
       "Year                               0\n",
       "Status                             0\n",
       "Life expectancy                    0\n",
       "Adult Mortality                    0\n",
       "infant deaths                      0\n",
       "Alcohol                            0\n",
       "percentage expenditure             0\n",
       "Hepatitis B                        0\n",
       "Measles                            0\n",
       " BMI                               0\n",
       "under-five deaths                  0\n",
       "Polio                              0\n",
       "Total expenditure                  0\n",
       "Diphtheria                         0\n",
       " HIV/AIDS                          0\n",
       "GDP                                0\n",
       "Population                         0\n",
       " thinness  1-19 years              0\n",
       " thinness 5-9 years                0\n",
       "Income composition of resources    0\n",
       "Schooling                          0\n",
       "dtype: int64"
      ]
     },
     "metadata": {},
     "execution_count": 5
    }
   ],
   "source": [
    "# VERIFICAMOS QUE SE HAYA ELIMINADO LA DATA FALTANTE\n",
    "data.isna().sum()"
   ]
  },
  {
   "cell_type": "code",
   "execution_count": 6,
   "metadata": {},
   "outputs": [
    {
     "output_type": "execute_result",
     "data": {
      "text/plain": [
       "          Country      Status\n",
       "0     Afghanistan  Developing\n",
       "1     Afghanistan  Developing\n",
       "2     Afghanistan  Developing\n",
       "3     Afghanistan  Developing\n",
       "4     Afghanistan  Developing\n",
       "...           ...         ...\n",
       "2933     Zimbabwe  Developing\n",
       "2934     Zimbabwe  Developing\n",
       "2935     Zimbabwe  Developing\n",
       "2936     Zimbabwe  Developing\n",
       "2937     Zimbabwe  Developing\n",
       "\n",
       "[1649 rows x 2 columns]"
      ],
      "text/html": "<div>\n<style scoped>\n    .dataframe tbody tr th:only-of-type {\n        vertical-align: middle;\n    }\n\n    .dataframe tbody tr th {\n        vertical-align: top;\n    }\n\n    .dataframe thead th {\n        text-align: right;\n    }\n</style>\n<table border=\"1\" class=\"dataframe\">\n  <thead>\n    <tr style=\"text-align: right;\">\n      <th></th>\n      <th>Country</th>\n      <th>Status</th>\n    </tr>\n  </thead>\n  <tbody>\n    <tr>\n      <th>0</th>\n      <td>Afghanistan</td>\n      <td>Developing</td>\n    </tr>\n    <tr>\n      <th>1</th>\n      <td>Afghanistan</td>\n      <td>Developing</td>\n    </tr>\n    <tr>\n      <th>2</th>\n      <td>Afghanistan</td>\n      <td>Developing</td>\n    </tr>\n    <tr>\n      <th>3</th>\n      <td>Afghanistan</td>\n      <td>Developing</td>\n    </tr>\n    <tr>\n      <th>4</th>\n      <td>Afghanistan</td>\n      <td>Developing</td>\n    </tr>\n    <tr>\n      <th>...</th>\n      <td>...</td>\n      <td>...</td>\n    </tr>\n    <tr>\n      <th>2933</th>\n      <td>Zimbabwe</td>\n      <td>Developing</td>\n    </tr>\n    <tr>\n      <th>2934</th>\n      <td>Zimbabwe</td>\n      <td>Developing</td>\n    </tr>\n    <tr>\n      <th>2935</th>\n      <td>Zimbabwe</td>\n      <td>Developing</td>\n    </tr>\n    <tr>\n      <th>2936</th>\n      <td>Zimbabwe</td>\n      <td>Developing</td>\n    </tr>\n    <tr>\n      <th>2937</th>\n      <td>Zimbabwe</td>\n      <td>Developing</td>\n    </tr>\n  </tbody>\n</table>\n<p>1649 rows × 2 columns</p>\n</div>"
     },
     "metadata": {},
     "execution_count": 6
    }
   ],
   "source": [
    "categorical_col = data.select_dtypes(exclude='number')\n",
    "categorical_col"
   ]
  },
  {
   "cell_type": "code",
   "execution_count": 7,
   "metadata": {},
   "outputs": [],
   "source": [
    "# PODEMOS ELIMIMAR LA COLUMNA data['Country']\n",
    "data.drop('Country',axis=1,inplace=True)"
   ]
  },
  {
   "cell_type": "code",
   "execution_count": 8,
   "metadata": {},
   "outputs": [
    {
     "output_type": "execute_result",
     "data": {
      "text/plain": [
       "      Developed  Developing\n",
       "0             0           1\n",
       "1             0           1\n",
       "2             0           1\n",
       "3             0           1\n",
       "4             0           1\n",
       "...         ...         ...\n",
       "2933          0           1\n",
       "2934          0           1\n",
       "2935          0           1\n",
       "2936          0           1\n",
       "2937          0           1\n",
       "\n",
       "[1649 rows x 2 columns]"
      ],
      "text/html": "<div>\n<style scoped>\n    .dataframe tbody tr th:only-of-type {\n        vertical-align: middle;\n    }\n\n    .dataframe tbody tr th {\n        vertical-align: top;\n    }\n\n    .dataframe thead th {\n        text-align: right;\n    }\n</style>\n<table border=\"1\" class=\"dataframe\">\n  <thead>\n    <tr style=\"text-align: right;\">\n      <th></th>\n      <th>Developed</th>\n      <th>Developing</th>\n    </tr>\n  </thead>\n  <tbody>\n    <tr>\n      <th>0</th>\n      <td>0</td>\n      <td>1</td>\n    </tr>\n    <tr>\n      <th>1</th>\n      <td>0</td>\n      <td>1</td>\n    </tr>\n    <tr>\n      <th>2</th>\n      <td>0</td>\n      <td>1</td>\n    </tr>\n    <tr>\n      <th>3</th>\n      <td>0</td>\n      <td>1</td>\n    </tr>\n    <tr>\n      <th>4</th>\n      <td>0</td>\n      <td>1</td>\n    </tr>\n    <tr>\n      <th>...</th>\n      <td>...</td>\n      <td>...</td>\n    </tr>\n    <tr>\n      <th>2933</th>\n      <td>0</td>\n      <td>1</td>\n    </tr>\n    <tr>\n      <th>2934</th>\n      <td>0</td>\n      <td>1</td>\n    </tr>\n    <tr>\n      <th>2935</th>\n      <td>0</td>\n      <td>1</td>\n    </tr>\n    <tr>\n      <th>2936</th>\n      <td>0</td>\n      <td>1</td>\n    </tr>\n    <tr>\n      <th>2937</th>\n      <td>0</td>\n      <td>1</td>\n    </tr>\n  </tbody>\n</table>\n<p>1649 rows × 2 columns</p>\n</div>"
     },
     "metadata": {},
     "execution_count": 8
    }
   ],
   "source": [
    "# CONVERTIMOS LA COLUMNA data['status'] EN NUMERICO\n",
    "status_dummy = pd.get_dummies(data['Status'])\n",
    "status_dummy"
   ]
  },
  {
   "cell_type": "code",
   "execution_count": 9,
   "metadata": {},
   "outputs": [],
   "source": [
    "# ELIMINAMOS LA DATA CATEGORICA \n",
    "data.drop('Status',axis=1,inplace=True)"
   ]
  },
  {
   "cell_type": "code",
   "execution_count": 10,
   "metadata": {},
   "outputs": [],
   "source": [
    "# AGREGAMOS LA DATA DUMMY\n",
    "data['develop'] = status_dummy['Developed']"
   ]
  },
  {
   "cell_type": "code",
   "execution_count": 11,
   "metadata": {},
   "outputs": [
    {
     "output_type": "execute_result",
     "data": {
      "text/plain": [
       "                                  count          mean           std  \\\n",
       "Year                             1649.0  2.007841e+03  4.087711e+00   \n",
       "Life expectancy                  1649.0  6.930230e+01  8.796834e+00   \n",
       "Adult Mortality                  1649.0  1.682153e+02  1.253104e+02   \n",
       "infant deaths                    1649.0  3.255306e+01  1.208472e+02   \n",
       "Alcohol                          1649.0  4.533196e+00  4.029189e+00   \n",
       "percentage expenditure           1649.0  6.989736e+02  1.759229e+03   \n",
       "Hepatitis B                      1649.0  7.921771e+01  2.560466e+01   \n",
       "Measles                          1649.0  2.224494e+03  1.008580e+04   \n",
       " BMI                             1649.0  3.812862e+01  1.975425e+01   \n",
       "under-five deaths                1649.0  4.422013e+01  1.628980e+02   \n",
       "Polio                            1649.0  8.356458e+01  2.245056e+01   \n",
       "Total expenditure                1649.0  5.955925e+00  2.299385e+00   \n",
       "Diphtheria                       1649.0  8.415525e+01  2.157919e+01   \n",
       " HIV/AIDS                        1649.0  1.983869e+00  6.032360e+00   \n",
       "GDP                              1649.0  5.566032e+03  1.147590e+04   \n",
       "Population                       1649.0  1.465363e+07  7.046039e+07   \n",
       " thinness  1-19 years            1649.0  4.850637e+00  4.599228e+00   \n",
       " thinness 5-9 years              1649.0  4.907762e+00  4.653757e+00   \n",
       "Income composition of resources  1649.0  6.315512e-01  1.830887e-01   \n",
       "Schooling                        1649.0  1.211989e+01  2.795388e+00   \n",
       "develop                          1649.0  1.467556e-01  3.539695e-01   \n",
       "\n",
       "                                        min            25%           50%  \\\n",
       "Year                             2000.00000    2005.000000  2.008000e+03   \n",
       "Life expectancy                    44.00000      64.400000  7.170000e+01   \n",
       "Adult Mortality                     1.00000      77.000000  1.480000e+02   \n",
       "infant deaths                       0.00000       1.000000  3.000000e+00   \n",
       "Alcohol                             0.01000       0.810000  3.790000e+00   \n",
       "percentage expenditure              0.00000      37.438577  1.451023e+02   \n",
       "Hepatitis B                         2.00000      74.000000  8.900000e+01   \n",
       "Measles                             0.00000       0.000000  1.500000e+01   \n",
       " BMI                                2.00000      19.500000  4.370000e+01   \n",
       "under-five deaths                   0.00000       1.000000  4.000000e+00   \n",
       "Polio                               3.00000      81.000000  9.300000e+01   \n",
       "Total expenditure                   0.74000       4.410000  5.840000e+00   \n",
       "Diphtheria                          2.00000      82.000000  9.200000e+01   \n",
       " HIV/AIDS                           0.10000       0.100000  1.000000e-01   \n",
       "GDP                                 1.68135     462.149650  1.592572e+03   \n",
       "Population                         34.00000  191897.000000  1.419631e+06   \n",
       " thinness  1-19 years               0.10000       1.600000  3.000000e+00   \n",
       " thinness 5-9 years                 0.10000       1.700000  3.200000e+00   \n",
       "Income composition of resources     0.00000       0.509000  6.730000e-01   \n",
       "Schooling                           4.20000      10.300000  1.230000e+01   \n",
       "develop                             0.00000       0.000000  0.000000e+00   \n",
       "\n",
       "                                          75%           max  \n",
       "Year                             2.011000e+03  2.015000e+03  \n",
       "Life expectancy                  7.500000e+01  8.900000e+01  \n",
       "Adult Mortality                  2.270000e+02  7.230000e+02  \n",
       "infant deaths                    2.200000e+01  1.600000e+03  \n",
       "Alcohol                          7.340000e+00  1.787000e+01  \n",
       "percentage expenditure           5.093900e+02  1.896135e+04  \n",
       "Hepatitis B                      9.600000e+01  9.900000e+01  \n",
       "Measles                          3.730000e+02  1.314410e+05  \n",
       " BMI                             5.580000e+01  7.710000e+01  \n",
       "under-five deaths                2.900000e+01  2.100000e+03  \n",
       "Polio                            9.700000e+01  9.900000e+01  \n",
       "Total expenditure                7.470000e+00  1.439000e+01  \n",
       "Diphtheria                       9.700000e+01  9.900000e+01  \n",
       " HIV/AIDS                        7.000000e-01  5.060000e+01  \n",
       "GDP                              4.718513e+03  1.191727e+05  \n",
       "Population                       7.658972e+06  1.293859e+09  \n",
       " thinness  1-19 years            7.100000e+00  2.720000e+01  \n",
       " thinness 5-9 years              7.100000e+00  2.820000e+01  \n",
       "Income composition of resources  7.510000e-01  9.360000e-01  \n",
       "Schooling                        1.400000e+01  2.070000e+01  \n",
       "develop                          0.000000e+00  1.000000e+00  "
      ],
      "text/html": "<div>\n<style scoped>\n    .dataframe tbody tr th:only-of-type {\n        vertical-align: middle;\n    }\n\n    .dataframe tbody tr th {\n        vertical-align: top;\n    }\n\n    .dataframe thead th {\n        text-align: right;\n    }\n</style>\n<table border=\"1\" class=\"dataframe\">\n  <thead>\n    <tr style=\"text-align: right;\">\n      <th></th>\n      <th>count</th>\n      <th>mean</th>\n      <th>std</th>\n      <th>min</th>\n      <th>25%</th>\n      <th>50%</th>\n      <th>75%</th>\n      <th>max</th>\n    </tr>\n  </thead>\n  <tbody>\n    <tr>\n      <th>Year</th>\n      <td>1649.0</td>\n      <td>2.007841e+03</td>\n      <td>4.087711e+00</td>\n      <td>2000.00000</td>\n      <td>2005.000000</td>\n      <td>2.008000e+03</td>\n      <td>2.011000e+03</td>\n      <td>2.015000e+03</td>\n    </tr>\n    <tr>\n      <th>Life expectancy</th>\n      <td>1649.0</td>\n      <td>6.930230e+01</td>\n      <td>8.796834e+00</td>\n      <td>44.00000</td>\n      <td>64.400000</td>\n      <td>7.170000e+01</td>\n      <td>7.500000e+01</td>\n      <td>8.900000e+01</td>\n    </tr>\n    <tr>\n      <th>Adult Mortality</th>\n      <td>1649.0</td>\n      <td>1.682153e+02</td>\n      <td>1.253104e+02</td>\n      <td>1.00000</td>\n      <td>77.000000</td>\n      <td>1.480000e+02</td>\n      <td>2.270000e+02</td>\n      <td>7.230000e+02</td>\n    </tr>\n    <tr>\n      <th>infant deaths</th>\n      <td>1649.0</td>\n      <td>3.255306e+01</td>\n      <td>1.208472e+02</td>\n      <td>0.00000</td>\n      <td>1.000000</td>\n      <td>3.000000e+00</td>\n      <td>2.200000e+01</td>\n      <td>1.600000e+03</td>\n    </tr>\n    <tr>\n      <th>Alcohol</th>\n      <td>1649.0</td>\n      <td>4.533196e+00</td>\n      <td>4.029189e+00</td>\n      <td>0.01000</td>\n      <td>0.810000</td>\n      <td>3.790000e+00</td>\n      <td>7.340000e+00</td>\n      <td>1.787000e+01</td>\n    </tr>\n    <tr>\n      <th>percentage expenditure</th>\n      <td>1649.0</td>\n      <td>6.989736e+02</td>\n      <td>1.759229e+03</td>\n      <td>0.00000</td>\n      <td>37.438577</td>\n      <td>1.451023e+02</td>\n      <td>5.093900e+02</td>\n      <td>1.896135e+04</td>\n    </tr>\n    <tr>\n      <th>Hepatitis B</th>\n      <td>1649.0</td>\n      <td>7.921771e+01</td>\n      <td>2.560466e+01</td>\n      <td>2.00000</td>\n      <td>74.000000</td>\n      <td>8.900000e+01</td>\n      <td>9.600000e+01</td>\n      <td>9.900000e+01</td>\n    </tr>\n    <tr>\n      <th>Measles</th>\n      <td>1649.0</td>\n      <td>2.224494e+03</td>\n      <td>1.008580e+04</td>\n      <td>0.00000</td>\n      <td>0.000000</td>\n      <td>1.500000e+01</td>\n      <td>3.730000e+02</td>\n      <td>1.314410e+05</td>\n    </tr>\n    <tr>\n      <th>BMI</th>\n      <td>1649.0</td>\n      <td>3.812862e+01</td>\n      <td>1.975425e+01</td>\n      <td>2.00000</td>\n      <td>19.500000</td>\n      <td>4.370000e+01</td>\n      <td>5.580000e+01</td>\n      <td>7.710000e+01</td>\n    </tr>\n    <tr>\n      <th>under-five deaths</th>\n      <td>1649.0</td>\n      <td>4.422013e+01</td>\n      <td>1.628980e+02</td>\n      <td>0.00000</td>\n      <td>1.000000</td>\n      <td>4.000000e+00</td>\n      <td>2.900000e+01</td>\n      <td>2.100000e+03</td>\n    </tr>\n    <tr>\n      <th>Polio</th>\n      <td>1649.0</td>\n      <td>8.356458e+01</td>\n      <td>2.245056e+01</td>\n      <td>3.00000</td>\n      <td>81.000000</td>\n      <td>9.300000e+01</td>\n      <td>9.700000e+01</td>\n      <td>9.900000e+01</td>\n    </tr>\n    <tr>\n      <th>Total expenditure</th>\n      <td>1649.0</td>\n      <td>5.955925e+00</td>\n      <td>2.299385e+00</td>\n      <td>0.74000</td>\n      <td>4.410000</td>\n      <td>5.840000e+00</td>\n      <td>7.470000e+00</td>\n      <td>1.439000e+01</td>\n    </tr>\n    <tr>\n      <th>Diphtheria</th>\n      <td>1649.0</td>\n      <td>8.415525e+01</td>\n      <td>2.157919e+01</td>\n      <td>2.00000</td>\n      <td>82.000000</td>\n      <td>9.200000e+01</td>\n      <td>9.700000e+01</td>\n      <td>9.900000e+01</td>\n    </tr>\n    <tr>\n      <th>HIV/AIDS</th>\n      <td>1649.0</td>\n      <td>1.983869e+00</td>\n      <td>6.032360e+00</td>\n      <td>0.10000</td>\n      <td>0.100000</td>\n      <td>1.000000e-01</td>\n      <td>7.000000e-01</td>\n      <td>5.060000e+01</td>\n    </tr>\n    <tr>\n      <th>GDP</th>\n      <td>1649.0</td>\n      <td>5.566032e+03</td>\n      <td>1.147590e+04</td>\n      <td>1.68135</td>\n      <td>462.149650</td>\n      <td>1.592572e+03</td>\n      <td>4.718513e+03</td>\n      <td>1.191727e+05</td>\n    </tr>\n    <tr>\n      <th>Population</th>\n      <td>1649.0</td>\n      <td>1.465363e+07</td>\n      <td>7.046039e+07</td>\n      <td>34.00000</td>\n      <td>191897.000000</td>\n      <td>1.419631e+06</td>\n      <td>7.658972e+06</td>\n      <td>1.293859e+09</td>\n    </tr>\n    <tr>\n      <th>thinness  1-19 years</th>\n      <td>1649.0</td>\n      <td>4.850637e+00</td>\n      <td>4.599228e+00</td>\n      <td>0.10000</td>\n      <td>1.600000</td>\n      <td>3.000000e+00</td>\n      <td>7.100000e+00</td>\n      <td>2.720000e+01</td>\n    </tr>\n    <tr>\n      <th>thinness 5-9 years</th>\n      <td>1649.0</td>\n      <td>4.907762e+00</td>\n      <td>4.653757e+00</td>\n      <td>0.10000</td>\n      <td>1.700000</td>\n      <td>3.200000e+00</td>\n      <td>7.100000e+00</td>\n      <td>2.820000e+01</td>\n    </tr>\n    <tr>\n      <th>Income composition of resources</th>\n      <td>1649.0</td>\n      <td>6.315512e-01</td>\n      <td>1.830887e-01</td>\n      <td>0.00000</td>\n      <td>0.509000</td>\n      <td>6.730000e-01</td>\n      <td>7.510000e-01</td>\n      <td>9.360000e-01</td>\n    </tr>\n    <tr>\n      <th>Schooling</th>\n      <td>1649.0</td>\n      <td>1.211989e+01</td>\n      <td>2.795388e+00</td>\n      <td>4.20000</td>\n      <td>10.300000</td>\n      <td>1.230000e+01</td>\n      <td>1.400000e+01</td>\n      <td>2.070000e+01</td>\n    </tr>\n    <tr>\n      <th>develop</th>\n      <td>1649.0</td>\n      <td>1.467556e-01</td>\n      <td>3.539695e-01</td>\n      <td>0.00000</td>\n      <td>0.000000</td>\n      <td>0.000000e+00</td>\n      <td>0.000000e+00</td>\n      <td>1.000000e+00</td>\n    </tr>\n  </tbody>\n</table>\n</div>"
     },
     "metadata": {},
     "execution_count": 11
    }
   ],
   "source": [
    "data.describe().T"
   ]
  },
  {
   "cell_type": "code",
   "execution_count": 12,
   "metadata": {},
   "outputs": [],
   "source": [
    "# ESTANDARIZAMOS NUESTRA DATA CON StandardScaler()\n",
    "\n",
    "s_scaler = StandardScaler()\n",
    "scaled_data = s_scaler.fit_transform(data)\n",
    "\n",
    "scaled_data = pd.DataFrame(scaled_data,\n",
    "columns=data.columns,\n",
    "index=data.index)"
   ]
  },
  {
   "cell_type": "code",
   "execution_count": 13,
   "metadata": {},
   "outputs": [
    {
     "output_type": "execute_result",
     "data": {
      "text/plain": [
       "                                  count          mean       std       min  \\\n",
       "Year                             1649.0 -7.962905e-15  1.000303 -1.918650   \n",
       "Life expectancy                  1649.0  7.239004e-16  1.000303 -2.877169   \n",
       "Adult Mortality                  1649.0 -7.756076e-17  1.000303 -1.334813   \n",
       "infant deaths                    1649.0 -4.308931e-18  1.000303 -0.269455   \n",
       "Alcohol                          1649.0  6.894290e-17  1.000303 -1.122948   \n",
       "percentage expenditure           1649.0  2.585359e-17  1.000303 -0.397439   \n",
       "Hepatitis B                      1649.0  1.637394e-16  1.000303 -3.016682   \n",
       "Measles                          1649.0 -4.308931e-18  1.000303 -0.220624   \n",
       " BMI                             1649.0 -6.894290e-17  1.000303 -1.829459   \n",
       "under-five deaths                1649.0 -2.585359e-17  1.000303 -0.271541   \n",
       "Polio                            1649.0  2.574586e-16  1.000303 -3.589622   \n",
       "Total expenditure                1649.0  1.680483e-16  1.000303 -2.269088   \n",
       "Diphtheria                       1649.0  1.292679e-17  1.000303 -3.808306   \n",
       " HIV/AIDS                        1649.0  6.032504e-17  1.000303 -0.312389   \n",
       "GDP                              1649.0  8.617862e-17  1.000303 -0.485020   \n",
       "Population                       1649.0 -3.016252e-17  1.000303 -0.208032   \n",
       " thinness  1-19 years            1649.0  5.601610e-17  1.000303 -1.033234   \n",
       " thinness 5-9 years              1649.0 -7.756076e-17  1.000303 -1.033406   \n",
       "Income composition of resources  1649.0  1.723572e-16  1.000303 -3.450474   \n",
       "Schooling                        1649.0  7.928433e-16  1.000303 -2.834059   \n",
       "develop                          1649.0 -3.016252e-17  1.000303 -0.414725   \n",
       "\n",
       "                                      25%       50%       75%        max  \n",
       "Year                            -0.695101  0.039029  0.773159   1.751998  \n",
       "Life expectancy                 -0.557450  0.272646  0.647895   2.239859  \n",
       "Adult Mortality                 -0.728135 -0.161371  0.469255   4.428626  \n",
       "infant deaths                   -0.261178 -0.244623 -0.087352  12.974422  \n",
       "Alcohol                         -0.924336 -0.184509  0.696829   3.311051  \n",
       "percentage expenditure          -0.376151 -0.314933 -0.107798  10.384044  \n",
       "Hepatitis B                     -0.203841  0.382167  0.655638   0.772839  \n",
       "Measles                         -0.220624 -0.219136 -0.183630  12.815610  \n",
       " BMI                            -0.943305  0.282120  0.894832   1.973408  \n",
       "under-five deaths               -0.265401 -0.246979 -0.093462  12.623872  \n",
       "Polio                           -0.114267  0.420403  0.598626   0.687738  \n",
       "Total expenditure               -0.672525 -0.050431  0.658669   3.669082  \n",
       "Diphtheria                      -0.099906  0.363644  0.595419   0.688128  \n",
       " HIV/AIDS                       -0.312389 -0.312389 -0.212895   8.061668  \n",
       "GDP                             -0.444883 -0.346349 -0.073874   9.902593  \n",
       "Population                      -0.205308 -0.187879 -0.099301  18.160468  \n",
       " thinness  1-19 years           -0.706993 -0.402502  0.489222   4.860846  \n",
       " thinness 5-9 years             -0.689494 -0.367076  0.471211   5.006558  \n",
       "Income composition of resources -0.669557  0.226455  0.652607   1.663353  \n",
       "Schooling                       -0.651231  0.064450  0.672780   3.070312  \n",
       "develop                         -0.414725 -0.414725 -0.414725   2.411234  "
      ],
      "text/html": "<div>\n<style scoped>\n    .dataframe tbody tr th:only-of-type {\n        vertical-align: middle;\n    }\n\n    .dataframe tbody tr th {\n        vertical-align: top;\n    }\n\n    .dataframe thead th {\n        text-align: right;\n    }\n</style>\n<table border=\"1\" class=\"dataframe\">\n  <thead>\n    <tr style=\"text-align: right;\">\n      <th></th>\n      <th>count</th>\n      <th>mean</th>\n      <th>std</th>\n      <th>min</th>\n      <th>25%</th>\n      <th>50%</th>\n      <th>75%</th>\n      <th>max</th>\n    </tr>\n  </thead>\n  <tbody>\n    <tr>\n      <th>Year</th>\n      <td>1649.0</td>\n      <td>-7.962905e-15</td>\n      <td>1.000303</td>\n      <td>-1.918650</td>\n      <td>-0.695101</td>\n      <td>0.039029</td>\n      <td>0.773159</td>\n      <td>1.751998</td>\n    </tr>\n    <tr>\n      <th>Life expectancy</th>\n      <td>1649.0</td>\n      <td>7.239004e-16</td>\n      <td>1.000303</td>\n      <td>-2.877169</td>\n      <td>-0.557450</td>\n      <td>0.272646</td>\n      <td>0.647895</td>\n      <td>2.239859</td>\n    </tr>\n    <tr>\n      <th>Adult Mortality</th>\n      <td>1649.0</td>\n      <td>-7.756076e-17</td>\n      <td>1.000303</td>\n      <td>-1.334813</td>\n      <td>-0.728135</td>\n      <td>-0.161371</td>\n      <td>0.469255</td>\n      <td>4.428626</td>\n    </tr>\n    <tr>\n      <th>infant deaths</th>\n      <td>1649.0</td>\n      <td>-4.308931e-18</td>\n      <td>1.000303</td>\n      <td>-0.269455</td>\n      <td>-0.261178</td>\n      <td>-0.244623</td>\n      <td>-0.087352</td>\n      <td>12.974422</td>\n    </tr>\n    <tr>\n      <th>Alcohol</th>\n      <td>1649.0</td>\n      <td>6.894290e-17</td>\n      <td>1.000303</td>\n      <td>-1.122948</td>\n      <td>-0.924336</td>\n      <td>-0.184509</td>\n      <td>0.696829</td>\n      <td>3.311051</td>\n    </tr>\n    <tr>\n      <th>percentage expenditure</th>\n      <td>1649.0</td>\n      <td>2.585359e-17</td>\n      <td>1.000303</td>\n      <td>-0.397439</td>\n      <td>-0.376151</td>\n      <td>-0.314933</td>\n      <td>-0.107798</td>\n      <td>10.384044</td>\n    </tr>\n    <tr>\n      <th>Hepatitis B</th>\n      <td>1649.0</td>\n      <td>1.637394e-16</td>\n      <td>1.000303</td>\n      <td>-3.016682</td>\n      <td>-0.203841</td>\n      <td>0.382167</td>\n      <td>0.655638</td>\n      <td>0.772839</td>\n    </tr>\n    <tr>\n      <th>Measles</th>\n      <td>1649.0</td>\n      <td>-4.308931e-18</td>\n      <td>1.000303</td>\n      <td>-0.220624</td>\n      <td>-0.220624</td>\n      <td>-0.219136</td>\n      <td>-0.183630</td>\n      <td>12.815610</td>\n    </tr>\n    <tr>\n      <th>BMI</th>\n      <td>1649.0</td>\n      <td>-6.894290e-17</td>\n      <td>1.000303</td>\n      <td>-1.829459</td>\n      <td>-0.943305</td>\n      <td>0.282120</td>\n      <td>0.894832</td>\n      <td>1.973408</td>\n    </tr>\n    <tr>\n      <th>under-five deaths</th>\n      <td>1649.0</td>\n      <td>-2.585359e-17</td>\n      <td>1.000303</td>\n      <td>-0.271541</td>\n      <td>-0.265401</td>\n      <td>-0.246979</td>\n      <td>-0.093462</td>\n      <td>12.623872</td>\n    </tr>\n    <tr>\n      <th>Polio</th>\n      <td>1649.0</td>\n      <td>2.574586e-16</td>\n      <td>1.000303</td>\n      <td>-3.589622</td>\n      <td>-0.114267</td>\n      <td>0.420403</td>\n      <td>0.598626</td>\n      <td>0.687738</td>\n    </tr>\n    <tr>\n      <th>Total expenditure</th>\n      <td>1649.0</td>\n      <td>1.680483e-16</td>\n      <td>1.000303</td>\n      <td>-2.269088</td>\n      <td>-0.672525</td>\n      <td>-0.050431</td>\n      <td>0.658669</td>\n      <td>3.669082</td>\n    </tr>\n    <tr>\n      <th>Diphtheria</th>\n      <td>1649.0</td>\n      <td>1.292679e-17</td>\n      <td>1.000303</td>\n      <td>-3.808306</td>\n      <td>-0.099906</td>\n      <td>0.363644</td>\n      <td>0.595419</td>\n      <td>0.688128</td>\n    </tr>\n    <tr>\n      <th>HIV/AIDS</th>\n      <td>1649.0</td>\n      <td>6.032504e-17</td>\n      <td>1.000303</td>\n      <td>-0.312389</td>\n      <td>-0.312389</td>\n      <td>-0.312389</td>\n      <td>-0.212895</td>\n      <td>8.061668</td>\n    </tr>\n    <tr>\n      <th>GDP</th>\n      <td>1649.0</td>\n      <td>8.617862e-17</td>\n      <td>1.000303</td>\n      <td>-0.485020</td>\n      <td>-0.444883</td>\n      <td>-0.346349</td>\n      <td>-0.073874</td>\n      <td>9.902593</td>\n    </tr>\n    <tr>\n      <th>Population</th>\n      <td>1649.0</td>\n      <td>-3.016252e-17</td>\n      <td>1.000303</td>\n      <td>-0.208032</td>\n      <td>-0.205308</td>\n      <td>-0.187879</td>\n      <td>-0.099301</td>\n      <td>18.160468</td>\n    </tr>\n    <tr>\n      <th>thinness  1-19 years</th>\n      <td>1649.0</td>\n      <td>5.601610e-17</td>\n      <td>1.000303</td>\n      <td>-1.033234</td>\n      <td>-0.706993</td>\n      <td>-0.402502</td>\n      <td>0.489222</td>\n      <td>4.860846</td>\n    </tr>\n    <tr>\n      <th>thinness 5-9 years</th>\n      <td>1649.0</td>\n      <td>-7.756076e-17</td>\n      <td>1.000303</td>\n      <td>-1.033406</td>\n      <td>-0.689494</td>\n      <td>-0.367076</td>\n      <td>0.471211</td>\n      <td>5.006558</td>\n    </tr>\n    <tr>\n      <th>Income composition of resources</th>\n      <td>1649.0</td>\n      <td>1.723572e-16</td>\n      <td>1.000303</td>\n      <td>-3.450474</td>\n      <td>-0.669557</td>\n      <td>0.226455</td>\n      <td>0.652607</td>\n      <td>1.663353</td>\n    </tr>\n    <tr>\n      <th>Schooling</th>\n      <td>1649.0</td>\n      <td>7.928433e-16</td>\n      <td>1.000303</td>\n      <td>-2.834059</td>\n      <td>-0.651231</td>\n      <td>0.064450</td>\n      <td>0.672780</td>\n      <td>3.070312</td>\n    </tr>\n    <tr>\n      <th>develop</th>\n      <td>1649.0</td>\n      <td>-3.016252e-17</td>\n      <td>1.000303</td>\n      <td>-0.414725</td>\n      <td>-0.414725</td>\n      <td>-0.414725</td>\n      <td>-0.414725</td>\n      <td>2.411234</td>\n    </tr>\n  </tbody>\n</table>\n</div>"
     },
     "metadata": {},
     "execution_count": 13
    }
   ],
   "source": [
    "scaled_data.describe().T"
   ]
  },
  {
   "cell_type": "code",
   "execution_count": 14,
   "metadata": {},
   "outputs": [],
   "source": [
    "target = data['Life expectancy ']\n",
    "features = scaled_data.drop('Life expectancy ',axis=1).values"
   ]
  },
  {
   "cell_type": "code",
   "execution_count": 15,
   "metadata": {},
   "outputs": [],
   "source": [
    "# DIVIDIMOS LA DATA EN TRAIN_TEST\n",
    "from sklearn.model_selection import train_test_split\n",
    "\n",
    "x_train,x_test, y_train, y_test = train_test_split(features,target,\n",
    "test_size=0.2,\n",
    "random_state=1)"
   ]
  },
  {
   "cell_type": "code",
   "execution_count": 16,
   "metadata": {},
   "outputs": [
    {
     "output_type": "execute_result",
     "data": {
      "text/plain": [
       "(1319, 20)"
      ]
     },
     "metadata": {},
     "execution_count": 16
    }
   ],
   "source": [
    "x_train.shape"
   ]
  },
  {
   "source": [
    "# DEFINIENDO LOS MODELOS "
   ],
   "cell_type": "markdown",
   "metadata": {}
  },
  {
   "cell_type": "code",
   "execution_count": null,
   "metadata": {},
   "outputs": [],
   "source": [
    "def single_layer_model():\n",
    "    '''\n",
    "    Red Neuronal de una sola copa\n",
    "    - Optimer : ADAptive Moment (ADAM)\n",
    "    - Metrics : Mean Square Erro (mse), \n",
    "                Mean Absolute Error (mae)\n",
    "    '''\n",
    "\n",
    "    model = tf.keras.Sequential([\n",
    "        tf.keras.layers.Dense(32, input_shape=(x_train.shape[1],), activation='sigmoid'),\n",
    "        tf.keras.layers.Dense(1)\n",
    "    ])\n",
    "\n",
    "    optimizer = tf.keras.optimizers.Adam(learning_rate=0.01)\n",
    "    \n",
    "    model.compile(loss='mse',\n",
    "    metrics=['mse','mae'],\n",
    "    optimizer=optimizer)\n",
    "\n",
    "    return model \n"
   ]
  },
  {
   "cell_type": "code",
   "execution_count": null,
   "metadata": {},
   "outputs": [],
   "source": [
    "model = single_layer_model()\n",
    "\n",
    "# PARA VER UN RESUMEN DE NUESTRO MODELO\n",
    "model.summary()"
   ]
  },
  {
   "cell_type": "code",
   "execution_count": null,
   "metadata": {},
   "outputs": [],
   "source": [
    "# PARA VER DE MANERA VISUAL NUESTRO MODELO\n",
    "tf.keras.utils.plot_model(model)"
   ]
  },
  {
   "cell_type": "code",
   "execution_count": null,
   "metadata": {},
   "outputs": [],
   "source": [
    "num_epochs = 100\n",
    "training_history = model.fit(x_train,\n",
    "                            y_train,\n",
    "                            epochs=num_epochs,\n",
    "                            validation_split=0.2,\n",
    "                            verbose=True)"
   ]
  },
  {
   "cell_type": "code",
   "execution_count": null,
   "metadata": {},
   "outputs": [],
   "source": [
    "# HACEMOS Y_PRED\n",
    "y_pred = model.predict(x_test)"
   ]
  },
  {
   "cell_type": "code",
   "execution_count": null,
   "metadata": {},
   "outputs": [],
   "source": [
    "# HALLAMOS R2_SCORE\n",
    "r2 = r2_score(y_test, y_pred)\n",
    "r2"
   ]
  },
  {
   "cell_type": "code",
   "execution_count": null,
   "metadata": {},
   "outputs": [],
   "source": [
    "# VISUALIZAMOS Y_TEST AL LADO DE Y_PRED\n",
    "pd.DataFrame({'y_test':y_test.values.flatten(),\n",
    "'y_perd':y_pred.flatten(),\n",
    "'error':abs(y_test.values.flatten()-y_pred.flatten())}\n",
    ").sample(15)"
   ]
  },
  {
   "cell_type": "code",
   "execution_count": null,
   "metadata": {},
   "outputs": [],
   "source": [
    "# PARA VER LA CORRELACIÓN DE FORMA MÁS VISUAL \n",
    "plt.figure(figsize=(10,10))\n",
    "plt.scatter(y_test,y_pred)\n",
    "plt.show()"
   ]
  },
  {
   "source": [
    "# MULTIPLE LAYERS MODEL"
   ],
   "cell_type": "markdown",
   "metadata": {}
  },
  {
   "cell_type": "code",
   "execution_count": null,
   "metadata": {},
   "outputs": [],
   "source": [
    "# MULTIPLE LAYERS MODEL\n",
    "def multiple_layers_model():\n",
    "    model = tf.keras.Sequential([\n",
    "        tf.keras.layers.Dense(32,input_shape=(x_train.shape[1],), activation='relu'),\n",
    "        tf.keras.layers.Dense(16, activation='relu'),\n",
    "        tf.keras.layers.Dense(4,activation='relu'),\n",
    "        tf.keras.layers.Dense(1)\n",
    "    ])\n",
    "\n",
    "    optimizer = tf.keras.optimizers.Adam(learning_rate=0.01)\n",
    "\n",
    "    model.compile(loss='mse',\n",
    "    metrics=['mae','mse'],\n",
    "    optimizer=optimizer)\n",
    "\n",
    "    return model"
   ]
  },
  {
   "cell_type": "code",
   "execution_count": null,
   "metadata": {},
   "outputs": [],
   "source": [
    "model = multiple_layers_model()\n",
    "\n",
    "model.summary()"
   ]
  },
  {
   "cell_type": "code",
   "execution_count": null,
   "metadata": {},
   "outputs": [],
   "source": [
    "tf.keras.utils.plot_model(model)"
   ]
  },
  {
   "cell_type": "code",
   "execution_count": null,
   "metadata": {},
   "outputs": [],
   "source": [
    "tf.keras.utils.plot_model(model, show_shapes=True)"
   ]
  },
  {
   "cell_type": "code",
   "execution_count": null,
   "metadata": {},
   "outputs": [],
   "source": [
    "!rm -rf seq_logs\n",
    "!ls -l"
   ]
  },
  {
   "cell_type": "code",
   "execution_count": null,
   "metadata": {},
   "outputs": [],
   "source": [
    "# PARA VISUALIZAR LOS LOGS EN UN TENSORBOARD\n",
    "\n",
    "logdir = os.path.join(\"seq_logs\",datetime.datetime.now().strftime(\"%y%m%d-%H%m%S\"))\n",
    "\n",
    "tensorboard_callback = tf.keras.callbacks.TensorBoard(logdir, histogram_freq=1)"
   ]
  },
  {
   "cell_type": "code",
   "execution_count": null,
   "metadata": {},
   "outputs": [],
   "source": [
    "\n",
    "model.fit(x_train,y_train,\n",
    "            epochs=100,\n",
    "            validation_split=0.2,\n",
    "            batch_size = 100,\n",
    "            callbacks = [tensorboard_callback])"
   ]
  },
  {
   "cell_type": "code",
   "execution_count": null,
   "metadata": {},
   "outputs": [],
   "source": [
    "%load_ext tensorboard\n",
    "%tensorboard --logdir seq_logs --port 6050"
   ]
  },
  {
   "cell_type": "code",
   "execution_count": null,
   "metadata": {},
   "outputs": [],
   "source": [
    "model.evaluate(x_test,y_test)"
   ]
  },
  {
   "cell_type": "code",
   "execution_count": null,
   "metadata": {},
   "outputs": [],
   "source": [
    "y_pred = model.predict(x_test)\n",
    "\n",
    "r2 = r2_score(y_test,y_pred)\n",
    "r2"
   ]
  },
  {
   "cell_type": "code",
   "execution_count": null,
   "metadata": {},
   "outputs": [],
   "source": [
    "# VISUALIZAMOS Y_TEST AL LADO DE Y_PRED\n",
    "pd.DataFrame({'y_test':y_test.values.flatten(),\n",
    "'y_perd':y_pred.flatten(),\n",
    "'error':abs(y_test.values.flatten()-y_pred.flatten())}\n",
    ").sample(15)"
   ]
  },
  {
   "source": [
    "# MODEL WITH STOCASTIC GRADIENT DISCENT (SGD)"
   ],
   "cell_type": "markdown",
   "metadata": {}
  },
  {
   "cell_type": "code",
   "execution_count": 74,
   "metadata": {},
   "outputs": [],
   "source": [
    "del model_sgd"
   ]
  },
  {
   "cell_type": "code",
   "execution_count": 75,
   "metadata": {},
   "outputs": [],
   "source": [
    "\n",
    "\n",
    "def model_with_sgd():\n",
    "    model = tf.keras.Sequential([\n",
    "        tf.keras.layers.Dense(32, input_shape=(x_train.shape[1],), activation='relu'),\n",
    "        tf.keras.layers.Dense(16, activation='relu'),\n",
    "        tf.keras.layers.Dense(4, activation='relu'),\n",
    "        tf.keras.layers.Dense(1)\n",
    "    ])\n",
    "\n",
    "    optimizer = tf.keras.optimizers.SGD(learning_rate=0.001)\n",
    "\n",
    "    model.compile(loss='mse',\n",
    "                    metrics=['mae','mse'],\n",
    "                    optimizer=optimizer)\n",
    "\n",
    "    return model"
   ]
  },
  {
   "cell_type": "code",
   "execution_count": 76,
   "metadata": {},
   "outputs": [],
   "source": [
    "model_sgd = model_with_sgd()"
   ]
  },
  {
   "cell_type": "code",
   "execution_count": 77,
   "metadata": {},
   "outputs": [
    {
     "output_type": "execute_result",
     "data": {
      "image/png": "[encoded data removed]",
      "text/plain": [
       "<IPython.core.display.Image object>"
      ]
     },
     "metadata": {},
     "execution_count": 77
    }
   ],
   "source": [
    "tf.keras.utils.plot_model(model_sgd,show_shapes=True )"
   ]
  },
  {
   "cell_type": "code",
   "execution_count": 78,
   "metadata": {},
   "outputs": [
    {
     "output_type": "stream",
     "name": "stdout",
     "text": [
      "Epoch 1/100\n",
      "11/11 [==============================] - 0s 17ms/step - loss: 4917.2953 - mae: 69.5940 - mse: 4917.2953 - val_loss: 4645.3525 - val_mae: 67.5262 - val_mse: 4645.3525\n",
      "Epoch 2/100\n",
      "11/11 [==============================] - 0s 5ms/step - loss: 4140.9712 - mae: 62.5314 - mse: 4140.9713 - val_loss: 2410.0525 - val_mae: 44.3542 - val_mse: 2410.0525\n",
      "Epoch 3/100\n",
      "11/11 [==============================] - 0s 5ms/step - loss: 1930.2287 - mae: 39.2160 - mse: 1930.2287 - val_loss: 733.2391 - val_mae: 23.0279 - val_mse: 733.2391\n",
      "Epoch 4/100\n",
      "11/11 [==============================] - 0s 7ms/step - loss: 812.1842 - mae: 23.7373 - mse: 812.1842 - val_loss: 576.4514 - val_mae: 22.7415 - val_mse: 576.4514\n",
      "Epoch 5/100\n",
      "11/11 [==============================] - 0s 6ms/step - loss: 462.7012 - mae: 17.9213 - mse: 462.7012 - val_loss: 544.1697 - val_mae: 22.0504 - val_mse: 544.1696\n",
      "Epoch 6/100\n",
      "11/11 [==============================] - 0s 5ms/step - loss: 297.7771 - mae: 15.4932 - mse: 297.7771 - val_loss: 127.0917 - val_mae: 9.8848 - val_mse: 127.0917\n",
      "Epoch 7/100\n",
      "11/11 [==============================] - 0s 5ms/step - loss: 110.3594 - mae: 9.2314 - mse: 110.3594 - val_loss: 98.7823 - val_mae: 8.7106 - val_mse: 98.7823\n",
      "Epoch 8/100\n",
      "11/11 [==============================] - 0s 5ms/step - loss: 75.0093 - mae: 7.5032 - mse: 75.0093 - val_loss: 18.5755 - val_mae: 3.2447 - val_mse: 18.5755\n",
      "Epoch 9/100\n",
      "11/11 [==============================] - 0s 5ms/step - loss: 14.5383 - mae: 2.8670 - mse: 14.5383 - val_loss: 21.2092 - val_mae: 3.7016 - val_mse: 21.2092\n",
      "Epoch 10/100\n",
      "11/11 [==============================] - 0s 4ms/step - loss: 36.5108 - mae: 5.0586 - mse: 36.5108 - val_loss: 26.4707 - val_mae: 4.1232 - val_mse: 26.4707\n",
      "Epoch 11/100\n",
      "11/11 [==============================] - 0s 6ms/step - loss: 26.6485 - mae: 4.2127 - mse: 26.6485 - val_loss: 42.9096 - val_mae: 5.6099 - val_mse: 42.9096\n",
      "Epoch 12/100\n",
      "11/11 [==============================] - 0s 5ms/step - loss: 33.4404 - mae: 4.9527 - mse: 33.4404 - val_loss: 19.0618 - val_mae: 3.3846 - val_mse: 19.0618\n",
      "Epoch 13/100\n",
      "11/11 [==============================] - 0s 6ms/step - loss: 13.5083 - mae: 2.8085 - mse: 13.5083 - val_loss: 12.6278 - val_mae: 2.5830 - val_mse: 12.6278\n",
      "Epoch 14/100\n",
      "11/11 [==============================] - 0s 5ms/step - loss: 10.2824 - mae: 2.4513 - mse: 10.2824 - val_loss: 12.0078 - val_mae: 2.5037 - val_mse: 12.0078\n",
      "Epoch 15/100\n",
      "11/11 [==============================] - 0s 5ms/step - loss: 9.7999 - mae: 2.3389 - mse: 9.7999 - val_loss: 12.1933 - val_mae: 2.5029 - val_mse: 12.1933\n",
      "Epoch 16/100\n",
      "11/11 [==============================] - 0s 7ms/step - loss: 9.9566 - mae: 2.3796 - mse: 9.9566 - val_loss: 15.0031 - val_mae: 2.9799 - val_mse: 15.0031\n",
      "Epoch 17/100\n",
      "11/11 [==============================] - 0s 5ms/step - loss: 11.5541 - mae: 2.6071 - mse: 11.5541 - val_loss: 26.7236 - val_mae: 4.3917 - val_mse: 26.7236\n",
      "Epoch 18/100\n",
      "11/11 [==============================] - 0s 5ms/step - loss: 40.6689 - mae: 5.5965 - mse: 40.6689 - val_loss: 37.5339 - val_mae: 5.2877 - val_mse: 37.5339\n",
      "Epoch 19/100\n",
      "11/11 [==============================] - 0s 5ms/step - loss: 21.6908 - mae: 3.8578 - mse: 21.6908 - val_loss: 12.8752 - val_mae: 2.6851 - val_mse: 12.8752\n",
      "Epoch 20/100\n",
      "11/11 [==============================] - 0s 5ms/step - loss: 8.5831 - mae: 2.2688 - mse: 8.5831 - val_loss: 10.9002 - val_mae: 2.3817 - val_mse: 10.9002\n",
      "Epoch 21/100\n",
      "11/11 [==============================] - 0s 5ms/step - loss: 7.6136 - mae: 2.1194 - mse: 7.6136 - val_loss: 14.2945 - val_mae: 2.8769 - val_mse: 14.2945\n",
      "Epoch 22/100\n",
      "11/11 [==============================] - 0s 4ms/step - loss: 13.2805 - mae: 2.9120 - mse: 13.2805 - val_loss: 37.5925 - val_mae: 5.4002 - val_mse: 37.5925\n",
      "Epoch 23/100\n",
      "11/11 [==============================] - 0s 4ms/step - loss: 38.2285 - mae: 5.5263 - mse: 38.2285 - val_loss: 61.2417 - val_mae: 6.8611 - val_mse: 61.2417\n",
      "Epoch 24/100\n",
      "11/11 [==============================] - 0s 5ms/step - loss: 60.2834 - mae: 6.9453 - mse: 60.2834 - val_loss: 24.8068 - val_mae: 4.1233 - val_mse: 24.8068\n",
      "Epoch 25/100\n",
      "11/11 [==============================] - 0s 4ms/step - loss: 23.2020 - mae: 4.1337 - mse: 23.2020 - val_loss: 20.6990 - val_mae: 3.7818 - val_mse: 20.6990\n",
      "Epoch 26/100\n",
      "11/11 [==============================] - 0s 5ms/step - loss: 22.4339 - mae: 3.9961 - mse: 22.4339 - val_loss: 24.9989 - val_mae: 4.1231 - val_mse: 24.9989\n",
      "Epoch 27/100\n",
      "11/11 [==============================] - 0s 5ms/step - loss: 14.2605 - mae: 3.0595 - mse: 14.2605 - val_loss: 11.3543 - val_mae: 2.4903 - val_mse: 11.3543\n",
      "Epoch 28/100\n",
      "11/11 [==============================] - 0s 5ms/step - loss: 8.6544 - mae: 2.2404 - mse: 8.6544 - val_loss: 10.4496 - val_mae: 2.3083 - val_mse: 10.4496\n",
      "Epoch 29/100\n",
      "11/11 [==============================] - 0s 5ms/step - loss: 7.0415 - mae: 2.0324 - mse: 7.0415 - val_loss: 11.0686 - val_mae: 2.3941 - val_mse: 11.0686\n",
      "Epoch 30/100\n",
      "11/11 [==============================] - 0s 6ms/step - loss: 6.6896 - mae: 1.9308 - mse: 6.6896 - val_loss: 9.4860 - val_mae: 2.1510 - val_mse: 9.4860\n",
      "Epoch 31/100\n",
      "11/11 [==============================] - 0s 6ms/step - loss: 5.9655 - mae: 1.8032 - mse: 5.9655 - val_loss: 9.5838 - val_mae: 2.1774 - val_mse: 9.5838\n",
      "Epoch 32/100\n",
      "11/11 [==============================] - 0s 6ms/step - loss: 8.7120 - mae: 2.2911 - mse: 8.7120 - val_loss: 12.9179 - val_mae: 2.6659 - val_mse: 12.9179\n",
      "Epoch 33/100\n",
      "11/11 [==============================] - 0s 5ms/step - loss: 9.1512 - mae: 2.4184 - mse: 9.1512 - val_loss: 15.2664 - val_mae: 3.1185 - val_mse: 15.2664\n",
      "Epoch 34/100\n",
      "11/11 [==============================] - 0s 5ms/step - loss: 9.0126 - mae: 2.3799 - mse: 9.0126 - val_loss: 13.3273 - val_mae: 2.7378 - val_mse: 13.3273\n",
      "Epoch 35/100\n",
      "11/11 [==============================] - 0s 6ms/step - loss: 8.0026 - mae: 2.1883 - mse: 8.0026 - val_loss: 10.7529 - val_mae: 2.3454 - val_mse: 10.7529\n",
      "Epoch 36/100\n",
      "11/11 [==============================] - 0s 5ms/step - loss: 7.5115 - mae: 2.1293 - mse: 7.5115 - val_loss: 11.4602 - val_mae: 2.5648 - val_mse: 11.4602\n",
      "Epoch 37/100\n",
      "11/11 [==============================] - 0s 6ms/step - loss: 7.0806 - mae: 2.0442 - mse: 7.0806 - val_loss: 8.9325 - val_mae: 2.0523 - val_mse: 8.9325\n",
      "Epoch 38/100\n",
      "11/11 [==============================] - 0s 5ms/step - loss: 5.4270 - mae: 1.7162 - mse: 5.4270 - val_loss: 10.3328 - val_mae: 2.2686 - val_mse: 10.3328\n",
      "Epoch 39/100\n",
      "11/11 [==============================] - 0s 6ms/step - loss: 9.2782 - mae: 2.4119 - mse: 9.2782 - val_loss: 19.9980 - val_mae: 3.7578 - val_mse: 19.9980\n",
      "Epoch 40/100\n",
      "11/11 [==============================] - 0s 6ms/step - loss: 11.9638 - mae: 2.8772 - mse: 11.9638 - val_loss: 10.2738 - val_mae: 2.2707 - val_mse: 10.2738\n",
      "Epoch 41/100\n",
      "11/11 [==============================] - 0s 5ms/step - loss: 5.8968 - mae: 1.8271 - mse: 5.8968 - val_loss: 9.0398 - val_mae: 2.1201 - val_mse: 9.0398\n",
      "Epoch 42/100\n",
      "11/11 [==============================] - 0s 5ms/step - loss: 5.2538 - mae: 1.7022 - mse: 5.2538 - val_loss: 9.9470 - val_mae: 2.2146 - val_mse: 9.9470\n",
      "Epoch 43/100\n",
      "11/11 [==============================] - 0s 6ms/step - loss: 7.6040 - mae: 2.1615 - mse: 7.6040 - val_loss: 25.1607 - val_mae: 4.1685 - val_mse: 25.1607\n",
      "Epoch 44/100\n",
      "11/11 [==============================] - 0s 5ms/step - loss: 19.7016 - mae: 3.9158 - mse: 19.7016 - val_loss: 20.1503 - val_mae: 3.6331 - val_mse: 20.1503\n",
      "Epoch 45/100\n",
      "11/11 [==============================] - 0s 5ms/step - loss: 14.7558 - mae: 3.2997 - mse: 14.7558 - val_loss: 15.9795 - val_mae: 3.2663 - val_mse: 15.9795\n",
      "Epoch 46/100\n",
      "11/11 [==============================] - 0s 6ms/step - loss: 7.7332 - mae: 2.2206 - mse: 7.7332 - val_loss: 11.1215 - val_mae: 2.4205 - val_mse: 11.1215\n",
      "Epoch 47/100\n",
      "11/11 [==============================] - 0s 4ms/step - loss: 6.0669 - mae: 1.8800 - mse: 6.0669 - val_loss: 9.1267 - val_mae: 2.1420 - val_mse: 9.1267\n",
      "Epoch 48/100\n",
      "11/11 [==============================] - 0s 6ms/step - loss: 5.6411 - mae: 1.7979 - mse: 5.6411 - val_loss: 10.7438 - val_mae: 2.3476 - val_mse: 10.7438\n",
      "Epoch 49/100\n",
      "11/11 [==============================] - 0s 6ms/step - loss: 10.5102 - mae: 2.6958 - mse: 10.5102 - val_loss: 11.4198 - val_mae: 2.5835 - val_mse: 11.4198\n",
      "Epoch 50/100\n",
      "11/11 [==============================] - 0s 7ms/step - loss: 6.5444 - mae: 2.0365 - mse: 6.5444 - val_loss: 12.6087 - val_mae: 2.6620 - val_mse: 12.6087\n",
      "Epoch 51/100\n",
      "11/11 [==============================] - 0s 5ms/step - loss: 7.9312 - mae: 2.2390 - mse: 7.9312 - val_loss: 9.4350 - val_mae: 2.2078 - val_mse: 9.4350\n",
      "Epoch 52/100\n",
      "11/11 [==============================] - 0s 5ms/step - loss: 5.1755 - mae: 1.6922 - mse: 5.1755 - val_loss: 14.2678 - val_mae: 3.0902 - val_mse: 14.2678\n",
      "Epoch 53/100\n",
      "11/11 [==============================] - 0s 4ms/step - loss: 10.3966 - mae: 2.7173 - mse: 10.3966 - val_loss: 14.2488 - val_mae: 2.9240 - val_mse: 14.2488\n",
      "Epoch 54/100\n",
      "11/11 [==============================] - 0s 5ms/step - loss: 12.7968 - mae: 2.9903 - mse: 12.7968 - val_loss: 15.7939 - val_mae: 3.2753 - val_mse: 15.7939\n",
      "Epoch 55/100\n",
      "11/11 [==============================] - 0s 5ms/step - loss: 12.1595 - mae: 2.9506 - mse: 12.1595 - val_loss: 12.5900 - val_mae: 2.6503 - val_mse: 12.5900\n",
      "Epoch 56/100\n",
      "11/11 [==============================] - 0s 6ms/step - loss: 9.9098 - mae: 2.5803 - mse: 9.9098 - val_loss: 9.3611 - val_mae: 2.2369 - val_mse: 9.3611\n",
      "Epoch 57/100\n",
      "11/11 [==============================] - 0s 10ms/step - loss: 4.7753 - mae: 1.6081 - mse: 4.7753 - val_loss: 8.4021 - val_mae: 2.0625 - val_mse: 8.4021\n",
      "Epoch 58/100\n",
      "11/11 [==============================] - 0s 5ms/step - loss: 4.1789 - mae: 1.5292 - mse: 4.1789 - val_loss: 8.8085 - val_mae: 2.1733 - val_mse: 8.8085\n",
      "Epoch 59/100\n",
      "11/11 [==============================] - 0s 5ms/step - loss: 4.9621 - mae: 1.6585 - mse: 4.9621 - val_loss: 9.2452 - val_mae: 2.1593 - val_mse: 9.2452\n",
      "Epoch 60/100\n",
      "11/11 [==============================] - 0s 5ms/step - loss: 5.5220 - mae: 1.7901 - mse: 5.5220 - val_loss: 8.5193 - val_mae: 2.0485 - val_mse: 8.5193\n",
      "Epoch 61/100\n",
      "11/11 [==============================] - 0s 5ms/step - loss: 4.7900 - mae: 1.6594 - mse: 4.7900 - val_loss: 10.5614 - val_mae: 2.4569 - val_mse: 10.5614\n",
      "Epoch 62/100\n",
      "11/11 [==============================] - 0s 5ms/step - loss: 4.9663 - mae: 1.7109 - mse: 4.9663 - val_loss: 8.1257 - val_mae: 1.9990 - val_mse: 8.1257\n",
      "Epoch 63/100\n",
      "11/11 [==============================] - 0s 6ms/step - loss: 5.1945 - mae: 1.7195 - mse: 5.1945 - val_loss: 8.2536 - val_mae: 2.0288 - val_mse: 8.2536\n",
      "Epoch 64/100\n",
      "11/11 [==============================] - 0s 5ms/step - loss: 4.2110 - mae: 1.4922 - mse: 4.2110 - val_loss: 8.1794 - val_mae: 1.9883 - val_mse: 8.1794\n",
      "Epoch 65/100\n",
      "11/11 [==============================] - 0s 5ms/step - loss: 6.9040 - mae: 2.0751 - mse: 6.9040 - val_loss: 15.5144 - val_mae: 3.2997 - val_mse: 15.5144\n",
      "Epoch 66/100\n",
      "11/11 [==============================] - 0s 5ms/step - loss: 11.6656 - mae: 2.8529 - mse: 11.6656 - val_loss: 27.8668 - val_mae: 4.4944 - val_mse: 27.8668\n",
      "Epoch 67/100\n",
      "11/11 [==============================] - 0s 5ms/step - loss: 18.6114 - mae: 3.7806 - mse: 18.6114 - val_loss: 25.3425 - val_mae: 4.3838 - val_mse: 25.3425\n",
      "Epoch 68/100\n",
      "11/11 [==============================] - 0s 5ms/step - loss: 22.7606 - mae: 4.2763 - mse: 22.7606 - val_loss: 33.5118 - val_mae: 5.0780 - val_mse: 33.5118\n",
      "Epoch 69/100\n",
      "11/11 [==============================] - 0s 5ms/step - loss: 21.0158 - mae: 4.0294 - mse: 21.0158 - val_loss: 14.5178 - val_mae: 3.1452 - val_mse: 14.5178\n",
      "Epoch 70/100\n",
      "11/11 [==============================] - 0s 4ms/step - loss: 10.4618 - mae: 2.6761 - mse: 10.4618 - val_loss: 14.0858 - val_mae: 2.8985 - val_mse: 14.0858\n",
      "Epoch 71/100\n",
      "11/11 [==============================] - 0s 6ms/step - loss: 8.9196 - mae: 2.4481 - mse: 8.9196 - val_loss: 8.4375 - val_mae: 2.1230 - val_mse: 8.4375\n",
      "Epoch 72/100\n",
      "11/11 [==============================] - 0s 4ms/step - loss: 5.1501 - mae: 1.7406 - mse: 5.1501 - val_loss: 8.1729 - val_mae: 2.0106 - val_mse: 8.1729\n",
      "Epoch 73/100\n",
      "11/11 [==============================] - 0s 5ms/step - loss: 5.2786 - mae: 1.7977 - mse: 5.2786 - val_loss: 11.8559 - val_mae: 2.7174 - val_mse: 11.8559\n",
      "Epoch 74/100\n",
      "11/11 [==============================] - 0s 5ms/step - loss: 7.1450 - mae: 2.1403 - mse: 7.1450 - val_loss: 7.9762 - val_mae: 2.0019 - val_mse: 7.9762\n",
      "Epoch 75/100\n",
      "11/11 [==============================] - 0s 5ms/step - loss: 4.7930 - mae: 1.6218 - mse: 4.7930 - val_loss: 8.5371 - val_mae: 2.0684 - val_mse: 8.5371\n",
      "Epoch 76/100\n",
      "11/11 [==============================] - 0s 6ms/step - loss: 4.9909 - mae: 1.7116 - mse: 4.9909 - val_loss: 8.7617 - val_mae: 2.0930 - val_mse: 8.7617\n",
      "Epoch 77/100\n",
      "11/11 [==============================] - 0s 4ms/step - loss: 6.3004 - mae: 1.9812 - mse: 6.3004 - val_loss: 9.8886 - val_mae: 2.3310 - val_mse: 9.8886\n",
      "Epoch 78/100\n",
      "11/11 [==============================] - 0s 4ms/step - loss: 5.4848 - mae: 1.8371 - mse: 5.4848 - val_loss: 11.8046 - val_mae: 2.7164 - val_mse: 11.8046\n",
      "Epoch 79/100\n",
      "11/11 [==============================] - 0s 5ms/step - loss: 9.2719 - mae: 2.5293 - mse: 9.2719 - val_loss: 23.0679 - val_mae: 4.0430 - val_mse: 23.0679\n",
      "Epoch 80/100\n",
      "11/11 [==============================] - 0s 5ms/step - loss: 14.2000 - mae: 3.2634 - mse: 14.2000 - val_loss: 10.9860 - val_mae: 2.4514 - val_mse: 10.9860\n",
      "Epoch 81/100\n",
      "11/11 [==============================] - 0s 5ms/step - loss: 4.2817 - mae: 1.5750 - mse: 4.2817 - val_loss: 7.9416 - val_mae: 1.9679 - val_mse: 7.9416\n",
      "Epoch 82/100\n",
      "11/11 [==============================] - 0s 5ms/step - loss: 6.6034 - mae: 1.9778 - mse: 6.6034 - val_loss: 12.8296 - val_mae: 2.8712 - val_mse: 12.8296\n",
      "Epoch 83/100\n",
      "11/11 [==============================] - 0s 5ms/step - loss: 5.4508 - mae: 1.8017 - mse: 5.4508 - val_loss: 10.7405 - val_mae: 2.5228 - val_mse: 10.7405\n",
      "Epoch 84/100\n",
      "11/11 [==============================] - 0s 5ms/step - loss: 4.7707 - mae: 1.6758 - mse: 4.7707 - val_loss: 9.4613 - val_mae: 2.2965 - val_mse: 9.4613\n",
      "Epoch 85/100\n",
      "11/11 [==============================] - 0s 4ms/step - loss: 4.0536 - mae: 1.5550 - mse: 4.0536 - val_loss: 9.7044 - val_mae: 2.2517 - val_mse: 9.7044\n",
      "Epoch 86/100\n",
      "11/11 [==============================] - 0s 4ms/step - loss: 6.2328 - mae: 1.9851 - mse: 6.2328 - val_loss: 9.1965 - val_mae: 2.2596 - val_mse: 9.1965\n",
      "Epoch 87/100\n",
      "11/11 [==============================] - 0s 5ms/step - loss: 6.2924 - mae: 1.9522 - mse: 6.2924 - val_loss: 17.1988 - val_mae: 3.3518 - val_mse: 17.1988\n",
      "Epoch 88/100\n",
      "11/11 [==============================] - 0s 5ms/step - loss: 10.8478 - mae: 2.7937 - mse: 10.8478 - val_loss: 11.2762 - val_mae: 2.6501 - val_mse: 11.2762\n",
      "Epoch 89/100\n",
      "11/11 [==============================] - 0s 4ms/step - loss: 6.7171 - mae: 2.0963 - mse: 6.7171 - val_loss: 8.2945 - val_mae: 2.0419 - val_mse: 8.2945\n",
      "Epoch 90/100\n",
      "11/11 [==============================] - 0s 5ms/step - loss: 5.1051 - mae: 1.7339 - mse: 5.1051 - val_loss: 9.4016 - val_mae: 2.2772 - val_mse: 9.4016\n",
      "Epoch 91/100\n",
      "11/11 [==============================] - 0s 4ms/step - loss: 3.9769 - mae: 1.5193 - mse: 3.9769 - val_loss: 8.0009 - val_mae: 2.0379 - val_mse: 8.0009\n",
      "Epoch 92/100\n",
      "11/11 [==============================] - 0s 5ms/step - loss: 3.6003 - mae: 1.4277 - mse: 3.6003 - val_loss: 10.0717 - val_mae: 2.4290 - val_mse: 10.0717\n",
      "Epoch 93/100\n",
      "11/11 [==============================] - 0s 7ms/step - loss: 5.4426 - mae: 1.8474 - mse: 5.4426 - val_loss: 7.6887 - val_mae: 1.9576 - val_mse: 7.6887\n",
      "Epoch 94/100\n",
      "11/11 [==============================] - 0s 4ms/step - loss: 5.9672 - mae: 1.8793 - mse: 5.9672 - val_loss: 16.8627 - val_mae: 3.3258 - val_mse: 16.8627\n",
      "Epoch 95/100\n",
      "11/11 [==============================] - 0s 6ms/step - loss: 8.5471 - mae: 2.4049 - mse: 8.5471 - val_loss: 14.7286 - val_mae: 3.0070 - val_mse: 14.7286\n",
      "Epoch 96/100\n",
      "11/11 [==============================] - 0s 6ms/step - loss: 13.8797 - mae: 3.2599 - mse: 13.8797 - val_loss: 12.6044 - val_mae: 2.8828 - val_mse: 12.6044\n",
      "Epoch 97/100\n",
      "11/11 [==============================] - 0s 5ms/step - loss: 9.7465 - mae: 2.6592 - mse: 9.7465 - val_loss: 8.1458 - val_mae: 1.9969 - val_mse: 8.1458\n",
      "Epoch 98/100\n",
      "11/11 [==============================] - 0s 6ms/step - loss: 5.5454 - mae: 1.8718 - mse: 5.5454 - val_loss: 20.2685 - val_mae: 3.9509 - val_mse: 20.2685\n",
      "Epoch 99/100\n",
      "11/11 [==============================] - 0s 5ms/step - loss: 12.9825 - mae: 3.1290 - mse: 12.9825 - val_loss: 10.6514 - val_mae: 2.3734 - val_mse: 10.6514\n",
      "Epoch 100/100\n",
      "11/11 [==============================] - 0s 5ms/step - loss: 6.0822 - mae: 1.9776 - mse: 6.0822 - val_loss: 9.2468 - val_mae: 2.2799 - val_mse: 9.2468\n"
     ]
    }
   ],
   "source": [
    "num_epochs = 100\n",
    "training_history = model_sgd.fit(x_train,\n",
    "                            y_train,\n",
    "                            epochs=num_epochs,\n",
    "                            validation_split=0.2,\n",
    "                            batch_size=100)"
   ]
  },
  {
   "cell_type": "code",
   "execution_count": 79,
   "metadata": {},
   "outputs": [
    {
     "output_type": "stream",
     "name": "stdout",
     "text": [
      "11/11 [==============================] - 0s 1ms/step - loss: 6.3580 - mae: 1.9385 - mse: 6.3580\n"
     ]
    },
    {
     "output_type": "execute_result",
     "data": {
      "text/plain": [
       "[6.3579816818237305, 1.9385433197021484, 6.3579816818237305]"
      ]
     },
     "metadata": {},
     "execution_count": 79
    }
   ],
   "source": [
    "model_sgd.evaluate(x_test,y_test)"
   ]
  },
  {
   "cell_type": "code",
   "execution_count": 80,
   "metadata": {},
   "outputs": [],
   "source": [
    "y_pred_sgd = model_sgd.predict(x_test)"
   ]
  },
  {
   "cell_type": "code",
   "execution_count": 81,
   "metadata": {},
   "outputs": [
    {
     "output_type": "execute_result",
     "data": {
      "text/plain": [
       "0.9169391493865662"
      ]
     },
     "metadata": {},
     "execution_count": 81
    }
   ],
   "source": [
    "r2_sgd = r2_score(y_test,y_pred_sgd)\n",
    "r2_sgd"
   ]
  },
  {
   "source": [
    "# RMSPROP"
   ],
   "cell_type": "markdown",
   "metadata": {}
  },
  {
   "cell_type": "code",
   "execution_count": null,
   "metadata": {},
   "outputs": [],
   "source": [
    "def model_with_sgd():\n",
    "    model = tf.keras.Sequential([\n",
    "        tf.keras.layers.Dense(32, input_shape=(x_train.shape[1],), activation='relu'),\n",
    "        tf.keras.layers.Dense(16, activation='relu'),\n",
    "        tf.keras.layers.Dense(4, activation='relu'),\n",
    "        tf.keras.layers.Dense(1)\n",
    "    ])\n",
    "\n",
    "    optimizer = tf.keras.optimizers.SGD(learning_rate=0.001)\n",
    "\n",
    "    model.compile(loss='mse',\n",
    "                    metrics=['mae','mse'],\n",
    "                    optimizer=optimizer)\n",
    "\n",
    "    return model"
   ]
  },
  {
   "cell_type": "code",
   "execution_count": null,
   "metadata": {},
   "outputs": [],
   "source": []
  },
  {
   "cell_type": "code",
   "execution_count": null,
   "metadata": {},
   "outputs": [],
   "source": []
  },
  {
   "cell_type": "code",
   "execution_count": null,
   "metadata": {},
   "outputs": [],
   "source": []
  }
 ]
}