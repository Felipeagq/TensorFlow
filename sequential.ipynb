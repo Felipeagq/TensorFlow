{
 "metadata": {
  "language_info": {
   "codemirror_mode": {
    "name": "ipython",
    "version": 3
   },
   "file_extension": ".py",
   "mimetype": "text/x-python",
   "name": "python",
   "nbconvert_exporter": "python",
   "pygments_lexer": "ipython3",
   "version": "3.8.5"
  },
  "orig_nbformat": 2,
  "kernelspec": {
   "name": "python385jvsc74a57bd0916dbcbb3f70747c44a77c7bcd40155683ae19c65e1c03b4aa3499c5328201f1",
   "display_name": "Python 3.8.5 64-bit"
  },
  "metadata": {
   "interpreter": {
    "hash": "916dbcbb3f70747c44a77c7bcd40155683ae19c65e1c03b4aa3499c5328201f1"
   }
  }
 },
 "nbformat": 4,
 "nbformat_minor": 2,
 "cells": [
  {
   "source": [
    "# PREPARANDO LA DATA"
   ],
   "cell_type": "markdown",
   "metadata": {}
  },
  {
   "cell_type": "code",
   "execution_count": 1,
   "metadata": {},
   "outputs": [],
   "source": [
    "# IMPORTAMOS LAS LIBRERIAS \n",
    "\n",
    "import os \n",
    "import datetime \n",
    "\n",
    "import numpy as np\n",
    "import pandas as pd\n",
    "\n",
    "import seaborn as sns\n",
    "import matplotlib.pyplot as plt\n",
    "\n",
    "from sklearn.metrics import r2_score\n",
    "from sklearn.preprocessing import StandardScaler\n",
    "\n",
    "import tensorflow as tf"
   ]
  },
  {
   "cell_type": "code",
   "execution_count": 2,
   "metadata": {},
   "outputs": [
    {
     "output_type": "execute_result",
     "data": {
      "text/plain": [
       "          Country  Year      Status  Life expectancy   Adult Mortality  \\\n",
       "0     Afghanistan  2015  Developing              65.0            263.0   \n",
       "1     Afghanistan  2014  Developing              59.9            271.0   \n",
       "2     Afghanistan  2013  Developing              59.9            268.0   \n",
       "3     Afghanistan  2012  Developing              59.5            272.0   \n",
       "4     Afghanistan  2011  Developing              59.2            275.0   \n",
       "...           ...   ...         ...               ...              ...   \n",
       "2933     Zimbabwe  2004  Developing              44.3            723.0   \n",
       "2934     Zimbabwe  2003  Developing              44.5            715.0   \n",
       "2935     Zimbabwe  2002  Developing              44.8             73.0   \n",
       "2936     Zimbabwe  2001  Developing              45.3            686.0   \n",
       "2937     Zimbabwe  2000  Developing              46.0            665.0   \n",
       "\n",
       "      infant deaths  Alcohol  percentage expenditure  Hepatitis B  Measles   \\\n",
       "0                62     0.01               71.279624         65.0      1154   \n",
       "1                64     0.01               73.523582         62.0       492   \n",
       "2                66     0.01               73.219243         64.0       430   \n",
       "3                69     0.01               78.184215         67.0      2787   \n",
       "4                71     0.01                7.097109         68.0      3013   \n",
       "...             ...      ...                     ...          ...       ...   \n",
       "2933             27     4.36                0.000000         68.0        31   \n",
       "2934             26     4.06                0.000000          7.0       998   \n",
       "2935             25     4.43                0.000000         73.0       304   \n",
       "2936             25     1.72                0.000000         76.0       529   \n",
       "2937             24     1.68                0.000000         79.0      1483   \n",
       "\n",
       "      ...  Polio  Total expenditure  Diphtheria    HIV/AIDS         GDP  \\\n",
       "0     ...    6.0               8.16         65.0        0.1  584.259210   \n",
       "1     ...   58.0               8.18         62.0        0.1  612.696514   \n",
       "2     ...   62.0               8.13         64.0        0.1  631.744976   \n",
       "3     ...   67.0               8.52         67.0        0.1  669.959000   \n",
       "4     ...   68.0               7.87         68.0        0.1   63.537231   \n",
       "...   ...    ...                ...          ...        ...         ...   \n",
       "2933  ...   67.0               7.13         65.0       33.6  454.366654   \n",
       "2934  ...    7.0               6.52         68.0       36.7  453.351155   \n",
       "2935  ...   73.0               6.53         71.0       39.8   57.348340   \n",
       "2936  ...   76.0               6.16         75.0       42.1  548.587312   \n",
       "2937  ...   78.0               7.10         78.0       43.5  547.358878   \n",
       "\n",
       "      Population   thinness  1-19 years   thinness 5-9 years  \\\n",
       "0     33736494.0                   17.2                 17.3   \n",
       "1       327582.0                   17.5                 17.5   \n",
       "2     31731688.0                   17.7                 17.7   \n",
       "3      3696958.0                   17.9                 18.0   \n",
       "4      2978599.0                   18.2                 18.2   \n",
       "...          ...                    ...                  ...   \n",
       "2933  12777511.0                    9.4                  9.4   \n",
       "2934  12633897.0                    9.8                  9.9   \n",
       "2935    125525.0                    1.2                  1.3   \n",
       "2936  12366165.0                    1.6                  1.7   \n",
       "2937  12222251.0                   11.0                 11.2   \n",
       "\n",
       "      Income composition of resources  Schooling  \n",
       "0                               0.479       10.1  \n",
       "1                               0.476       10.0  \n",
       "2                               0.470        9.9  \n",
       "3                               0.463        9.8  \n",
       "4                               0.454        9.5  \n",
       "...                               ...        ...  \n",
       "2933                            0.407        9.2  \n",
       "2934                            0.418        9.5  \n",
       "2935                            0.427       10.0  \n",
       "2936                            0.427        9.8  \n",
       "2937                            0.434        9.8  \n",
       "\n",
       "[2938 rows x 22 columns]"
      ],
      "text/html": "<div>\n<style scoped>\n    .dataframe tbody tr th:only-of-type {\n        vertical-align: middle;\n    }\n\n    .dataframe tbody tr th {\n        vertical-align: top;\n    }\n\n    .dataframe thead th {\n        text-align: right;\n    }\n</style>\n<table border=\"1\" class=\"dataframe\">\n  <thead>\n    <tr style=\"text-align: right;\">\n      <th></th>\n      <th>Country</th>\n      <th>Year</th>\n      <th>Status</th>\n      <th>Life expectancy</th>\n      <th>Adult Mortality</th>\n      <th>infant deaths</th>\n      <th>Alcohol</th>\n      <th>percentage expenditure</th>\n      <th>Hepatitis B</th>\n      <th>Measles</th>\n      <th>...</th>\n      <th>Polio</th>\n      <th>Total expenditure</th>\n      <th>Diphtheria</th>\n      <th>HIV/AIDS</th>\n      <th>GDP</th>\n      <th>Population</th>\n      <th>thinness  1-19 years</th>\n      <th>thinness 5-9 years</th>\n      <th>Income composition of resources</th>\n      <th>Schooling</th>\n    </tr>\n  </thead>\n  <tbody>\n    <tr>\n      <th>0</th>\n      <td>Afghanistan</td>\n      <td>2015</td>\n      <td>Developing</td>\n      <td>65.0</td>\n      <td>263.0</td>\n      <td>62</td>\n      <td>0.01</td>\n      <td>71.279624</td>\n      <td>65.0</td>\n      <td>1154</td>\n      <td>...</td>\n      <td>6.0</td>\n      <td>8.16</td>\n      <td>65.0</td>\n      <td>0.1</td>\n      <td>584.259210</td>\n      <td>33736494.0</td>\n      <td>17.2</td>\n      <td>17.3</td>\n      <td>0.479</td>\n      <td>10.1</td>\n    </tr>\n    <tr>\n      <th>1</th>\n      <td>Afghanistan</td>\n      <td>2014</td>\n      <td>Developing</td>\n      <td>59.9</td>\n      <td>271.0</td>\n      <td>64</td>\n      <td>0.01</td>\n      <td>73.523582</td>\n      <td>62.0</td>\n      <td>492</td>\n      <td>...</td>\n      <td>58.0</td>\n      <td>8.18</td>\n      <td>62.0</td>\n      <td>0.1</td>\n      <td>612.696514</td>\n      <td>327582.0</td>\n      <td>17.5</td>\n      <td>17.5</td>\n      <td>0.476</td>\n      <td>10.0</td>\n    </tr>\n    <tr>\n      <th>2</th>\n      <td>Afghanistan</td>\n      <td>2013</td>\n      <td>Developing</td>\n      <td>59.9</td>\n      <td>268.0</td>\n      <td>66</td>\n      <td>0.01</td>\n      <td>73.219243</td>\n      <td>64.0</td>\n      <td>430</td>\n      <td>...</td>\n      <td>62.0</td>\n      <td>8.13</td>\n      <td>64.0</td>\n      <td>0.1</td>\n      <td>631.744976</td>\n      <td>31731688.0</td>\n      <td>17.7</td>\n      <td>17.7</td>\n      <td>0.470</td>\n      <td>9.9</td>\n    </tr>\n    <tr>\n      <th>3</th>\n      <td>Afghanistan</td>\n      <td>2012</td>\n      <td>Developing</td>\n      <td>59.5</td>\n      <td>272.0</td>\n      <td>69</td>\n      <td>0.01</td>\n      <td>78.184215</td>\n      <td>67.0</td>\n      <td>2787</td>\n      <td>...</td>\n      <td>67.0</td>\n      <td>8.52</td>\n      <td>67.0</td>\n      <td>0.1</td>\n      <td>669.959000</td>\n      <td>3696958.0</td>\n      <td>17.9</td>\n      <td>18.0</td>\n      <td>0.463</td>\n      <td>9.8</td>\n    </tr>\n    <tr>\n      <th>4</th>\n      <td>Afghanistan</td>\n      <td>2011</td>\n      <td>Developing</td>\n      <td>59.2</td>\n      <td>275.0</td>\n      <td>71</td>\n      <td>0.01</td>\n      <td>7.097109</td>\n      <td>68.0</td>\n      <td>3013</td>\n      <td>...</td>\n      <td>68.0</td>\n      <td>7.87</td>\n      <td>68.0</td>\n      <td>0.1</td>\n      <td>63.537231</td>\n      <td>2978599.0</td>\n      <td>18.2</td>\n      <td>18.2</td>\n      <td>0.454</td>\n      <td>9.5</td>\n    </tr>\n    <tr>\n      <th>...</th>\n      <td>...</td>\n      <td>...</td>\n      <td>...</td>\n      <td>...</td>\n      <td>...</td>\n      <td>...</td>\n      <td>...</td>\n      <td>...</td>\n      <td>...</td>\n      <td>...</td>\n      <td>...</td>\n      <td>...</td>\n      <td>...</td>\n      <td>...</td>\n      <td>...</td>\n      <td>...</td>\n      <td>...</td>\n      <td>...</td>\n      <td>...</td>\n      <td>...</td>\n      <td>...</td>\n    </tr>\n    <tr>\n      <th>2933</th>\n      <td>Zimbabwe</td>\n      <td>2004</td>\n      <td>Developing</td>\n      <td>44.3</td>\n      <td>723.0</td>\n      <td>27</td>\n      <td>4.36</td>\n      <td>0.000000</td>\n      <td>68.0</td>\n      <td>31</td>\n      <td>...</td>\n      <td>67.0</td>\n      <td>7.13</td>\n      <td>65.0</td>\n      <td>33.6</td>\n      <td>454.366654</td>\n      <td>12777511.0</td>\n      <td>9.4</td>\n      <td>9.4</td>\n      <td>0.407</td>\n      <td>9.2</td>\n    </tr>\n    <tr>\n      <th>2934</th>\n      <td>Zimbabwe</td>\n      <td>2003</td>\n      <td>Developing</td>\n      <td>44.5</td>\n      <td>715.0</td>\n      <td>26</td>\n      <td>4.06</td>\n      <td>0.000000</td>\n      <td>7.0</td>\n      <td>998</td>\n      <td>...</td>\n      <td>7.0</td>\n      <td>6.52</td>\n      <td>68.0</td>\n      <td>36.7</td>\n      <td>453.351155</td>\n      <td>12633897.0</td>\n      <td>9.8</td>\n      <td>9.9</td>\n      <td>0.418</td>\n      <td>9.5</td>\n    </tr>\n    <tr>\n      <th>2935</th>\n      <td>Zimbabwe</td>\n      <td>2002</td>\n      <td>Developing</td>\n      <td>44.8</td>\n      <td>73.0</td>\n      <td>25</td>\n      <td>4.43</td>\n      <td>0.000000</td>\n      <td>73.0</td>\n      <td>304</td>\n      <td>...</td>\n      <td>73.0</td>\n      <td>6.53</td>\n      <td>71.0</td>\n      <td>39.8</td>\n      <td>57.348340</td>\n      <td>125525.0</td>\n      <td>1.2</td>\n      <td>1.3</td>\n      <td>0.427</td>\n      <td>10.0</td>\n    </tr>\n    <tr>\n      <th>2936</th>\n      <td>Zimbabwe</td>\n      <td>2001</td>\n      <td>Developing</td>\n      <td>45.3</td>\n      <td>686.0</td>\n      <td>25</td>\n      <td>1.72</td>\n      <td>0.000000</td>\n      <td>76.0</td>\n      <td>529</td>\n      <td>...</td>\n      <td>76.0</td>\n      <td>6.16</td>\n      <td>75.0</td>\n      <td>42.1</td>\n      <td>548.587312</td>\n      <td>12366165.0</td>\n      <td>1.6</td>\n      <td>1.7</td>\n      <td>0.427</td>\n      <td>9.8</td>\n    </tr>\n    <tr>\n      <th>2937</th>\n      <td>Zimbabwe</td>\n      <td>2000</td>\n      <td>Developing</td>\n      <td>46.0</td>\n      <td>665.0</td>\n      <td>24</td>\n      <td>1.68</td>\n      <td>0.000000</td>\n      <td>79.0</td>\n      <td>1483</td>\n      <td>...</td>\n      <td>78.0</td>\n      <td>7.10</td>\n      <td>78.0</td>\n      <td>43.5</td>\n      <td>547.358878</td>\n      <td>12222251.0</td>\n      <td>11.0</td>\n      <td>11.2</td>\n      <td>0.434</td>\n      <td>9.8</td>\n    </tr>\n  </tbody>\n</table>\n<p>2938 rows × 22 columns</p>\n</div>"
     },
     "metadata": {},
     "execution_count": 2
    }
   ],
   "source": [
    "# CARGAMOS EL DATASET\n",
    "data = pd.read_csv('Life Expectancy Data.csv')\n",
    "data"
   ]
  },
  {
   "cell_type": "code",
   "execution_count": 3,
   "metadata": {},
   "outputs": [
    {
     "output_type": "execute_result",
     "data": {
      "text/plain": [
       "Country                              0\n",
       "Year                                 0\n",
       "Status                               0\n",
       "Life expectancy                     10\n",
       "Adult Mortality                     10\n",
       "infant deaths                        0\n",
       "Alcohol                            194\n",
       "percentage expenditure               0\n",
       "Hepatitis B                        553\n",
       "Measles                              0\n",
       " BMI                                34\n",
       "under-five deaths                    0\n",
       "Polio                               19\n",
       "Total expenditure                  226\n",
       "Diphtheria                          19\n",
       " HIV/AIDS                            0\n",
       "GDP                                448\n",
       "Population                         652\n",
       " thinness  1-19 years               34\n",
       " thinness 5-9 years                 34\n",
       "Income composition of resources    167\n",
       "Schooling                          163\n",
       "dtype: int64"
      ]
     },
     "metadata": {},
     "execution_count": 3
    }
   ],
   "source": [
    "# VEMOS LOS DATOS FALTANTES\n",
    "data.isna().sum()"
   ]
  },
  {
   "cell_type": "code",
   "execution_count": 4,
   "metadata": {},
   "outputs": [],
   "source": [
    "# ELIMINAMOS LA DATA FALTANTE\n",
    "data.dropna(inplace=True)"
   ]
  },
  {
   "cell_type": "code",
   "execution_count": 5,
   "metadata": {},
   "outputs": [
    {
     "output_type": "execute_result",
     "data": {
      "text/plain": [
       "Country                            0\n",
       "Year                               0\n",
       "Status                             0\n",
       "Life expectancy                    0\n",
       "Adult Mortality                    0\n",
       "infant deaths                      0\n",
       "Alcohol                            0\n",
       "percentage expenditure             0\n",
       "Hepatitis B                        0\n",
       "Measles                            0\n",
       " BMI                               0\n",
       "under-five deaths                  0\n",
       "Polio                              0\n",
       "Total expenditure                  0\n",
       "Diphtheria                         0\n",
       " HIV/AIDS                          0\n",
       "GDP                                0\n",
       "Population                         0\n",
       " thinness  1-19 years              0\n",
       " thinness 5-9 years                0\n",
       "Income composition of resources    0\n",
       "Schooling                          0\n",
       "dtype: int64"
      ]
     },
     "metadata": {},
     "execution_count": 5
    }
   ],
   "source": [
    "# VERIFICAMOS QUE SE HAYA ELIMINADO LA DATA FALTANTE\n",
    "data.isna().sum()"
   ]
  },
  {
   "cell_type": "code",
   "execution_count": 7,
   "metadata": {},
   "outputs": [
    {
     "output_type": "execute_result",
     "data": {
      "text/plain": [
       "          Country      Status\n",
       "0     Afghanistan  Developing\n",
       "1     Afghanistan  Developing\n",
       "2     Afghanistan  Developing\n",
       "3     Afghanistan  Developing\n",
       "4     Afghanistan  Developing\n",
       "...           ...         ...\n",
       "2933     Zimbabwe  Developing\n",
       "2934     Zimbabwe  Developing\n",
       "2935     Zimbabwe  Developing\n",
       "2936     Zimbabwe  Developing\n",
       "2937     Zimbabwe  Developing\n",
       "\n",
       "[1649 rows x 2 columns]"
      ],
      "text/html": "<div>\n<style scoped>\n    .dataframe tbody tr th:only-of-type {\n        vertical-align: middle;\n    }\n\n    .dataframe tbody tr th {\n        vertical-align: top;\n    }\n\n    .dataframe thead th {\n        text-align: right;\n    }\n</style>\n<table border=\"1\" class=\"dataframe\">\n  <thead>\n    <tr style=\"text-align: right;\">\n      <th></th>\n      <th>Country</th>\n      <th>Status</th>\n    </tr>\n  </thead>\n  <tbody>\n    <tr>\n      <th>0</th>\n      <td>Afghanistan</td>\n      <td>Developing</td>\n    </tr>\n    <tr>\n      <th>1</th>\n      <td>Afghanistan</td>\n      <td>Developing</td>\n    </tr>\n    <tr>\n      <th>2</th>\n      <td>Afghanistan</td>\n      <td>Developing</td>\n    </tr>\n    <tr>\n      <th>3</th>\n      <td>Afghanistan</td>\n      <td>Developing</td>\n    </tr>\n    <tr>\n      <th>4</th>\n      <td>Afghanistan</td>\n      <td>Developing</td>\n    </tr>\n    <tr>\n      <th>...</th>\n      <td>...</td>\n      <td>...</td>\n    </tr>\n    <tr>\n      <th>2933</th>\n      <td>Zimbabwe</td>\n      <td>Developing</td>\n    </tr>\n    <tr>\n      <th>2934</th>\n      <td>Zimbabwe</td>\n      <td>Developing</td>\n    </tr>\n    <tr>\n      <th>2935</th>\n      <td>Zimbabwe</td>\n      <td>Developing</td>\n    </tr>\n    <tr>\n      <th>2936</th>\n      <td>Zimbabwe</td>\n      <td>Developing</td>\n    </tr>\n    <tr>\n      <th>2937</th>\n      <td>Zimbabwe</td>\n      <td>Developing</td>\n    </tr>\n  </tbody>\n</table>\n<p>1649 rows × 2 columns</p>\n</div>"
     },
     "metadata": {},
     "execution_count": 7
    }
   ],
   "source": [
    "categorical_col = data.select_dtypes(exclude='number')\n",
    "categorical_col"
   ]
  },
  {
   "cell_type": "code",
   "execution_count": 8,
   "metadata": {},
   "outputs": [],
   "source": [
    "# PODEMOS ELIMIMAR LA COLUMNA data['Country']\n",
    "data.drop('Country',axis=1,inplace=True)"
   ]
  },
  {
   "cell_type": "code",
   "execution_count": 9,
   "metadata": {},
   "outputs": [
    {
     "output_type": "execute_result",
     "data": {
      "text/plain": [
       "      Developed  Developing\n",
       "0             0           1\n",
       "1             0           1\n",
       "2             0           1\n",
       "3             0           1\n",
       "4             0           1\n",
       "...         ...         ...\n",
       "2933          0           1\n",
       "2934          0           1\n",
       "2935          0           1\n",
       "2936          0           1\n",
       "2937          0           1\n",
       "\n",
       "[1649 rows x 2 columns]"
      ],
      "text/html": "<div>\n<style scoped>\n    .dataframe tbody tr th:only-of-type {\n        vertical-align: middle;\n    }\n\n    .dataframe tbody tr th {\n        vertical-align: top;\n    }\n\n    .dataframe thead th {\n        text-align: right;\n    }\n</style>\n<table border=\"1\" class=\"dataframe\">\n  <thead>\n    <tr style=\"text-align: right;\">\n      <th></th>\n      <th>Developed</th>\n      <th>Developing</th>\n    </tr>\n  </thead>\n  <tbody>\n    <tr>\n      <th>0</th>\n      <td>0</td>\n      <td>1</td>\n    </tr>\n    <tr>\n      <th>1</th>\n      <td>0</td>\n      <td>1</td>\n    </tr>\n    <tr>\n      <th>2</th>\n      <td>0</td>\n      <td>1</td>\n    </tr>\n    <tr>\n      <th>3</th>\n      <td>0</td>\n      <td>1</td>\n    </tr>\n    <tr>\n      <th>4</th>\n      <td>0</td>\n      <td>1</td>\n    </tr>\n    <tr>\n      <th>...</th>\n      <td>...</td>\n      <td>...</td>\n    </tr>\n    <tr>\n      <th>2933</th>\n      <td>0</td>\n      <td>1</td>\n    </tr>\n    <tr>\n      <th>2934</th>\n      <td>0</td>\n      <td>1</td>\n    </tr>\n    <tr>\n      <th>2935</th>\n      <td>0</td>\n      <td>1</td>\n    </tr>\n    <tr>\n      <th>2936</th>\n      <td>0</td>\n      <td>1</td>\n    </tr>\n    <tr>\n      <th>2937</th>\n      <td>0</td>\n      <td>1</td>\n    </tr>\n  </tbody>\n</table>\n<p>1649 rows × 2 columns</p>\n</div>"
     },
     "metadata": {},
     "execution_count": 9
    }
   ],
   "source": [
    "# CONVERTIMOS LA COLUMNA data['status'] EN NUMERICO\n",
    "status_dummy = pd.get_dummies(data['Status'])\n",
    "status_dummy"
   ]
  },
  {
   "cell_type": "code",
   "execution_count": 10,
   "metadata": {},
   "outputs": [],
   "source": [
    "# ELIMINAMOS LA DATA CATEGORICA \n",
    "data.drop('Status',axis=1,inplace=True)"
   ]
  },
  {
   "cell_type": "code",
   "execution_count": 11,
   "metadata": {},
   "outputs": [],
   "source": [
    "# AGREGAMOS LA DATA DUMMY\n",
    "data['develop'] = status_dummy['Developed']"
   ]
  },
  {
   "cell_type": "code",
   "execution_count": 12,
   "metadata": {},
   "outputs": [
    {
     "output_type": "execute_result",
     "data": {
      "text/plain": [
       "                                  count          mean           std  \\\n",
       "Year                             1649.0  2.007841e+03  4.087711e+00   \n",
       "Life expectancy                  1649.0  6.930230e+01  8.796834e+00   \n",
       "Adult Mortality                  1649.0  1.682153e+02  1.253104e+02   \n",
       "infant deaths                    1649.0  3.255306e+01  1.208472e+02   \n",
       "Alcohol                          1649.0  4.533196e+00  4.029189e+00   \n",
       "percentage expenditure           1649.0  6.989736e+02  1.759229e+03   \n",
       "Hepatitis B                      1649.0  7.921771e+01  2.560466e+01   \n",
       "Measles                          1649.0  2.224494e+03  1.008580e+04   \n",
       " BMI                             1649.0  3.812862e+01  1.975425e+01   \n",
       "under-five deaths                1649.0  4.422013e+01  1.628980e+02   \n",
       "Polio                            1649.0  8.356458e+01  2.245056e+01   \n",
       "Total expenditure                1649.0  5.955925e+00  2.299385e+00   \n",
       "Diphtheria                       1649.0  8.415525e+01  2.157919e+01   \n",
       " HIV/AIDS                        1649.0  1.983869e+00  6.032360e+00   \n",
       "GDP                              1649.0  5.566032e+03  1.147590e+04   \n",
       "Population                       1649.0  1.465363e+07  7.046039e+07   \n",
       " thinness  1-19 years            1649.0  4.850637e+00  4.599228e+00   \n",
       " thinness 5-9 years              1649.0  4.907762e+00  4.653757e+00   \n",
       "Income composition of resources  1649.0  6.315512e-01  1.830887e-01   \n",
       "Schooling                        1649.0  1.211989e+01  2.795388e+00   \n",
       "develop                          1649.0  1.467556e-01  3.539695e-01   \n",
       "\n",
       "                                        min            25%           50%  \\\n",
       "Year                             2000.00000    2005.000000  2.008000e+03   \n",
       "Life expectancy                    44.00000      64.400000  7.170000e+01   \n",
       "Adult Mortality                     1.00000      77.000000  1.480000e+02   \n",
       "infant deaths                       0.00000       1.000000  3.000000e+00   \n",
       "Alcohol                             0.01000       0.810000  3.790000e+00   \n",
       "percentage expenditure              0.00000      37.438577  1.451023e+02   \n",
       "Hepatitis B                         2.00000      74.000000  8.900000e+01   \n",
       "Measles                             0.00000       0.000000  1.500000e+01   \n",
       " BMI                                2.00000      19.500000  4.370000e+01   \n",
       "under-five deaths                   0.00000       1.000000  4.000000e+00   \n",
       "Polio                               3.00000      81.000000  9.300000e+01   \n",
       "Total expenditure                   0.74000       4.410000  5.840000e+00   \n",
       "Diphtheria                          2.00000      82.000000  9.200000e+01   \n",
       " HIV/AIDS                           0.10000       0.100000  1.000000e-01   \n",
       "GDP                                 1.68135     462.149650  1.592572e+03   \n",
       "Population                         34.00000  191897.000000  1.419631e+06   \n",
       " thinness  1-19 years               0.10000       1.600000  3.000000e+00   \n",
       " thinness 5-9 years                 0.10000       1.700000  3.200000e+00   \n",
       "Income composition of resources     0.00000       0.509000  6.730000e-01   \n",
       "Schooling                           4.20000      10.300000  1.230000e+01   \n",
       "develop                             0.00000       0.000000  0.000000e+00   \n",
       "\n",
       "                                          75%           max  \n",
       "Year                             2.011000e+03  2.015000e+03  \n",
       "Life expectancy                  7.500000e+01  8.900000e+01  \n",
       "Adult Mortality                  2.270000e+02  7.230000e+02  \n",
       "infant deaths                    2.200000e+01  1.600000e+03  \n",
       "Alcohol                          7.340000e+00  1.787000e+01  \n",
       "percentage expenditure           5.093900e+02  1.896135e+04  \n",
       "Hepatitis B                      9.600000e+01  9.900000e+01  \n",
       "Measles                          3.730000e+02  1.314410e+05  \n",
       " BMI                             5.580000e+01  7.710000e+01  \n",
       "under-five deaths                2.900000e+01  2.100000e+03  \n",
       "Polio                            9.700000e+01  9.900000e+01  \n",
       "Total expenditure                7.470000e+00  1.439000e+01  \n",
       "Diphtheria                       9.700000e+01  9.900000e+01  \n",
       " HIV/AIDS                        7.000000e-01  5.060000e+01  \n",
       "GDP                              4.718513e+03  1.191727e+05  \n",
       "Population                       7.658972e+06  1.293859e+09  \n",
       " thinness  1-19 years            7.100000e+00  2.720000e+01  \n",
       " thinness 5-9 years              7.100000e+00  2.820000e+01  \n",
       "Income composition of resources  7.510000e-01  9.360000e-01  \n",
       "Schooling                        1.400000e+01  2.070000e+01  \n",
       "develop                          0.000000e+00  1.000000e+00  "
      ],
      "text/html": "<div>\n<style scoped>\n    .dataframe tbody tr th:only-of-type {\n        vertical-align: middle;\n    }\n\n    .dataframe tbody tr th {\n        vertical-align: top;\n    }\n\n    .dataframe thead th {\n        text-align: right;\n    }\n</style>\n<table border=\"1\" class=\"dataframe\">\n  <thead>\n    <tr style=\"text-align: right;\">\n      <th></th>\n      <th>count</th>\n      <th>mean</th>\n      <th>std</th>\n      <th>min</th>\n      <th>25%</th>\n      <th>50%</th>\n      <th>75%</th>\n      <th>max</th>\n    </tr>\n  </thead>\n  <tbody>\n    <tr>\n      <th>Year</th>\n      <td>1649.0</td>\n      <td>2.007841e+03</td>\n      <td>4.087711e+00</td>\n      <td>2000.00000</td>\n      <td>2005.000000</td>\n      <td>2.008000e+03</td>\n      <td>2.011000e+03</td>\n      <td>2.015000e+03</td>\n    </tr>\n    <tr>\n      <th>Life expectancy</th>\n      <td>1649.0</td>\n      <td>6.930230e+01</td>\n      <td>8.796834e+00</td>\n      <td>44.00000</td>\n      <td>64.400000</td>\n      <td>7.170000e+01</td>\n      <td>7.500000e+01</td>\n      <td>8.900000e+01</td>\n    </tr>\n    <tr>\n      <th>Adult Mortality</th>\n      <td>1649.0</td>\n      <td>1.682153e+02</td>\n      <td>1.253104e+02</td>\n      <td>1.00000</td>\n      <td>77.000000</td>\n      <td>1.480000e+02</td>\n      <td>2.270000e+02</td>\n      <td>7.230000e+02</td>\n    </tr>\n    <tr>\n      <th>infant deaths</th>\n      <td>1649.0</td>\n      <td>3.255306e+01</td>\n      <td>1.208472e+02</td>\n      <td>0.00000</td>\n      <td>1.000000</td>\n      <td>3.000000e+00</td>\n      <td>2.200000e+01</td>\n      <td>1.600000e+03</td>\n    </tr>\n    <tr>\n      <th>Alcohol</th>\n      <td>1649.0</td>\n      <td>4.533196e+00</td>\n      <td>4.029189e+00</td>\n      <td>0.01000</td>\n      <td>0.810000</td>\n      <td>3.790000e+00</td>\n      <td>7.340000e+00</td>\n      <td>1.787000e+01</td>\n    </tr>\n    <tr>\n      <th>percentage expenditure</th>\n      <td>1649.0</td>\n      <td>6.989736e+02</td>\n      <td>1.759229e+03</td>\n      <td>0.00000</td>\n      <td>37.438577</td>\n      <td>1.451023e+02</td>\n      <td>5.093900e+02</td>\n      <td>1.896135e+04</td>\n    </tr>\n    <tr>\n      <th>Hepatitis B</th>\n      <td>1649.0</td>\n      <td>7.921771e+01</td>\n      <td>2.560466e+01</td>\n      <td>2.00000</td>\n      <td>74.000000</td>\n      <td>8.900000e+01</td>\n      <td>9.600000e+01</td>\n      <td>9.900000e+01</td>\n    </tr>\n    <tr>\n      <th>Measles</th>\n      <td>1649.0</td>\n      <td>2.224494e+03</td>\n      <td>1.008580e+04</td>\n      <td>0.00000</td>\n      <td>0.000000</td>\n      <td>1.500000e+01</td>\n      <td>3.730000e+02</td>\n      <td>1.314410e+05</td>\n    </tr>\n    <tr>\n      <th>BMI</th>\n      <td>1649.0</td>\n      <td>3.812862e+01</td>\n      <td>1.975425e+01</td>\n      <td>2.00000</td>\n      <td>19.500000</td>\n      <td>4.370000e+01</td>\n      <td>5.580000e+01</td>\n      <td>7.710000e+01</td>\n    </tr>\n    <tr>\n      <th>under-five deaths</th>\n      <td>1649.0</td>\n      <td>4.422013e+01</td>\n      <td>1.628980e+02</td>\n      <td>0.00000</td>\n      <td>1.000000</td>\n      <td>4.000000e+00</td>\n      <td>2.900000e+01</td>\n      <td>2.100000e+03</td>\n    </tr>\n    <tr>\n      <th>Polio</th>\n      <td>1649.0</td>\n      <td>8.356458e+01</td>\n      <td>2.245056e+01</td>\n      <td>3.00000</td>\n      <td>81.000000</td>\n      <td>9.300000e+01</td>\n      <td>9.700000e+01</td>\n      <td>9.900000e+01</td>\n    </tr>\n    <tr>\n      <th>Total expenditure</th>\n      <td>1649.0</td>\n      <td>5.955925e+00</td>\n      <td>2.299385e+00</td>\n      <td>0.74000</td>\n      <td>4.410000</td>\n      <td>5.840000e+00</td>\n      <td>7.470000e+00</td>\n      <td>1.439000e+01</td>\n    </tr>\n    <tr>\n      <th>Diphtheria</th>\n      <td>1649.0</td>\n      <td>8.415525e+01</td>\n      <td>2.157919e+01</td>\n      <td>2.00000</td>\n      <td>82.000000</td>\n      <td>9.200000e+01</td>\n      <td>9.700000e+01</td>\n      <td>9.900000e+01</td>\n    </tr>\n    <tr>\n      <th>HIV/AIDS</th>\n      <td>1649.0</td>\n      <td>1.983869e+00</td>\n      <td>6.032360e+00</td>\n      <td>0.10000</td>\n      <td>0.100000</td>\n      <td>1.000000e-01</td>\n      <td>7.000000e-01</td>\n      <td>5.060000e+01</td>\n    </tr>\n    <tr>\n      <th>GDP</th>\n      <td>1649.0</td>\n      <td>5.566032e+03</td>\n      <td>1.147590e+04</td>\n      <td>1.68135</td>\n      <td>462.149650</td>\n      <td>1.592572e+03</td>\n      <td>4.718513e+03</td>\n      <td>1.191727e+05</td>\n    </tr>\n    <tr>\n      <th>Population</th>\n      <td>1649.0</td>\n      <td>1.465363e+07</td>\n      <td>7.046039e+07</td>\n      <td>34.00000</td>\n      <td>191897.000000</td>\n      <td>1.419631e+06</td>\n      <td>7.658972e+06</td>\n      <td>1.293859e+09</td>\n    </tr>\n    <tr>\n      <th>thinness  1-19 years</th>\n      <td>1649.0</td>\n      <td>4.850637e+00</td>\n      <td>4.599228e+00</td>\n      <td>0.10000</td>\n      <td>1.600000</td>\n      <td>3.000000e+00</td>\n      <td>7.100000e+00</td>\n      <td>2.720000e+01</td>\n    </tr>\n    <tr>\n      <th>thinness 5-9 years</th>\n      <td>1649.0</td>\n      <td>4.907762e+00</td>\n      <td>4.653757e+00</td>\n      <td>0.10000</td>\n      <td>1.700000</td>\n      <td>3.200000e+00</td>\n      <td>7.100000e+00</td>\n      <td>2.820000e+01</td>\n    </tr>\n    <tr>\n      <th>Income composition of resources</th>\n      <td>1649.0</td>\n      <td>6.315512e-01</td>\n      <td>1.830887e-01</td>\n      <td>0.00000</td>\n      <td>0.509000</td>\n      <td>6.730000e-01</td>\n      <td>7.510000e-01</td>\n      <td>9.360000e-01</td>\n    </tr>\n    <tr>\n      <th>Schooling</th>\n      <td>1649.0</td>\n      <td>1.211989e+01</td>\n      <td>2.795388e+00</td>\n      <td>4.20000</td>\n      <td>10.300000</td>\n      <td>1.230000e+01</td>\n      <td>1.400000e+01</td>\n      <td>2.070000e+01</td>\n    </tr>\n    <tr>\n      <th>develop</th>\n      <td>1649.0</td>\n      <td>1.467556e-01</td>\n      <td>3.539695e-01</td>\n      <td>0.00000</td>\n      <td>0.000000</td>\n      <td>0.000000e+00</td>\n      <td>0.000000e+00</td>\n      <td>1.000000e+00</td>\n    </tr>\n  </tbody>\n</table>\n</div>"
     },
     "metadata": {},
     "execution_count": 12
    }
   ],
   "source": [
    "data.describe().T"
   ]
  },
  {
   "cell_type": "code",
   "execution_count": 13,
   "metadata": {},
   "outputs": [],
   "source": [
    "# ESTANDARIZAMOS NUESTRA DATA CON StandardScaler()\n",
    "\n",
    "s_scaler = StandardScaler()\n",
    "scaled_data = s_scaler.fit_transform(data)\n",
    "\n",
    "scaled_data = pd.DataFrame(scaled_data,\n",
    "columns=data.columns,\n",
    "index=data.index)"
   ]
  },
  {
   "cell_type": "code",
   "execution_count": 14,
   "metadata": {},
   "outputs": [
    {
     "output_type": "execute_result",
     "data": {
      "text/plain": [
       "                                  count          mean       std       min  \\\n",
       "Year                             1649.0 -7.962905e-15  1.000303 -1.918650   \n",
       "Life expectancy                  1649.0  7.239004e-16  1.000303 -2.877169   \n",
       "Adult Mortality                  1649.0 -7.756076e-17  1.000303 -1.334813   \n",
       "infant deaths                    1649.0 -4.308931e-18  1.000303 -0.269455   \n",
       "Alcohol                          1649.0  6.894290e-17  1.000303 -1.122948   \n",
       "percentage expenditure           1649.0  2.585359e-17  1.000303 -0.397439   \n",
       "Hepatitis B                      1649.0  1.637394e-16  1.000303 -3.016682   \n",
       "Measles                          1649.0 -4.308931e-18  1.000303 -0.220624   \n",
       " BMI                             1649.0 -6.894290e-17  1.000303 -1.829459   \n",
       "under-five deaths                1649.0 -2.585359e-17  1.000303 -0.271541   \n",
       "Polio                            1649.0  2.574586e-16  1.000303 -3.589622   \n",
       "Total expenditure                1649.0  1.680483e-16  1.000303 -2.269088   \n",
       "Diphtheria                       1649.0  1.292679e-17  1.000303 -3.808306   \n",
       " HIV/AIDS                        1649.0  6.032504e-17  1.000303 -0.312389   \n",
       "GDP                              1649.0  8.617862e-17  1.000303 -0.485020   \n",
       "Population                       1649.0 -3.016252e-17  1.000303 -0.208032   \n",
       " thinness  1-19 years            1649.0  5.601610e-17  1.000303 -1.033234   \n",
       " thinness 5-9 years              1649.0 -7.756076e-17  1.000303 -1.033406   \n",
       "Income composition of resources  1649.0  1.723572e-16  1.000303 -3.450474   \n",
       "Schooling                        1649.0  7.928433e-16  1.000303 -2.834059   \n",
       "develop                          1649.0 -3.016252e-17  1.000303 -0.414725   \n",
       "\n",
       "                                      25%       50%       75%        max  \n",
       "Year                            -0.695101  0.039029  0.773159   1.751998  \n",
       "Life expectancy                 -0.557450  0.272646  0.647895   2.239859  \n",
       "Adult Mortality                 -0.728135 -0.161371  0.469255   4.428626  \n",
       "infant deaths                   -0.261178 -0.244623 -0.087352  12.974422  \n",
       "Alcohol                         -0.924336 -0.184509  0.696829   3.311051  \n",
       "percentage expenditure          -0.376151 -0.314933 -0.107798  10.384044  \n",
       "Hepatitis B                     -0.203841  0.382167  0.655638   0.772839  \n",
       "Measles                         -0.220624 -0.219136 -0.183630  12.815610  \n",
       " BMI                            -0.943305  0.282120  0.894832   1.973408  \n",
       "under-five deaths               -0.265401 -0.246979 -0.093462  12.623872  \n",
       "Polio                           -0.114267  0.420403  0.598626   0.687738  \n",
       "Total expenditure               -0.672525 -0.050431  0.658669   3.669082  \n",
       "Diphtheria                      -0.099906  0.363644  0.595419   0.688128  \n",
       " HIV/AIDS                       -0.312389 -0.312389 -0.212895   8.061668  \n",
       "GDP                             -0.444883 -0.346349 -0.073874   9.902593  \n",
       "Population                      -0.205308 -0.187879 -0.099301  18.160468  \n",
       " thinness  1-19 years           -0.706993 -0.402502  0.489222   4.860846  \n",
       " thinness 5-9 years             -0.689494 -0.367076  0.471211   5.006558  \n",
       "Income composition of resources -0.669557  0.226455  0.652607   1.663353  \n",
       "Schooling                       -0.651231  0.064450  0.672780   3.070312  \n",
       "develop                         -0.414725 -0.414725 -0.414725   2.411234  "
      ],
      "text/html": "<div>\n<style scoped>\n    .dataframe tbody tr th:only-of-type {\n        vertical-align: middle;\n    }\n\n    .dataframe tbody tr th {\n        vertical-align: top;\n    }\n\n    .dataframe thead th {\n        text-align: right;\n    }\n</style>\n<table border=\"1\" class=\"dataframe\">\n  <thead>\n    <tr style=\"text-align: right;\">\n      <th></th>\n      <th>count</th>\n      <th>mean</th>\n      <th>std</th>\n      <th>min</th>\n      <th>25%</th>\n      <th>50%</th>\n      <th>75%</th>\n      <th>max</th>\n    </tr>\n  </thead>\n  <tbody>\n    <tr>\n      <th>Year</th>\n      <td>1649.0</td>\n      <td>-7.962905e-15</td>\n      <td>1.000303</td>\n      <td>-1.918650</td>\n      <td>-0.695101</td>\n      <td>0.039029</td>\n      <td>0.773159</td>\n      <td>1.751998</td>\n    </tr>\n    <tr>\n      <th>Life expectancy</th>\n      <td>1649.0</td>\n      <td>7.239004e-16</td>\n      <td>1.000303</td>\n      <td>-2.877169</td>\n      <td>-0.557450</td>\n      <td>0.272646</td>\n      <td>0.647895</td>\n      <td>2.239859</td>\n    </tr>\n    <tr>\n      <th>Adult Mortality</th>\n      <td>1649.0</td>\n      <td>-7.756076e-17</td>\n      <td>1.000303</td>\n      <td>-1.334813</td>\n      <td>-0.728135</td>\n      <td>-0.161371</td>\n      <td>0.469255</td>\n      <td>4.428626</td>\n    </tr>\n    <tr>\n      <th>infant deaths</th>\n      <td>1649.0</td>\n      <td>-4.308931e-18</td>\n      <td>1.000303</td>\n      <td>-0.269455</td>\n      <td>-0.261178</td>\n      <td>-0.244623</td>\n      <td>-0.087352</td>\n      <td>12.974422</td>\n    </tr>\n    <tr>\n      <th>Alcohol</th>\n      <td>1649.0</td>\n      <td>6.894290e-17</td>\n      <td>1.000303</td>\n      <td>-1.122948</td>\n      <td>-0.924336</td>\n      <td>-0.184509</td>\n      <td>0.696829</td>\n      <td>3.311051</td>\n    </tr>\n    <tr>\n      <th>percentage expenditure</th>\n      <td>1649.0</td>\n      <td>2.585359e-17</td>\n      <td>1.000303</td>\n      <td>-0.397439</td>\n      <td>-0.376151</td>\n      <td>-0.314933</td>\n      <td>-0.107798</td>\n      <td>10.384044</td>\n    </tr>\n    <tr>\n      <th>Hepatitis B</th>\n      <td>1649.0</td>\n      <td>1.637394e-16</td>\n      <td>1.000303</td>\n      <td>-3.016682</td>\n      <td>-0.203841</td>\n      <td>0.382167</td>\n      <td>0.655638</td>\n      <td>0.772839</td>\n    </tr>\n    <tr>\n      <th>Measles</th>\n      <td>1649.0</td>\n      <td>-4.308931e-18</td>\n      <td>1.000303</td>\n      <td>-0.220624</td>\n      <td>-0.220624</td>\n      <td>-0.219136</td>\n      <td>-0.183630</td>\n      <td>12.815610</td>\n    </tr>\n    <tr>\n      <th>BMI</th>\n      <td>1649.0</td>\n      <td>-6.894290e-17</td>\n      <td>1.000303</td>\n      <td>-1.829459</td>\n      <td>-0.943305</td>\n      <td>0.282120</td>\n      <td>0.894832</td>\n      <td>1.973408</td>\n    </tr>\n    <tr>\n      <th>under-five deaths</th>\n      <td>1649.0</td>\n      <td>-2.585359e-17</td>\n      <td>1.000303</td>\n      <td>-0.271541</td>\n      <td>-0.265401</td>\n      <td>-0.246979</td>\n      <td>-0.093462</td>\n      <td>12.623872</td>\n    </tr>\n    <tr>\n      <th>Polio</th>\n      <td>1649.0</td>\n      <td>2.574586e-16</td>\n      <td>1.000303</td>\n      <td>-3.589622</td>\n      <td>-0.114267</td>\n      <td>0.420403</td>\n      <td>0.598626</td>\n      <td>0.687738</td>\n    </tr>\n    <tr>\n      <th>Total expenditure</th>\n      <td>1649.0</td>\n      <td>1.680483e-16</td>\n      <td>1.000303</td>\n      <td>-2.269088</td>\n      <td>-0.672525</td>\n      <td>-0.050431</td>\n      <td>0.658669</td>\n      <td>3.669082</td>\n    </tr>\n    <tr>\n      <th>Diphtheria</th>\n      <td>1649.0</td>\n      <td>1.292679e-17</td>\n      <td>1.000303</td>\n      <td>-3.808306</td>\n      <td>-0.099906</td>\n      <td>0.363644</td>\n      <td>0.595419</td>\n      <td>0.688128</td>\n    </tr>\n    <tr>\n      <th>HIV/AIDS</th>\n      <td>1649.0</td>\n      <td>6.032504e-17</td>\n      <td>1.000303</td>\n      <td>-0.312389</td>\n      <td>-0.312389</td>\n      <td>-0.312389</td>\n      <td>-0.212895</td>\n      <td>8.061668</td>\n    </tr>\n    <tr>\n      <th>GDP</th>\n      <td>1649.0</td>\n      <td>8.617862e-17</td>\n      <td>1.000303</td>\n      <td>-0.485020</td>\n      <td>-0.444883</td>\n      <td>-0.346349</td>\n      <td>-0.073874</td>\n      <td>9.902593</td>\n    </tr>\n    <tr>\n      <th>Population</th>\n      <td>1649.0</td>\n      <td>-3.016252e-17</td>\n      <td>1.000303</td>\n      <td>-0.208032</td>\n      <td>-0.205308</td>\n      <td>-0.187879</td>\n      <td>-0.099301</td>\n      <td>18.160468</td>\n    </tr>\n    <tr>\n      <th>thinness  1-19 years</th>\n      <td>1649.0</td>\n      <td>5.601610e-17</td>\n      <td>1.000303</td>\n      <td>-1.033234</td>\n      <td>-0.706993</td>\n      <td>-0.402502</td>\n      <td>0.489222</td>\n      <td>4.860846</td>\n    </tr>\n    <tr>\n      <th>thinness 5-9 years</th>\n      <td>1649.0</td>\n      <td>-7.756076e-17</td>\n      <td>1.000303</td>\n      <td>-1.033406</td>\n      <td>-0.689494</td>\n      <td>-0.367076</td>\n      <td>0.471211</td>\n      <td>5.006558</td>\n    </tr>\n    <tr>\n      <th>Income composition of resources</th>\n      <td>1649.0</td>\n      <td>1.723572e-16</td>\n      <td>1.000303</td>\n      <td>-3.450474</td>\n      <td>-0.669557</td>\n      <td>0.226455</td>\n      <td>0.652607</td>\n      <td>1.663353</td>\n    </tr>\n    <tr>\n      <th>Schooling</th>\n      <td>1649.0</td>\n      <td>7.928433e-16</td>\n      <td>1.000303</td>\n      <td>-2.834059</td>\n      <td>-0.651231</td>\n      <td>0.064450</td>\n      <td>0.672780</td>\n      <td>3.070312</td>\n    </tr>\n    <tr>\n      <th>develop</th>\n      <td>1649.0</td>\n      <td>-3.016252e-17</td>\n      <td>1.000303</td>\n      <td>-0.414725</td>\n      <td>-0.414725</td>\n      <td>-0.414725</td>\n      <td>-0.414725</td>\n      <td>2.411234</td>\n    </tr>\n  </tbody>\n</table>\n</div>"
     },
     "metadata": {},
     "execution_count": 14
    }
   ],
   "source": [
    "scaled_data.describe().T"
   ]
  },
  {
   "cell_type": "code",
   "execution_count": 15,
   "metadata": {},
   "outputs": [],
   "source": [
    "target = data['Life expectancy ']\n",
    "features = scaled_data.drop('Life expectancy ',axis=1).values"
   ]
  },
  {
   "cell_type": "code",
   "execution_count": 16,
   "metadata": {},
   "outputs": [],
   "source": [
    "# DIVIDIMOS LA DATA EN TRAIN_TEST\n",
    "from sklearn.model_selection import train_test_split\n",
    "\n",
    "x_train,x_test, y_train, y_test = train_test_split(features,target,\n",
    "test_size=0.2,\n",
    "random_state=1)"
   ]
  },
  {
   "cell_type": "code",
   "execution_count": 17,
   "metadata": {},
   "outputs": [
    {
     "output_type": "execute_result",
     "data": {
      "text/plain": [
       "(1319, 20)"
      ]
     },
     "metadata": {},
     "execution_count": 17
    }
   ],
   "source": [
    "x_train.shape"
   ]
  },
  {
   "source": [
    "# DEFINIENDO LOS MODELOS "
   ],
   "cell_type": "markdown",
   "metadata": {}
  },
  {
   "cell_type": "code",
   "execution_count": 25,
   "metadata": {},
   "outputs": [],
   "source": [
    "def single_layer_model():\n",
    "    '''\n",
    "    Red Neuronal de una sola copa\n",
    "    - Optimer : ADAptive Moment (ADAM)\n",
    "    - Metrics : Mean Square Erro (mse), \n",
    "                Mean Absolute Error (mae)\n",
    "    '''\n",
    "\n",
    "    model = tf.keras.Sequential([\n",
    "        tf.keras.layers.Dense(32, input_shape=(x_train.shape[1],), activation='sigmoid'),\n",
    "        tf.keras.layers.Dense(1)\n",
    "    ])\n",
    "\n",
    "    optimizer = tf.keras.optimizers.Adam(learning_rate=0.01)\n",
    "    \n",
    "    model.compile(loss='mse',\n",
    "    metrics=['mse','mae'],\n",
    "    optimizer=optimizer)\n",
    "\n",
    "    return model \n"
   ]
  },
  {
   "cell_type": "code",
   "execution_count": 26,
   "metadata": {},
   "outputs": [
    {
     "output_type": "stream",
     "name": "stdout",
     "text": [
      "Model: \"sequential_2\"\n_________________________________________________________________\nLayer (type)                 Output Shape              Param #   \n=================================================================\ndense_4 (Dense)              (None, 32)                672       \n_________________________________________________________________\ndense_5 (Dense)              (None, 1)                 33        \n=================================================================\nTotal params: 705\nTrainable params: 705\nNon-trainable params: 0\n_________________________________________________________________\n"
     ]
    }
   ],
   "source": [
    "model = single_layer_model()\n",
    "\n",
    "# PARA VER UN RESUMEN DE NUESTRO MODELO\n",
    "model.summary()"
   ]
  },
  {
   "cell_type": "code",
   "execution_count": 27,
   "metadata": {},
   "outputs": [
    {
     "output_type": "execute_result",
     "data": {
      "image/png": "[encoded data removed]",
      "text/plain": [
       "<IPython.core.display.Image object>"
      ]
     },
     "metadata": {},
     "execution_count": 27
    }
   ],
   "source": [
    "# PARA VER DE MANERA VISUAL NUESTRO MODELO\n",
    "tf.keras.utils.plot_model(model)"
   ]
  },
  {
   "cell_type": "code",
   "execution_count": 28,
   "metadata": {},
   "outputs": [
    {
     "output_type": "stream",
     "name": "stdout",
     "text": [
      "Epoch 1/100\n",
      "33/33 [==============================] - 1s 6ms/step - loss: 4664.8413 - mse: 4664.8413 - mae: 67.8017 - val_loss: 3971.8203 - val_mse: 3971.8203 - val_mae: 62.4929\n",
      "Epoch 2/100\n",
      "33/33 [==============================] - 0s 2ms/step - loss: 3725.1182 - mse: 3725.1182 - mae: 60.5338 - val_loss: 3051.9023 - val_mse: 3051.9023 - val_mae: 54.7500\n",
      "Epoch 3/100\n",
      "33/33 [==============================] - 0s 2ms/step - loss: 2856.0285 - mse: 2856.0285 - mae: 52.9648 - val_loss: 2131.0227 - val_mse: 2131.0227 - val_mae: 45.4923\n",
      "Epoch 4/100\n",
      "33/33 [==============================] - 0s 2ms/step - loss: 1896.7800 - mse: 1896.7800 - mae: 42.8562 - val_loss: 1339.7130 - val_mse: 1339.7130 - val_mae: 35.8572\n",
      "Epoch 5/100\n",
      "33/33 [==============================] - 0s 2ms/step - loss: 1183.9187 - mse: 1183.9187 - mae: 33.5022 - val_loss: 784.7217 - val_mse: 784.7217 - val_mae: 26.8997\n",
      "Epoch 6/100\n",
      "33/33 [==============================] - 0s 2ms/step - loss: 661.1609 - mse: 661.1609 - mae: 24.4697 - val_loss: 439.9380 - val_mse: 439.9380 - val_mae: 19.6671\n",
      "Epoch 7/100\n",
      "33/33 [==============================] - 0s 2ms/step - loss: 385.5126 - mse: 385.5126 - mae: 18.1595 - val_loss: 241.8467 - val_mse: 241.8467 - val_mae: 13.7928\n",
      "Epoch 8/100\n",
      "33/33 [==============================] - 0s 2ms/step - loss: 199.1451 - mse: 199.1451 - mae: 12.2627 - val_loss: 137.5235 - val_mse: 137.5235 - val_mae: 9.7390\n",
      "Epoch 9/100\n",
      "33/33 [==============================] - 0s 2ms/step - loss: 106.6443 - mse: 106.6443 - mae: 8.3914 - val_loss: 84.0397 - val_mse: 84.0397 - val_mae: 7.1489\n",
      "Epoch 10/100\n",
      "33/33 [==============================] - 0s 2ms/step - loss: 75.1246 - mse: 75.1246 - mae: 6.5199 - val_loss: 56.4971 - val_mse: 56.4971 - val_mae: 5.5730\n",
      "Epoch 11/100\n",
      "33/33 [==============================] - 0s 2ms/step - loss: 49.7213 - mse: 49.7213 - mae: 5.1417 - val_loss: 41.7772 - val_mse: 41.7772 - val_mae: 4.6624\n",
      "Epoch 12/100\n",
      "33/33 [==============================] - 0s 2ms/step - loss: 35.4127 - mse: 35.4127 - mae: 4.3583 - val_loss: 32.3664 - val_mse: 32.3664 - val_mae: 4.0570\n",
      "Epoch 13/100\n",
      "33/33 [==============================] - 0s 2ms/step - loss: 27.8685 - mse: 27.8685 - mae: 3.8933 - val_loss: 27.1499 - val_mse: 27.1499 - val_mae: 3.6933\n",
      "Epoch 14/100\n",
      "33/33 [==============================] - 0s 2ms/step - loss: 23.9033 - mse: 23.9033 - mae: 3.5674 - val_loss: 23.8457 - val_mse: 23.8457 - val_mae: 3.4924\n",
      "Epoch 15/100\n",
      "33/33 [==============================] - 0s 2ms/step - loss: 21.4193 - mse: 21.4193 - mae: 3.3947 - val_loss: 21.2210 - val_mse: 21.2210 - val_mae: 3.3285\n",
      "Epoch 16/100\n",
      "33/33 [==============================] - 0s 2ms/step - loss: 18.8157 - mse: 18.8157 - mae: 3.2727 - val_loss: 19.6081 - val_mse: 19.6081 - val_mae: 3.2242\n",
      "Epoch 17/100\n",
      "33/33 [==============================] - 0s 2ms/step - loss: 16.6720 - mse: 16.6720 - mae: 3.1205 - val_loss: 18.2852 - val_mse: 18.2852 - val_mae: 3.1425\n",
      "Epoch 18/100\n",
      "33/33 [==============================] - 0s 2ms/step - loss: 15.5726 - mse: 15.5726 - mae: 2.9942 - val_loss: 17.5261 - val_mse: 17.5261 - val_mae: 3.0787\n",
      "Epoch 19/100\n",
      "33/33 [==============================] - 0s 2ms/step - loss: 15.9600 - mse: 15.9600 - mae: 3.0440 - val_loss: 16.9995 - val_mse: 16.9995 - val_mae: 3.0356\n",
      "Epoch 20/100\n",
      "33/33 [==============================] - 0s 2ms/step - loss: 14.0033 - mse: 14.0033 - mae: 2.7601 - val_loss: 16.2592 - val_mse: 16.2592 - val_mae: 2.9656\n",
      "Epoch 21/100\n",
      "33/33 [==============================] - 0s 2ms/step - loss: 14.2144 - mse: 14.2144 - mae: 2.8923 - val_loss: 15.7547 - val_mse: 15.7547 - val_mae: 2.9132\n",
      "Epoch 22/100\n",
      "33/33 [==============================] - 0s 2ms/step - loss: 14.4920 - mse: 14.4920 - mae: 2.7957 - val_loss: 15.3454 - val_mse: 15.3454 - val_mae: 2.8803\n",
      "Epoch 23/100\n",
      "33/33 [==============================] - 0s 2ms/step - loss: 12.8268 - mse: 12.8268 - mae: 2.6771 - val_loss: 14.9021 - val_mse: 14.9021 - val_mae: 2.8367\n",
      "Epoch 24/100\n",
      "33/33 [==============================] - 0s 2ms/step - loss: 13.3448 - mse: 13.3448 - mae: 2.7415 - val_loss: 14.2967 - val_mse: 14.2967 - val_mae: 2.7623\n",
      "Epoch 25/100\n",
      "33/33 [==============================] - 0s 2ms/step - loss: 12.6379 - mse: 12.6379 - mae: 2.6654 - val_loss: 14.0403 - val_mse: 14.0403 - val_mae: 2.7446\n",
      "Epoch 26/100\n",
      "33/33 [==============================] - 0s 2ms/step - loss: 11.6106 - mse: 11.6106 - mae: 2.6030 - val_loss: 13.5857 - val_mse: 13.5857 - val_mae: 2.6954\n",
      "Epoch 27/100\n",
      "33/33 [==============================] - 0s 2ms/step - loss: 11.2760 - mse: 11.2760 - mae: 2.4986 - val_loss: 13.2199 - val_mse: 13.2199 - val_mae: 2.6520\n",
      "Epoch 28/100\n",
      "33/33 [==============================] - 0s 2ms/step - loss: 10.9716 - mse: 10.9716 - mae: 2.4761 - val_loss: 13.0413 - val_mse: 13.0413 - val_mae: 2.6390\n",
      "Epoch 29/100\n",
      "33/33 [==============================] - 0s 2ms/step - loss: 11.8159 - mse: 11.8159 - mae: 2.5817 - val_loss: 12.7413 - val_mse: 12.7413 - val_mae: 2.6110\n",
      "Epoch 30/100\n",
      "33/33 [==============================] - 0s 2ms/step - loss: 10.9737 - mse: 10.9737 - mae: 2.4052 - val_loss: 12.2995 - val_mse: 12.2995 - val_mae: 2.5502\n",
      "Epoch 31/100\n",
      "33/33 [==============================] - 0s 2ms/step - loss: 9.8159 - mse: 9.8159 - mae: 2.3413 - val_loss: 12.2338 - val_mse: 12.2338 - val_mae: 2.5560\n",
      "Epoch 32/100\n",
      "33/33 [==============================] - 0s 2ms/step - loss: 10.1827 - mse: 10.1827 - mae: 2.3631 - val_loss: 11.8519 - val_mse: 11.8519 - val_mae: 2.5050\n",
      "Epoch 33/100\n",
      "33/33 [==============================] - 0s 2ms/step - loss: 10.0710 - mse: 10.0710 - mae: 2.3254 - val_loss: 11.6168 - val_mse: 11.6168 - val_mae: 2.4657\n",
      "Epoch 34/100\n",
      "33/33 [==============================] - 0s 2ms/step - loss: 9.0270 - mse: 9.0270 - mae: 2.2360 - val_loss: 11.3484 - val_mse: 11.3484 - val_mae: 2.4518\n",
      "Epoch 35/100\n",
      "33/33 [==============================] - 0s 2ms/step - loss: 9.1034 - mse: 9.1034 - mae: 2.2076 - val_loss: 10.9786 - val_mse: 10.9786 - val_mae: 2.3974\n",
      "Epoch 36/100\n",
      "33/33 [==============================] - 0s 2ms/step - loss: 8.8263 - mse: 8.8263 - mae: 2.1965 - val_loss: 10.8858 - val_mse: 10.8858 - val_mae: 2.3642\n",
      "Epoch 37/100\n",
      "33/33 [==============================] - 0s 2ms/step - loss: 8.1812 - mse: 8.1812 - mae: 2.0985 - val_loss: 10.7213 - val_mse: 10.7213 - val_mae: 2.3445\n",
      "Epoch 38/100\n",
      "33/33 [==============================] - 0s 2ms/step - loss: 8.0792 - mse: 8.0792 - mae: 2.1511 - val_loss: 10.4381 - val_mse: 10.4381 - val_mae: 2.3133\n",
      "Epoch 39/100\n",
      "33/33 [==============================] - 0s 2ms/step - loss: 7.7665 - mse: 7.7665 - mae: 2.1206 - val_loss: 10.5145 - val_mse: 10.5145 - val_mae: 2.3362\n",
      "Epoch 40/100\n",
      "33/33 [==============================] - 0s 2ms/step - loss: 8.0448 - mse: 8.0448 - mae: 2.1284 - val_loss: 10.0520 - val_mse: 10.0520 - val_mae: 2.2481\n",
      "Epoch 41/100\n",
      "33/33 [==============================] - 0s 2ms/step - loss: 8.2633 - mse: 8.2633 - mae: 2.0804 - val_loss: 10.0858 - val_mse: 10.0858 - val_mae: 2.2549\n",
      "Epoch 42/100\n",
      "33/33 [==============================] - 0s 2ms/step - loss: 8.1880 - mse: 8.1880 - mae: 2.1334 - val_loss: 9.7709 - val_mse: 9.7709 - val_mae: 2.2042\n",
      "Epoch 43/100\n",
      "33/33 [==============================] - 0s 3ms/step - loss: 8.0427 - mse: 8.0427 - mae: 2.0936 - val_loss: 9.7202 - val_mse: 9.7202 - val_mae: 2.1955\n",
      "Epoch 44/100\n",
      "33/33 [==============================] - 0s 2ms/step - loss: 6.7229 - mse: 6.7229 - mae: 1.9549 - val_loss: 9.6115 - val_mse: 9.6115 - val_mae: 2.1785\n",
      "Epoch 45/100\n",
      "33/33 [==============================] - 0s 2ms/step - loss: 6.8206 - mse: 6.8206 - mae: 1.9470 - val_loss: 9.4746 - val_mse: 9.4746 - val_mae: 2.1698\n",
      "Epoch 46/100\n",
      "33/33 [==============================] - 0s 2ms/step - loss: 7.4260 - mse: 7.4260 - mae: 2.0724 - val_loss: 9.3786 - val_mse: 9.3786 - val_mae: 2.1435\n",
      "Epoch 47/100\n",
      "33/33 [==============================] - 0s 2ms/step - loss: 7.0885 - mse: 7.0885 - mae: 2.0215 - val_loss: 9.2907 - val_mse: 9.2907 - val_mae: 2.1416\n",
      "Epoch 48/100\n",
      "33/33 [==============================] - 0s 2ms/step - loss: 6.4395 - mse: 6.4395 - mae: 1.8870 - val_loss: 9.1851 - val_mse: 9.1851 - val_mae: 2.1233\n",
      "Epoch 49/100\n",
      "33/33 [==============================] - 0s 2ms/step - loss: 7.0060 - mse: 7.0060 - mae: 1.9713 - val_loss: 9.0744 - val_mse: 9.0744 - val_mae: 2.1027\n",
      "Epoch 50/100\n",
      "33/33 [==============================] - 0s 2ms/step - loss: 6.2245 - mse: 6.2245 - mae: 1.8574 - val_loss: 9.1385 - val_mse: 9.1385 - val_mae: 2.1196\n",
      "Epoch 51/100\n",
      "33/33 [==============================] - 0s 2ms/step - loss: 6.7827 - mse: 6.7827 - mae: 1.9488 - val_loss: 9.0211 - val_mse: 9.0211 - val_mae: 2.1243\n",
      "Epoch 52/100\n",
      "33/33 [==============================] - 0s 2ms/step - loss: 6.7213 - mse: 6.7213 - mae: 1.9685 - val_loss: 8.9015 - val_mse: 8.9015 - val_mae: 2.1037\n",
      "Epoch 53/100\n",
      "33/33 [==============================] - 0s 2ms/step - loss: 6.6583 - mse: 6.6583 - mae: 1.9339 - val_loss: 8.7331 - val_mse: 8.7331 - val_mae: 2.0779\n",
      "Epoch 54/100\n",
      "33/33 [==============================] - 0s 2ms/step - loss: 6.3477 - mse: 6.3477 - mae: 1.8971 - val_loss: 8.7690 - val_mse: 8.7690 - val_mae: 2.0879\n",
      "Epoch 55/100\n",
      "33/33 [==============================] - 0s 2ms/step - loss: 6.0727 - mse: 6.0727 - mae: 1.8583 - val_loss: 8.6936 - val_mse: 8.6936 - val_mae: 2.0817\n",
      "Epoch 56/100\n",
      "33/33 [==============================] - 0s 2ms/step - loss: 6.2718 - mse: 6.2718 - mae: 1.8429 - val_loss: 8.6208 - val_mse: 8.6208 - val_mae: 2.0641\n",
      "Epoch 57/100\n",
      "33/33 [==============================] - 0s 2ms/step - loss: 5.9734 - mse: 5.9734 - mae: 1.8390 - val_loss: 8.5543 - val_mse: 8.5543 - val_mae: 2.0553\n",
      "Epoch 58/100\n",
      "33/33 [==============================] - 0s 3ms/step - loss: 5.4162 - mse: 5.4162 - mae: 1.7551 - val_loss: 8.6267 - val_mse: 8.6267 - val_mae: 2.0748\n",
      "Epoch 59/100\n",
      "33/33 [==============================] - 0s 2ms/step - loss: 6.3808 - mse: 6.3808 - mae: 1.8485 - val_loss: 8.5911 - val_mse: 8.5911 - val_mae: 2.0704\n",
      "Epoch 60/100\n",
      "33/33 [==============================] - 0s 2ms/step - loss: 5.8931 - mse: 5.8931 - mae: 1.8256 - val_loss: 8.3765 - val_mse: 8.3765 - val_mae: 2.0588\n",
      "Epoch 61/100\n",
      "33/33 [==============================] - 0s 2ms/step - loss: 5.5631 - mse: 5.5631 - mae: 1.7998 - val_loss: 8.3280 - val_mse: 8.3280 - val_mae: 2.0252\n",
      "Epoch 62/100\n",
      "33/33 [==============================] - 0s 2ms/step - loss: 5.7730 - mse: 5.7730 - mae: 1.8029 - val_loss: 8.4364 - val_mse: 8.4364 - val_mae: 2.0569\n",
      "Epoch 63/100\n",
      "33/33 [==============================] - 0s 2ms/step - loss: 5.3909 - mse: 5.3909 - mae: 1.7680 - val_loss: 8.2738 - val_mse: 8.2738 - val_mae: 2.0255\n",
      "Epoch 64/100\n",
      "33/33 [==============================] - 0s 2ms/step - loss: 6.6146 - mse: 6.6146 - mae: 1.9018 - val_loss: 8.2973 - val_mse: 8.2973 - val_mae: 2.0262\n",
      "Epoch 65/100\n",
      "33/33 [==============================] - 0s 2ms/step - loss: 5.8338 - mse: 5.8338 - mae: 1.8046 - val_loss: 8.3107 - val_mse: 8.3107 - val_mae: 2.0392\n",
      "Epoch 66/100\n",
      "33/33 [==============================] - 0s 2ms/step - loss: 5.4299 - mse: 5.4299 - mae: 1.7706 - val_loss: 8.1902 - val_mse: 8.1902 - val_mae: 2.0175\n",
      "Epoch 67/100\n",
      "33/33 [==============================] - 0s 2ms/step - loss: 5.8121 - mse: 5.8121 - mae: 1.8099 - val_loss: 8.2346 - val_mse: 8.2346 - val_mae: 2.0283\n",
      "Epoch 68/100\n",
      "33/33 [==============================] - 0s 2ms/step - loss: 6.6802 - mse: 6.6802 - mae: 1.8999 - val_loss: 8.2352 - val_mse: 8.2352 - val_mae: 2.0428\n",
      "Epoch 69/100\n",
      "33/33 [==============================] - 0s 2ms/step - loss: 5.8517 - mse: 5.8517 - mae: 1.7872 - val_loss: 8.0209 - val_mse: 8.0209 - val_mae: 1.9821\n",
      "Epoch 70/100\n",
      "33/33 [==============================] - 0s 2ms/step - loss: 5.6368 - mse: 5.6368 - mae: 1.7924 - val_loss: 8.0784 - val_mse: 8.0784 - val_mae: 2.0031\n",
      "Epoch 71/100\n",
      "33/33 [==============================] - 0s 2ms/step - loss: 5.9624 - mse: 5.9624 - mae: 1.8098 - val_loss: 8.0524 - val_mse: 8.0524 - val_mae: 1.9842\n",
      "Epoch 72/100\n",
      "33/33 [==============================] - 0s 2ms/step - loss: 5.4582 - mse: 5.4582 - mae: 1.7207 - val_loss: 8.0358 - val_mse: 8.0358 - val_mae: 1.9911\n",
      "Epoch 73/100\n",
      "33/33 [==============================] - 0s 2ms/step - loss: 5.1291 - mse: 5.1291 - mae: 1.6869 - val_loss: 7.9593 - val_mse: 7.9593 - val_mae: 1.9793\n",
      "Epoch 74/100\n",
      "33/33 [==============================] - 0s 2ms/step - loss: 5.7677 - mse: 5.7677 - mae: 1.8091 - val_loss: 7.9282 - val_mse: 7.9282 - val_mae: 1.9766\n",
      "Epoch 75/100\n",
      "33/33 [==============================] - 0s 2ms/step - loss: 5.8936 - mse: 5.8936 - mae: 1.8125 - val_loss: 7.9531 - val_mse: 7.9531 - val_mae: 1.9755\n",
      "Epoch 76/100\n",
      "33/33 [==============================] - 0s 2ms/step - loss: 5.7132 - mse: 5.7132 - mae: 1.7284 - val_loss: 7.8142 - val_mse: 7.8142 - val_mae: 1.9637\n",
      "Epoch 77/100\n",
      "33/33 [==============================] - 0s 2ms/step - loss: 5.3117 - mse: 5.3117 - mae: 1.7340 - val_loss: 7.7449 - val_mse: 7.7449 - val_mae: 1.9523\n",
      "Epoch 78/100\n",
      "33/33 [==============================] - 0s 2ms/step - loss: 5.4299 - mse: 5.4299 - mae: 1.7362 - val_loss: 7.7460 - val_mse: 7.7460 - val_mae: 1.9506\n",
      "Epoch 79/100\n",
      "33/33 [==============================] - 0s 2ms/step - loss: 5.0573 - mse: 5.0573 - mae: 1.6851 - val_loss: 7.7604 - val_mse: 7.7604 - val_mae: 1.9862\n",
      "Epoch 80/100\n",
      "33/33 [==============================] - 0s 3ms/step - loss: 5.0964 - mse: 5.0964 - mae: 1.7194 - val_loss: 7.7393 - val_mse: 7.7393 - val_mae: 1.9480\n",
      "Epoch 81/100\n",
      "33/33 [==============================] - 0s 2ms/step - loss: 5.0322 - mse: 5.0322 - mae: 1.6759 - val_loss: 7.6533 - val_mse: 7.6533 - val_mae: 1.9474\n",
      "Epoch 82/100\n",
      "33/33 [==============================] - 0s 2ms/step - loss: 5.1035 - mse: 5.1035 - mae: 1.6957 - val_loss: 7.5550 - val_mse: 7.5550 - val_mae: 1.9293\n",
      "Epoch 83/100\n",
      "33/33 [==============================] - 0s 2ms/step - loss: 5.0902 - mse: 5.0902 - mae: 1.6535 - val_loss: 7.6885 - val_mse: 7.6885 - val_mae: 1.9580\n",
      "Epoch 84/100\n",
      "33/33 [==============================] - 0s 2ms/step - loss: 5.6270 - mse: 5.6270 - mae: 1.7436 - val_loss: 7.5563 - val_mse: 7.5563 - val_mae: 1.9305\n",
      "Epoch 85/100\n",
      "33/33 [==============================] - 0s 2ms/step - loss: 5.6990 - mse: 5.6990 - mae: 1.7513 - val_loss: 7.6593 - val_mse: 7.6593 - val_mae: 1.9455\n",
      "Epoch 86/100\n",
      "33/33 [==============================] - 0s 2ms/step - loss: 5.0231 - mse: 5.0231 - mae: 1.6745 - val_loss: 7.5756 - val_mse: 7.5756 - val_mae: 1.9233\n",
      "Epoch 87/100\n",
      "33/33 [==============================] - 0s 2ms/step - loss: 5.1350 - mse: 5.1350 - mae: 1.6917 - val_loss: 7.4193 - val_mse: 7.4193 - val_mae: 1.9118\n",
      "Epoch 88/100\n",
      "33/33 [==============================] - 0s 2ms/step - loss: 5.5138 - mse: 5.5138 - mae: 1.7671 - val_loss: 7.4436 - val_mse: 7.4436 - val_mae: 1.8847\n",
      "Epoch 89/100\n",
      "33/33 [==============================] - 0s 2ms/step - loss: 5.0975 - mse: 5.0975 - mae: 1.6651 - val_loss: 7.3397 - val_mse: 7.3397 - val_mae: 1.8818\n",
      "Epoch 90/100\n",
      "33/33 [==============================] - 0s 2ms/step - loss: 4.6568 - mse: 4.6568 - mae: 1.5881 - val_loss: 7.4404 - val_mse: 7.4404 - val_mae: 1.9299\n",
      "Epoch 91/100\n",
      "33/33 [==============================] - 0s 2ms/step - loss: 5.0356 - mse: 5.0356 - mae: 1.6810 - val_loss: 7.4129 - val_mse: 7.4129 - val_mae: 1.9172\n",
      "Epoch 92/100\n",
      "33/33 [==============================] - 0s 2ms/step - loss: 5.4557 - mse: 5.4557 - mae: 1.6943 - val_loss: 7.4153 - val_mse: 7.4153 - val_mae: 1.9171\n",
      "Epoch 93/100\n",
      "33/33 [==============================] - 0s 2ms/step - loss: 4.5059 - mse: 4.5059 - mae: 1.5759 - val_loss: 7.3632 - val_mse: 7.3632 - val_mae: 1.8922\n",
      "Epoch 94/100\n",
      "33/33 [==============================] - 0s 2ms/step - loss: 4.4301 - mse: 4.4301 - mae: 1.5550 - val_loss: 7.3015 - val_mse: 7.3015 - val_mae: 1.8731\n",
      "Epoch 95/100\n",
      "33/33 [==============================] - 0s 2ms/step - loss: 4.7969 - mse: 4.7969 - mae: 1.6372 - val_loss: 7.2364 - val_mse: 7.2364 - val_mae: 1.8768\n",
      "Epoch 96/100\n",
      "33/33 [==============================] - 0s 2ms/step - loss: 4.8486 - mse: 4.8486 - mae: 1.6196 - val_loss: 7.2359 - val_mse: 7.2359 - val_mae: 1.8600\n",
      "Epoch 97/100\n",
      "33/33 [==============================] - 0s 2ms/step - loss: 5.1643 - mse: 5.1643 - mae: 1.6428 - val_loss: 7.2546 - val_mse: 7.2546 - val_mae: 1.8886\n",
      "Epoch 98/100\n",
      "33/33 [==============================] - 0s 2ms/step - loss: 5.6039 - mse: 5.6039 - mae: 1.6939 - val_loss: 7.3029 - val_mse: 7.3029 - val_mae: 1.8765\n",
      "Epoch 99/100\n",
      "33/33 [==============================] - 0s 2ms/step - loss: 4.7126 - mse: 4.7126 - mae: 1.6119 - val_loss: 7.2380 - val_mse: 7.2380 - val_mae: 1.8851\n",
      "Epoch 100/100\n",
      "33/33 [==============================] - 0s 2ms/step - loss: 4.5063 - mse: 4.5063 - mae: 1.5802 - val_loss: 7.2476 - val_mse: 7.2476 - val_mae: 1.8726\n"
     ]
    }
   ],
   "source": [
    "num_epochs = 100\n",
    "training_history = model.fit(x_train,\n",
    "                            y_train,\n",
    "                            epochs=num_epochs,\n",
    "                            validation_split=0.2,\n",
    "                            verbose=True)"
   ]
  },
  {
   "cell_type": "code",
   "execution_count": 29,
   "metadata": {},
   "outputs": [],
   "source": [
    "# HACEMOS Y_PRED\n",
    "y_pred = model.predict(x_test)"
   ]
  },
  {
   "cell_type": "code",
   "execution_count": 31,
   "metadata": {},
   "outputs": [
    {
     "output_type": "execute_result",
     "data": {
      "text/plain": [
       "0.9294607120438704"
      ]
     },
     "metadata": {},
     "execution_count": 31
    }
   ],
   "source": [
    "# HALLAMOS R2_SCORE\n",
    "r2 = r2_score(y_test, y_pred)\n",
    "r2"
   ]
  },
  {
   "cell_type": "code",
   "execution_count": 40,
   "metadata": {},
   "outputs": [
    {
     "output_type": "execute_result",
     "data": {
      "text/plain": [
       "     y_test     y_perd     error\n",
       "8      67.5  68.552177  1.052177\n",
       "305    56.6  55.985485  0.614515\n",
       "199    81.0  79.652603  1.347397\n",
       "16     47.8  49.832558  2.032558\n",
       "51     69.9  72.469727  2.569727\n",
       "6      65.9  64.889168  1.010832\n",
       "66     49.2  51.328804  2.128804\n",
       "64     69.5  69.358330  0.141670\n",
       "223    68.4  66.764465  1.635535\n",
       "103    72.0  74.466019  2.466019\n",
       "258    74.2  76.551018  2.351018\n",
       "9      61.4  60.943737  0.456263\n",
       "326    66.5  64.657005  1.842995\n",
       "297    72.2  71.345520  0.854480\n",
       "303    63.0  62.470520  0.529480"
      ],
      "text/html": "<div>\n<style scoped>\n    .dataframe tbody tr th:only-of-type {\n        vertical-align: middle;\n    }\n\n    .dataframe tbody tr th {\n        vertical-align: top;\n    }\n\n    .dataframe thead th {\n        text-align: right;\n    }\n</style>\n<table border=\"1\" class=\"dataframe\">\n  <thead>\n    <tr style=\"text-align: right;\">\n      <th></th>\n      <th>y_test</th>\n      <th>y_perd</th>\n      <th>error</th>\n    </tr>\n  </thead>\n  <tbody>\n    <tr>\n      <th>8</th>\n      <td>67.5</td>\n      <td>68.552177</td>\n      <td>1.052177</td>\n    </tr>\n    <tr>\n      <th>305</th>\n      <td>56.6</td>\n      <td>55.985485</td>\n      <td>0.614515</td>\n    </tr>\n    <tr>\n      <th>199</th>\n      <td>81.0</td>\n      <td>79.652603</td>\n      <td>1.347397</td>\n    </tr>\n    <tr>\n      <th>16</th>\n      <td>47.8</td>\n      <td>49.832558</td>\n      <td>2.032558</td>\n    </tr>\n    <tr>\n      <th>51</th>\n      <td>69.9</td>\n      <td>72.469727</td>\n      <td>2.569727</td>\n    </tr>\n    <tr>\n      <th>6</th>\n      <td>65.9</td>\n      <td>64.889168</td>\n      <td>1.010832</td>\n    </tr>\n    <tr>\n      <th>66</th>\n      <td>49.2</td>\n      <td>51.328804</td>\n      <td>2.128804</td>\n    </tr>\n    <tr>\n      <th>64</th>\n      <td>69.5</td>\n      <td>69.358330</td>\n      <td>0.141670</td>\n    </tr>\n    <tr>\n      <th>223</th>\n      <td>68.4</td>\n      <td>66.764465</td>\n      <td>1.635535</td>\n    </tr>\n    <tr>\n      <th>103</th>\n      <td>72.0</td>\n      <td>74.466019</td>\n      <td>2.466019</td>\n    </tr>\n    <tr>\n      <th>258</th>\n      <td>74.2</td>\n      <td>76.551018</td>\n      <td>2.351018</td>\n    </tr>\n    <tr>\n      <th>9</th>\n      <td>61.4</td>\n      <td>60.943737</td>\n      <td>0.456263</td>\n    </tr>\n    <tr>\n      <th>326</th>\n      <td>66.5</td>\n      <td>64.657005</td>\n      <td>1.842995</td>\n    </tr>\n    <tr>\n      <th>297</th>\n      <td>72.2</td>\n      <td>71.345520</td>\n      <td>0.854480</td>\n    </tr>\n    <tr>\n      <th>303</th>\n      <td>63.0</td>\n      <td>62.470520</td>\n      <td>0.529480</td>\n    </tr>\n  </tbody>\n</table>\n</div>"
     },
     "metadata": {},
     "execution_count": 40
    }
   ],
   "source": [
    "# VISUALIZAMOS Y_TEST AL LADO DE Y_PRED\n",
    "pd.DataFrame({'y_test':y_test.values.flatten(),\n",
    "'y_perd':y_pred.flatten(),\n",
    "'error':abs(y_test.values.flatten()-y_pred.flatten())}\n",
    ").sample(15)"
   ]
  },
  {
   "cell_type": "code",
   "execution_count": 41,
   "metadata": {},
   "outputs": [
    {
     "output_type": "display_data",
     "data": {
      "text/plain": "<Figure size 720x720 with 1 Axes>",
      "image/svg+xml": "<?xml version=\"1.0\" encoding=\"utf-8\" standalone=\"no\"?>\n<!DOCTYPE svg PUBLIC \"-//W3C//DTD SVG 1.1//EN\"\n  \"http://www.w3.org/Graphics/SVG/1.1/DTD/svg11.dtd\">\n<!-- Created with matplotlib (https://matplotlib.org/) -->\n<svg height=\"578.409749pt\" version=\"1.1\" viewBox=\"0 0 592.125 578.409749\" width=\"592.125pt\" xmlns=\"http://www.w3.org/2000/svg\" xmlns:xlink=\"http://www.w3.org/1999/xlink\">\n <metadata>\n  <rdf:RDF xmlns:cc=\"http://creativecommons.org/ns#\" xmlns:dc=\"http://purl.org/dc/elements/1.1/\" xmlns:rdf=\"http://www.w3.org/1999/02/22-rdf-syntax-ns#\">\n   <cc:Work>\n    <dc:type rdf:resource=\"http://purl.org/dc/dcmitype/StillImage\"/>\n    <dc:date>2021-04-07T15:41:20.594666</dc:date>\n    <dc:format>image/svg+xml</dc:format>\n    <dc:creator>\n     <cc:Agent>\n      <dc:title>Matplotlib v3.3.4, https://matplotlib.org/</dc:title>\n     </cc:Agent>\n    </dc:creator>\n   </cc:Work>\n  </rdf:RDF>\n </metadata>\n <defs>\n  <style type=\"text/css\">*{stroke-linecap:butt;stroke-linejoin:round;}</style>\n </defs>\n <g id=\"figure_1\">\n  <g id=\"patch_1\">\n   <path d=\"M 0 578.409749 \nL 592.125 578.409749 \nL 592.125 0 \nL 0 0 \nz\n\" style=\"fill:none;\"/>\n  </g>\n  <g id=\"axes_1\">\n   <g id=\"patch_2\">\n    <path d=\"M 26.925 554.531624 \nL 584.925 554.531624 \nL 584.925 10.931624 \nL 26.925 10.931624 \nz\n\" style=\"fill:#ffffff;\"/>\n   </g>\n   <g id=\"PathCollection_1\">\n    <defs>\n     <path d=\"M 0 3 \nC 0.795609 3 1.55874 2.683901 2.12132 2.12132 \nC 2.683901 1.55874 3 0.795609 3 0 \nC 3 -0.795609 2.683901 -1.55874 2.12132 -2.12132 \nC 1.55874 -2.683901 0.795609 -3 0 -3 \nC -0.795609 -3 -1.55874 -2.683901 -2.12132 -2.12132 \nC -2.683901 -1.55874 -3 -0.795609 -3 0 \nC -3 0.795609 -2.683901 1.55874 -2.12132 2.12132 \nC -1.55874 2.683901 -0.795609 3 0 3 \nz\n\" id=\"mb285d92030\" style=\"stroke:#1f77b4;\"/>\n    </defs>\n    <g clip-path=\"url(#pdb6a70d61a)\">\n     <use style=\"fill:#1f77b4;stroke:#1f77b4;\" x=\"433.885688\" xlink:href=\"#mb285d92030\" y=\"85.797258\"/>\n     <use style=\"fill:#1f77b4;stroke:#1f77b4;\" x=\"376.760381\" xlink:href=\"#mb285d92030\" y=\"206.724372\"/>\n     <use style=\"fill:#1f77b4;stroke:#1f77b4;\" x=\"339.057678\" xlink:href=\"#mb285d92030\" y=\"171.502191\"/>\n     <use style=\"fill:#1f77b4;stroke:#1f77b4;\" x=\"387.042936\" xlink:href=\"#mb285d92030\" y=\"127.748484\"/>\n     <use style=\"fill:#1f77b4;stroke:#1f77b4;\" x=\"399.610504\" xlink:href=\"#mb285d92030\" y=\"180.37679\"/>\n     <use style=\"fill:#1f77b4;stroke:#1f77b4;\" x=\"320.77758\" xlink:href=\"#mb285d92030\" y=\"238.674685\"/>\n     <use style=\"fill:#1f77b4;stroke:#1f77b4;\" x=\"295.642445\" xlink:href=\"#mb285d92030\" y=\"274.038666\"/>\n     <use style=\"fill:#1f77b4;stroke:#1f77b4;\" x=\"289.929914\" xlink:href=\"#mb285d92030\" y=\"259.361559\"/>\n     <use style=\"fill:#1f77b4;stroke:#1f77b4;\" x=\"313.922543\" xlink:href=\"#mb285d92030\" y=\"226.128364\"/>\n     <use style=\"fill:#1f77b4;stroke:#1f77b4;\" x=\"244.229668\" xlink:href=\"#mb285d92030\" y=\"325.642891\"/>\n     <use style=\"fill:#1f77b4;stroke:#1f77b4;\" x=\"365.335319\" xlink:href=\"#mb285d92030\" y=\"182.038469\"/>\n     <use style=\"fill:#1f77b4;stroke:#1f77b4;\" x=\"413.320577\" xlink:href=\"#mb285d92030\" y=\"119.924259\"/>\n     <use style=\"fill:#1f77b4;stroke:#1f77b4;\" x=\"205.384459\" xlink:href=\"#mb285d92030\" y=\"358.531766\"/>\n     <use style=\"fill:#1f77b4;stroke:#1f77b4;\" x=\"433.885688\" xlink:href=\"#mb285d92030\" y=\"161.366763\"/>\n     <use style=\"fill:#1f77b4;stroke:#1f77b4;\" x=\"260.224754\" xlink:href=\"#mb285d92030\" y=\"304.871645\"/>\n     <use style=\"fill:#1f77b4;stroke:#1f77b4;\" x=\"376.760381\" xlink:href=\"#mb285d92030\" y=\"192.529245\"/>\n     <use style=\"fill:#1f77b4;stroke:#1f77b4;\" x=\"88.848833\" xlink:href=\"#mb285d92030\" y=\"470.97146\"/>\n     <use style=\"fill:#1f77b4;stroke:#1f77b4;\" x=\"398.467998\" xlink:href=\"#mb285d92030\" y=\"130.348176\"/>\n     <use style=\"fill:#1f77b4;stroke:#1f77b4;\" x=\"319.635074\" xlink:href=\"#mb285d92030\" y=\"212.897295\"/>\n     <use style=\"fill:#1f77b4;stroke:#1f77b4;\" x=\"356.19527\" xlink:href=\"#mb285d92030\" y=\"136.98801\"/>\n     <use style=\"fill:#1f77b4;stroke:#1f77b4;\" x=\"435.028194\" xlink:href=\"#mb285d92030\" y=\"92.661017\"/>\n     <use style=\"fill:#1f77b4;stroke:#1f77b4;\" x=\"373.332862\" xlink:href=\"#mb285d92030\" y=\"169.245571\"/>\n     <use style=\"fill:#1f77b4;stroke:#1f77b4;\" x=\"400.75301\" xlink:href=\"#mb285d92030\" y=\"137.777238\"/>\n     <use style=\"fill:#1f77b4;stroke:#1f77b4;\" x=\"390.470455\" xlink:href=\"#mb285d92030\" y=\"142.210146\"/>\n     <use style=\"fill:#1f77b4;stroke:#1f77b4;\" x=\"376.760381\" xlink:href=\"#mb285d92030\" y=\"151.534093\"/>\n     <use style=\"fill:#1f77b4;stroke:#1f77b4;\" x=\"103.701413\" xlink:href=\"#mb285d92030\" y=\"431.43462\"/>\n     <use style=\"fill:#1f77b4;stroke:#1f77b4;\" x=\"285.359889\" xlink:href=\"#mb285d92030\" y=\"279.908331\"/>\n     <use style=\"fill:#1f77b4;stroke:#1f77b4;\" x=\"441.883231\" xlink:href=\"#mb285d92030\" y=\"118.093737\"/>\n     <use style=\"fill:#1f77b4;stroke:#1f77b4;\" x=\"141.404115\" xlink:href=\"#mb285d92030\" y=\"450.302548\"/>\n     <use style=\"fill:#1f77b4;stroke:#1f77b4;\" x=\"392.755467\" xlink:href=\"#mb285d92030\" y=\"161.256596\"/>\n     <use style=\"fill:#1f77b4;stroke:#1f77b4;\" x=\"92.276351\" xlink:href=\"#mb285d92030\" y=\"477.721411\"/>\n     <use style=\"fill:#1f77b4;stroke:#1f77b4;\" x=\"353.910258\" xlink:href=\"#mb285d92030\" y=\"193.929977\"/>\n     <use style=\"fill:#1f77b4;stroke:#1f77b4;\" x=\"387.042936\" xlink:href=\"#mb285d92030\" y=\"183.504065\"/>\n     <use style=\"fill:#1f77b4;stroke:#1f77b4;\" x=\"355.052764\" xlink:href=\"#mb285d92030\" y=\"207.056069\"/>\n     <use style=\"fill:#1f77b4;stroke:#1f77b4;\" x=\"358.480283\" xlink:href=\"#mb285d92030\" y=\"163.005391\"/>\n     <use style=\"fill:#1f77b4;stroke:#1f77b4;\" x=\"136.834091\" xlink:href=\"#mb285d92030\" y=\"386.337459\"/>\n     <use style=\"fill:#1f77b4;stroke:#1f77b4;\" x=\"422.460627\" xlink:href=\"#mb285d92030\" y=\"105.332173\"/>\n     <use style=\"fill:#1f77b4;stroke:#1f77b4;\" x=\"373.332862\" xlink:href=\"#mb285d92030\" y=\"159.304132\"/>\n     <use style=\"fill:#1f77b4;stroke:#1f77b4;\" x=\"265.937285\" xlink:href=\"#mb285d92030\" y=\"289.84942\"/>\n     <use style=\"fill:#1f77b4;stroke:#1f77b4;\" x=\"436.1707\" xlink:href=\"#mb285d92030\" y=\"127.527153\"/>\n     <use style=\"fill:#1f77b4;stroke:#1f77b4;\" x=\"168.824263\" xlink:href=\"#mb285d92030\" y=\"410.229892\"/>\n     <use style=\"fill:#1f77b4;stroke:#1f77b4;\" x=\"479.585934\" xlink:href=\"#mb285d92030\" y=\"68.77043\"/>\n     <use style=\"fill:#1f77b4;stroke:#1f77b4;\" x=\"371.04785\" xlink:href=\"#mb285d92030\" y=\"154.588822\"/>\n     <use style=\"fill:#1f77b4;stroke:#1f77b4;\" x=\"311.637531\" xlink:href=\"#mb285d92030\" y=\"203.183374\"/>\n     <use style=\"fill:#1f77b4;stroke:#1f77b4;\" x=\"311.637531\" xlink:href=\"#mb285d92030\" y=\"256.516287\"/>\n     <use style=\"fill:#1f77b4;stroke:#1f77b4;\" x=\"456.735811\" xlink:href=\"#mb285d92030\" y=\"85.18745\"/>\n     <use style=\"fill:#1f77b4;stroke:#1f77b4;\" x=\"305.925\" xlink:href=\"#mb285d92030\" y=\"246.447817\"/>\n     <use style=\"fill:#1f77b4;stroke:#1f77b4;\" x=\"360.765295\" xlink:href=\"#mb285d92030\" y=\"159.566078\"/>\n     <use style=\"fill:#1f77b4;stroke:#1f77b4;\" x=\"374.475369\" xlink:href=\"#mb285d92030\" y=\"163.938814\"/>\n     <use style=\"fill:#1f77b4;stroke:#1f77b4;\" x=\"398.467998\" xlink:href=\"#mb285d92030\" y=\"108.989824\"/>\n     <use style=\"fill:#1f77b4;stroke:#1f77b4;\" x=\"367.620332\" xlink:href=\"#mb285d92030\" y=\"180.250557\"/>\n     <use style=\"fill:#1f77b4;stroke:#1f77b4;\" x=\"341.34269\" xlink:href=\"#mb285d92030\" y=\"174.888816\"/>\n     <use style=\"fill:#1f77b4;stroke:#1f77b4;\" x=\"359.622789\" xlink:href=\"#mb285d92030\" y=\"173.835547\"/>\n     <use style=\"fill:#1f77b4;stroke:#1f77b4;\" x=\"414.463084\" xlink:href=\"#mb285d92030\" y=\"132.255735\"/>\n     <use style=\"fill:#1f77b4;stroke:#1f77b4;\" x=\"389.327948\" xlink:href=\"#mb285d92030\" y=\"129.548869\"/>\n     <use style=\"fill:#1f77b4;stroke:#1f77b4;\" x=\"416.748096\" xlink:href=\"#mb285d92030\" y=\"106.63162\"/>\n     <use style=\"fill:#1f77b4;stroke:#1f77b4;\" x=\"174.536794\" xlink:href=\"#mb285d92030\" y=\"381.934736\"/>\n     <use style=\"fill:#1f77b4;stroke:#1f77b4;\" x=\"360.765295\" xlink:href=\"#mb285d92030\" y=\"204.639788\"/>\n     <use style=\"fill:#1f77b4;stroke:#1f77b4;\" x=\"409.893059\" xlink:href=\"#mb285d92030\" y=\"88.152868\"/>\n     <use style=\"fill:#1f77b4;stroke:#1f77b4;\" x=\"371.04785\" xlink:href=\"#mb285d92030\" y=\"175.487947\"/>\n     <use style=\"fill:#1f77b4;stroke:#1f77b4;\" x=\"389.327948\" xlink:href=\"#mb285d92030\" y=\"117.115909\"/>\n     <use style=\"fill:#1f77b4;stroke:#1f77b4;\" x=\"206.526966\" xlink:href=\"#mb285d92030\" y=\"335.892427\"/>\n     <use style=\"fill:#1f77b4;stroke:#1f77b4;\" x=\"455.593305\" xlink:href=\"#mb285d92030\" y=\"93.446154\"/>\n     <use style=\"fill:#1f77b4;stroke:#1f77b4;\" x=\"319.635074\" xlink:href=\"#mb285d92030\" y=\"223.666679\"/>\n     <use style=\"fill:#1f77b4;stroke:#1f77b4;\" x=\"336.772666\" xlink:href=\"#mb285d92030\" y=\"215.584302\"/>\n     <use style=\"fill:#1f77b4;stroke:#1f77b4;\" x=\"385.90043\" xlink:href=\"#mb285d92030\" y=\"151.169167\"/>\n     <use style=\"fill:#1f77b4;stroke:#1f77b4;\" x=\"104.843919\" xlink:href=\"#mb285d92030\" y=\"451.40132\"/>\n     <use style=\"fill:#1f77b4;stroke:#1f77b4;\" x=\"286.502396\" xlink:href=\"#mb285d92030\" y=\"309.005987\"/>\n     <use style=\"fill:#1f77b4;stroke:#1f77b4;\" x=\"451.02328\" xlink:href=\"#mb285d92030\" y=\"106.502993\"/>\n     <use style=\"fill:#1f77b4;stroke:#1f77b4;\" x=\"374.475369\" xlink:href=\"#mb285d92030\" y=\"187.766235\"/>\n     <use style=\"fill:#1f77b4;stroke:#1f77b4;\" x=\"398.467998\" xlink:href=\"#mb285d92030\" y=\"109.188902\"/>\n     <use style=\"fill:#1f77b4;stroke:#1f77b4;\" x=\"380.187899\" xlink:href=\"#mb285d92030\" y=\"163.533872\"/>\n     <use style=\"fill:#1f77b4;stroke:#1f77b4;\" x=\"443.025737\" xlink:href=\"#mb285d92030\" y=\"108.070073\"/>\n     <use style=\"fill:#1f77b4;stroke:#1f77b4;\" x=\"323.062592\" xlink:href=\"#mb285d92030\" y=\"226.450582\"/>\n     <use style=\"fill:#1f77b4;stroke:#1f77b4;\" x=\"199.671929\" xlink:href=\"#mb285d92030\" y=\"362.242205\"/>\n     <use style=\"fill:#1f77b4;stroke:#1f77b4;\" x=\"327.632617\" xlink:href=\"#mb285d92030\" y=\"231.111507\"/>\n     <use style=\"fill:#1f77b4;stroke:#1f77b4;\" x=\"152.829177\" xlink:href=\"#mb285d92030\" y=\"403.736998\"/>\n     <use style=\"fill:#1f77b4;stroke:#1f77b4;\" x=\"317.350061\" xlink:href=\"#mb285d92030\" y=\"205.184534\"/>\n     <use style=\"fill:#1f77b4;stroke:#1f77b4;\" x=\"265.937285\" xlink:href=\"#mb285d92030\" y=\"271.760991\"/>\n     <use style=\"fill:#1f77b4;stroke:#1f77b4;\" x=\"288.787408\" xlink:href=\"#mb285d92030\" y=\"272.623464\"/>\n     <use style=\"fill:#1f77b4;stroke:#1f77b4;\" x=\"356.19527\" xlink:href=\"#mb285d92030\" y=\"160.169998\"/>\n     <use style=\"fill:#1f77b4;stroke:#1f77b4;\" x=\"270.50731\" xlink:href=\"#mb285d92030\" y=\"280.973973\"/>\n     <use style=\"fill:#1f77b4;stroke:#1f77b4;\" x=\"391.612961\" xlink:href=\"#mb285d92030\" y=\"146.567815\"/>\n     <use style=\"fill:#1f77b4;stroke:#1f77b4;\" x=\"80.85129\" xlink:href=\"#mb285d92030\" y=\"494.670903\"/>\n     <use style=\"fill:#1f77b4;stroke:#1f77b4;\" x=\"211.09699\" xlink:href=\"#mb285d92030\" y=\"424.493674\"/>\n     <use style=\"fill:#1f77b4;stroke:#1f77b4;\" x=\"468.160872\" xlink:href=\"#mb285d92030\" y=\"63.721326\"/>\n     <use style=\"fill:#1f77b4;stroke:#1f77b4;\" x=\"334.487654\" xlink:href=\"#mb285d92030\" y=\"180.02254\"/>\n     <use style=\"fill:#1f77b4;stroke:#1f77b4;\" x=\"88.848833\" xlink:href=\"#mb285d92030\" y=\"480.023084\"/>\n     <use style=\"fill:#1f77b4;stroke:#1f77b4;\" x=\"379.045393\" xlink:href=\"#mb285d92030\" y=\"149.777215\"/>\n     <use style=\"fill:#1f77b4;stroke:#1f77b4;\" x=\"163.111732\" xlink:href=\"#mb285d92030\" y=\"391.656191\"/>\n     <use style=\"fill:#1f77b4;stroke:#1f77b4;\" x=\"374.475369\" xlink:href=\"#mb285d92030\" y=\"133.383745\"/>\n     <use style=\"fill:#1f77b4;stroke:#1f77b4;\" x=\"200.814435\" xlink:href=\"#mb285d92030\" y=\"368.6168\"/>\n     <use style=\"fill:#1f77b4;stroke:#1f77b4;\" x=\"248.799693\" xlink:href=\"#mb285d92030\" y=\"292.652133\"/>\n     <use style=\"fill:#1f77b4;stroke:#1f77b4;\" x=\"312.780037\" xlink:href=\"#mb285d92030\" y=\"237.801535\"/>\n     <use style=\"fill:#1f77b4;stroke:#1f77b4;\" x=\"294.499939\" xlink:href=\"#mb285d92030\" y=\"268.651079\"/>\n     <use style=\"fill:#1f77b4;stroke:#1f77b4;\" x=\"332.202641\" xlink:href=\"#mb285d92030\" y=\"228.185307\"/>\n     <use style=\"fill:#1f77b4;stroke:#1f77b4;\" x=\"406.465541\" xlink:href=\"#mb285d92030\" y=\"167.060101\"/>\n     <use style=\"fill:#1f77b4;stroke:#1f77b4;\" x=\"174.536794\" xlink:href=\"#mb285d92030\" y=\"354.691402\"/>\n     <use style=\"fill:#1f77b4;stroke:#1f77b4;\" x=\"192.816892\" xlink:href=\"#mb285d92030\" y=\"318.865699\"/>\n     <use style=\"fill:#1f77b4;stroke:#1f77b4;\" x=\"342.485197\" xlink:href=\"#mb285d92030\" y=\"172.969981\"/>\n     <use style=\"fill:#1f77b4;stroke:#1f77b4;\" x=\"360.765295\" xlink:href=\"#mb285d92030\" y=\"138.3614\"/>\n     <use style=\"fill:#1f77b4;stroke:#1f77b4;\" x=\"305.925\" xlink:href=\"#mb285d92030\" y=\"245.15316\"/>\n     <use style=\"fill:#1f77b4;stroke:#1f77b4;\" x=\"484.155958\" xlink:href=\"#mb285d92030\" y=\"66.414521\"/>\n     <use style=\"fill:#1f77b4;stroke:#1f77b4;\" x=\"365.335319\" xlink:href=\"#mb285d92030\" y=\"148.778332\"/>\n     <use style=\"fill:#1f77b4;stroke:#1f77b4;\" x=\"157.399201\" xlink:href=\"#mb285d92030\" y=\"407.992582\"/>\n     <use style=\"fill:#1f77b4;stroke:#1f77b4;\" x=\"336.772666\" xlink:href=\"#mb285d92030\" y=\"174.276014\"/>\n     <use style=\"fill:#1f77b4;stroke:#1f77b4;\" x=\"336.772666\" xlink:href=\"#mb285d92030\" y=\"138.750775\"/>\n     <use style=\"fill:#1f77b4;stroke:#1f77b4;\" x=\"113.983968\" xlink:href=\"#mb285d92030\" y=\"489.532089\"/>\n     <use style=\"fill:#1f77b4;stroke:#1f77b4;\" x=\"260.224754\" xlink:href=\"#mb285d92030\" y=\"279.388133\"/>\n     <use style=\"fill:#1f77b4;stroke:#1f77b4;\" x=\"70.568735\" xlink:href=\"#mb285d92030\" y=\"452.409335\"/>\n     <use style=\"fill:#1f77b4;stroke:#1f77b4;\" x=\"293.357432\" xlink:href=\"#mb285d92030\" y=\"242.454677\"/>\n     <use style=\"fill:#1f77b4;stroke:#1f77b4;\" x=\"367.620332\" xlink:href=\"#mb285d92030\" y=\"172.31447\"/>\n     <use style=\"fill:#1f77b4;stroke:#1f77b4;\" x=\"364.192813\" xlink:href=\"#mb285d92030\" y=\"193.511564\"/>\n     <use style=\"fill:#1f77b4;stroke:#1f77b4;\" x=\"373.332862\" xlink:href=\"#mb285d92030\" y=\"188.884067\"/>\n     <use style=\"fill:#1f77b4;stroke:#1f77b4;\" x=\"262.509767\" xlink:href=\"#mb285d92030\" y=\"304.504623\"/>\n     <use style=\"fill:#1f77b4;stroke:#1f77b4;\" x=\"340.200184\" xlink:href=\"#mb285d92030\" y=\"222.661609\"/>\n     <use style=\"fill:#1f77b4;stroke:#1f77b4;\" x=\"392.755467\" xlink:href=\"#mb285d92030\" y=\"160.439627\"/>\n     <use style=\"fill:#1f77b4;stroke:#1f77b4;\" x=\"513.861118\" xlink:href=\"#mb285d92030\" y=\"37.972775\"/>\n     <use style=\"fill:#1f77b4;stroke:#1f77b4;\" x=\"374.475369\" xlink:href=\"#mb285d92030\" y=\"160.530235\"/>\n     <use style=\"fill:#1f77b4;stroke:#1f77b4;\" x=\"470.445885\" xlink:href=\"#mb285d92030\" y=\"75.870288\"/>\n     <use style=\"fill:#1f77b4;stroke:#1f77b4;\" x=\"379.045393\" xlink:href=\"#mb285d92030\" y=\"216.625596\"/>\n     <use style=\"fill:#1f77b4;stroke:#1f77b4;\" x=\"310.495025\" xlink:href=\"#mb285d92030\" y=\"234.399941\"/>\n     <use style=\"fill:#1f77b4;stroke:#1f77b4;\" x=\"369.905344\" xlink:href=\"#mb285d92030\" y=\"169.561103\"/>\n     <use style=\"fill:#1f77b4;stroke:#1f77b4;\" x=\"392.755467\" xlink:href=\"#mb285d92030\" y=\"137.593028\"/>\n     <use style=\"fill:#1f77b4;stroke:#1f77b4;\" x=\"197.386916\" xlink:href=\"#mb285d92030\" y=\"395.113467\"/>\n     <use style=\"fill:#1f77b4;stroke:#1f77b4;\" x=\"443.025737\" xlink:href=\"#mb285d92030\" y=\"85.693178\"/>\n     <use style=\"fill:#1f77b4;stroke:#1f77b4;\" x=\"54.573649\" xlink:href=\"#mb285d92030\" y=\"509.897994\"/>\n     <use style=\"fill:#1f77b4;stroke:#1f77b4;\" x=\"222.522052\" xlink:href=\"#mb285d92030\" y=\"334.894641\"/>\n     <use style=\"fill:#1f77b4;stroke:#1f77b4;\" x=\"183.676843\" xlink:href=\"#mb285d92030\" y=\"362.665109\"/>\n     <use style=\"fill:#1f77b4;stroke:#1f77b4;\" x=\"377.902887\" xlink:href=\"#mb285d92030\" y=\"156.988538\"/>\n     <use style=\"fill:#1f77b4;stroke:#1f77b4;\" x=\"361.907801\" xlink:href=\"#mb285d92030\" y=\"159.299343\"/>\n     <use style=\"fill:#1f77b4;stroke:#1f77b4;\" x=\"333.345147\" xlink:href=\"#mb285d92030\" y=\"203.214009\"/>\n     <use style=\"fill:#1f77b4;stroke:#1f77b4;\" x=\"137.976597\" xlink:href=\"#mb285d92030\" y=\"442.316566\"/>\n     <use style=\"fill:#1f77b4;stroke:#1f77b4;\" x=\"422.460627\" xlink:href=\"#mb285d92030\" y=\"211.106488\"/>\n     <use style=\"fill:#1f77b4;stroke:#1f77b4;\" x=\"251.084705\" xlink:href=\"#mb285d92030\" y=\"328.589349\"/>\n     <use style=\"fill:#1f77b4;stroke:#1f77b4;\" x=\"125.409029\" xlink:href=\"#mb285d92030\" y=\"356.449677\"/>\n     <use style=\"fill:#1f77b4;stroke:#1f77b4;\" x=\"369.905344\" xlink:href=\"#mb285d92030\" y=\"161.122381\"/>\n     <use style=\"fill:#1f77b4;stroke:#1f77b4;\" x=\"483.013452\" xlink:href=\"#mb285d92030\" y=\"53.953619\"/>\n     <use style=\"fill:#1f77b4;stroke:#1f77b4;\" x=\"285.359889\" xlink:href=\"#mb285d92030\" y=\"322.044365\"/>\n     <use style=\"fill:#1f77b4;stroke:#1f77b4;\" x=\"366.477826\" xlink:href=\"#mb285d92030\" y=\"147.305851\"/>\n     <use style=\"fill:#1f77b4;stroke:#1f77b4;\" x=\"390.470455\" xlink:href=\"#mb285d92030\" y=\"158.242082\"/>\n     <use style=\"fill:#1f77b4;stroke:#1f77b4;\" x=\"468.160872\" xlink:href=\"#mb285d92030\" y=\"58.465261\"/>\n     <use style=\"fill:#1f77b4;stroke:#1f77b4;\" x=\"246.514681\" xlink:href=\"#mb285d92030\" y=\"319.306166\"/>\n     <use style=\"fill:#1f77b4;stroke:#1f77b4;\" x=\"376.760381\" xlink:href=\"#mb285d92030\" y=\"186.706879\"/>\n     <use style=\"fill:#1f77b4;stroke:#1f77b4;\" x=\"407.608047\" xlink:href=\"#mb285d92030\" y=\"160.252823\"/>\n     <use style=\"fill:#1f77b4;stroke:#1f77b4;\" x=\"215.667015\" xlink:href=\"#mb285d92030\" y=\"389.477806\"/>\n     <use style=\"fill:#1f77b4;stroke:#1f77b4;\" x=\"301.354975\" xlink:href=\"#mb285d92030\" y=\"264.805426\"/>\n     <use style=\"fill:#1f77b4;stroke:#1f77b4;\" x=\"308.210012\" xlink:href=\"#mb285d92030\" y=\"229.109549\"/>\n     <use style=\"fill:#1f77b4;stroke:#1f77b4;\" x=\"385.90043\" xlink:href=\"#mb285d92030\" y=\"156.992929\"/>\n     <use style=\"fill:#1f77b4;stroke:#1f77b4;\" x=\"383.615418\" xlink:href=\"#mb285d92030\" y=\"199.039652\"/>\n     <use style=\"fill:#1f77b4;stroke:#1f77b4;\" x=\"430.45817\" xlink:href=\"#mb285d92030\" y=\"159.251743\"/>\n     <use style=\"fill:#1f77b4;stroke:#1f77b4;\" x=\"374.475369\" xlink:href=\"#mb285d92030\" y=\"182.759741\"/>\n     <use style=\"fill:#1f77b4;stroke:#1f77b4;\" x=\"367.620332\" xlink:href=\"#mb285d92030\" y=\"191.433167\"/>\n     <use style=\"fill:#1f77b4;stroke:#1f77b4;\" x=\"447.595762\" xlink:href=\"#mb285d92030\" y=\"90.438326\"/>\n     <use style=\"fill:#1f77b4;stroke:#1f77b4;\" x=\"141.404115\" xlink:href=\"#mb285d92030\" y=\"442.226956\"/>\n     <use style=\"fill:#1f77b4;stroke:#1f77b4;\" x=\"127.694042\" xlink:href=\"#mb285d92030\" y=\"442.731288\"/>\n     <use style=\"fill:#1f77b4;stroke:#1f77b4;\" x=\"393.897973\" xlink:href=\"#mb285d92030\" y=\"207.57038\"/>\n     <use style=\"fill:#1f77b4;stroke:#1f77b4;\" x=\"392.755467\" xlink:href=\"#mb285d92030\" y=\"139.386229\"/>\n     <use style=\"fill:#1f77b4;stroke:#1f77b4;\" x=\"275.077334\" xlink:href=\"#mb285d92030\" y=\"240.26312\"/>\n     <use style=\"fill:#1f77b4;stroke:#1f77b4;\" x=\"423.603133\" xlink:href=\"#mb285d92030\" y=\"99.338371\"/>\n     <use style=\"fill:#1f77b4;stroke:#1f77b4;\" x=\"419.033108\" xlink:href=\"#mb285d92030\" y=\"120.272522\"/>\n     <use style=\"fill:#1f77b4;stroke:#1f77b4;\" x=\"299.069963\" xlink:href=\"#mb285d92030\" y=\"256.149265\"/>\n     <use style=\"fill:#1f77b4;stroke:#1f77b4;\" x=\"244.229668\" xlink:href=\"#mb285d92030\" y=\"309.507624\"/>\n     <use style=\"fill:#1f77b4;stroke:#1f77b4;\" x=\"390.470455\" xlink:href=\"#mb285d92030\" y=\"137.906963\"/>\n     <use style=\"fill:#1f77b4;stroke:#1f77b4;\" x=\"525.286179\" xlink:href=\"#mb285d92030\" y=\"81.769291\"/>\n     <use style=\"fill:#1f77b4;stroke:#1f77b4;\" x=\"469.303378\" xlink:href=\"#mb285d92030\" y=\"76.756611\"/>\n     <use style=\"fill:#1f77b4;stroke:#1f77b4;\" x=\"475.015909\" xlink:href=\"#mb285d92030\" y=\"51.575058\"/>\n     <use style=\"fill:#1f77b4;stroke:#1f77b4;\" x=\"435.028194\" xlink:href=\"#mb285d92030\" y=\"137.014254\"/>\n     <use style=\"fill:#1f77b4;stroke:#1f77b4;\" x=\"406.465541\" xlink:href=\"#mb285d92030\" y=\"132.313213\"/>\n     <use style=\"fill:#1f77b4;stroke:#1f77b4;\" x=\"204.241953\" xlink:href=\"#mb285d92030\" y=\"320.898193\"/>\n     <use style=\"fill:#1f77b4;stroke:#1f77b4;\" x=\"376.760381\" xlink:href=\"#mb285d92030\" y=\"162.478108\"/>\n     <use style=\"fill:#1f77b4;stroke:#1f77b4;\" x=\"299.069963\" xlink:href=\"#mb285d92030\" y=\"254.405958\"/>\n     <use style=\"fill:#1f77b4;stroke:#1f77b4;\" x=\"276.21984\" xlink:href=\"#mb285d92030\" y=\"323.24582\"/>\n     <use style=\"fill:#1f77b4;stroke:#1f77b4;\" x=\"437.313206\" xlink:href=\"#mb285d92030\" y=\"90.90833\"/>\n     <use style=\"fill:#1f77b4;stroke:#1f77b4;\" x=\"379.045393\" xlink:href=\"#mb285d92030\" y=\"164.507609\"/>\n     <use style=\"fill:#1f77b4;stroke:#1f77b4;\" x=\"367.620332\" xlink:href=\"#mb285d92030\" y=\"124.312962\"/>\n     <use style=\"fill:#1f77b4;stroke:#1f77b4;\" x=\"414.463084\" xlink:href=\"#mb285d92030\" y=\"167.147716\"/>\n     <use style=\"fill:#1f77b4;stroke:#1f77b4;\" x=\"247.657187\" xlink:href=\"#mb285d92030\" y=\"314.992105\"/>\n     <use style=\"fill:#1f77b4;stroke:#1f77b4;\" x=\"190.53188\" xlink:href=\"#mb285d92030\" y=\"343.164821\"/>\n     <use style=\"fill:#1f77b4;stroke:#1f77b4;\" x=\"485.298464\" xlink:href=\"#mb285d92030\" y=\"35.640715\"/>\n     <use style=\"fill:#1f77b4;stroke:#1f77b4;\" x=\"249.942199\" xlink:href=\"#mb285d92030\" y=\"305.864342\"/>\n     <use style=\"fill:#1f77b4;stroke:#1f77b4;\" x=\"323.062592\" xlink:href=\"#mb285d92030\" y=\"216.338405\"/>\n     <use style=\"fill:#1f77b4;stroke:#1f77b4;\" x=\"366.477826\" xlink:href=\"#mb285d92030\" y=\"190.324914\"/>\n     <use style=\"fill:#1f77b4;stroke:#1f77b4;\" x=\"454.450799\" xlink:href=\"#mb285d92030\" y=\"114.215154\"/>\n     <use style=\"fill:#1f77b4;stroke:#1f77b4;\" x=\"52.288636\" xlink:href=\"#mb285d92030\" y=\"527.285858\"/>\n     <use style=\"fill:#1f77b4;stroke:#1f77b4;\" x=\"243.087162\" xlink:href=\"#mb285d92030\" y=\"305.463891\"/>\n     <use style=\"fill:#1f77b4;stroke:#1f77b4;\" x=\"422.460627\" xlink:href=\"#mb285d92030\" y=\"194.608939\"/>\n     <use style=\"fill:#1f77b4;stroke:#1f77b4;\" x=\"286.502396\" xlink:href=\"#mb285d92030\" y=\"238.754915\"/>\n     <use style=\"fill:#1f77b4;stroke:#1f77b4;\" x=\"375.617875\" xlink:href=\"#mb285d92030\" y=\"179.382696\"/>\n     <use style=\"fill:#1f77b4;stroke:#1f77b4;\" x=\"323.062592\" xlink:href=\"#mb285d92030\" y=\"219.278177\"/>\n     <use style=\"fill:#1f77b4;stroke:#1f77b4;\" x=\"449.880774\" xlink:href=\"#mb285d92030\" y=\"78.117428\"/>\n     <use style=\"fill:#1f77b4;stroke:#1f77b4;\" x=\"303.639988\" xlink:href=\"#mb285d92030\" y=\"223.641633\"/>\n     <use style=\"fill:#1f77b4;stroke:#1f77b4;\" x=\"417.890602\" xlink:href=\"#mb285d92030\" y=\"159.77743\"/>\n     <use style=\"fill:#1f77b4;stroke:#1f77b4;\" x=\"407.608047\" xlink:href=\"#mb285d92030\" y=\"114.957981\"/>\n     <use style=\"fill:#1f77b4;stroke:#1f77b4;\" x=\"217.952027\" xlink:href=\"#mb285d92030\" y=\"306.624033\"/>\n     <use style=\"fill:#1f77b4;stroke:#1f77b4;\" x=\"408.750553\" xlink:href=\"#mb285d92030\" y=\"116.605291\"/>\n     <use style=\"fill:#1f77b4;stroke:#1f77b4;\" x=\"399.610504\" xlink:href=\"#mb285d92030\" y=\"109.573488\"/>\n     <use style=\"fill:#1f77b4;stroke:#1f77b4;\" x=\"190.53188\" xlink:href=\"#mb285d92030\" y=\"392.592957\"/>\n     <use style=\"fill:#1f77b4;stroke:#1f77b4;\" x=\"174.536794\" xlink:href=\"#mb285d92030\" y=\"379.682557\"/>\n     <use style=\"fill:#1f77b4;stroke:#1f77b4;\" x=\"468.160872\" xlink:href=\"#mb285d92030\" y=\"80.940447\"/>\n     <use style=\"fill:#1f77b4;stroke:#1f77b4;\" x=\"323.062592\" xlink:href=\"#mb285d92030\" y=\"196.447344\"/>\n     <use style=\"fill:#1f77b4;stroke:#1f77b4;\" x=\"185.961855\" xlink:href=\"#mb285d92030\" y=\"361.266472\"/>\n     <use style=\"fill:#1f77b4;stroke:#1f77b4;\" x=\"373.332862\" xlink:href=\"#mb285d92030\" y=\"193.566946\"/>\n     <use style=\"fill:#1f77b4;stroke:#1f77b4;\" x=\"317.350061\" xlink:href=\"#mb285d92030\" y=\"196.066251\"/>\n     <use style=\"fill:#1f77b4;stroke:#1f77b4;\" x=\"373.332862\" xlink:href=\"#mb285d92030\" y=\"159.147165\"/>\n     <use style=\"fill:#1f77b4;stroke:#1f77b4;\" x=\"360.765295\" xlink:href=\"#mb285d92030\" y=\"160.373367\"/>\n     <use style=\"fill:#1f77b4;stroke:#1f77b4;\" x=\"288.787408\" xlink:href=\"#mb285d92030\" y=\"274.78728\"/>\n     <use style=\"fill:#1f77b4;stroke:#1f77b4;\" x=\"385.90043\" xlink:href=\"#mb285d92030\" y=\"177.283543\"/>\n     <use style=\"fill:#1f77b4;stroke:#1f77b4;\" x=\"367.620332\" xlink:href=\"#mb285d92030\" y=\"171.241144\"/>\n     <use style=\"fill:#1f77b4;stroke:#1f77b4;\" x=\"428.173157\" xlink:href=\"#mb285d92030\" y=\"164.093686\"/>\n     <use style=\"fill:#1f77b4;stroke:#1f77b4;\" x=\"381.330405\" xlink:href=\"#mb285d92030\" y=\"173.124055\"/>\n     <use style=\"fill:#1f77b4;stroke:#1f77b4;\" x=\"177.964312\" xlink:href=\"#mb285d92030\" y=\"351.771787\"/>\n     <use style=\"fill:#1f77b4;stroke:#1f77b4;\" x=\"311.637531\" xlink:href=\"#mb285d92030\" y=\"239.362827\"/>\n     <use style=\"fill:#1f77b4;stroke:#1f77b4;\" x=\"212.239496\" xlink:href=\"#mb285d92030\" y=\"360.860682\"/>\n     <use style=\"fill:#1f77b4;stroke:#1f77b4;\" x=\"448.738268\" xlink:href=\"#mb285d92030\" y=\"80.906918\"/>\n     <use style=\"fill:#1f77b4;stroke:#1f77b4;\" x=\"328.775123\" xlink:href=\"#mb285d92030\" y=\"232.912692\"/>\n     <use style=\"fill:#1f77b4;stroke:#1f77b4;\" x=\"417.890602\" xlink:href=\"#mb285d92030\" y=\"133.451402\"/>\n     <use style=\"fill:#1f77b4;stroke:#1f77b4;\" x=\"191.674386\" xlink:href=\"#mb285d92030\" y=\"375.23967\"/>\n     <use style=\"fill:#1f77b4;stroke:#1f77b4;\" x=\"397.325491\" xlink:href=\"#mb285d92030\" y=\"96.655255\"/>\n     <use style=\"fill:#1f77b4;stroke:#1f77b4;\" x=\"380.187899\" xlink:href=\"#mb285d92030\" y=\"198.180772\"/>\n     <use style=\"fill:#1f77b4;stroke:#1f77b4;\" x=\"321.920086\" xlink:href=\"#mb285d92030\" y=\"228.747316\"/>\n     <use style=\"fill:#1f77b4;stroke:#1f77b4;\" x=\"292.214926\" xlink:href=\"#mb285d92030\" y=\"218.822642\"/>\n     <use style=\"fill:#1f77b4;stroke:#1f77b4;\" x=\"405.323034\" xlink:href=\"#mb285d92030\" y=\"139.408182\"/>\n     <use style=\"fill:#1f77b4;stroke:#1f77b4;\" x=\"324.205098\" xlink:href=\"#mb285d92030\" y=\"249.510728\"/>\n     <use style=\"fill:#1f77b4;stroke:#1f77b4;\" x=\"281.932371\" xlink:href=\"#mb285d92030\" y=\"269.702652\"/>\n     <use style=\"fill:#1f77b4;stroke:#1f77b4;\" x=\"397.325491\" xlink:href=\"#mb285d92030\" y=\"170.253037\"/>\n     <use style=\"fill:#1f77b4;stroke:#1f77b4;\" x=\"401.895516\" xlink:href=\"#mb285d92030\" y=\"185.713284\"/>\n     <use style=\"fill:#1f77b4;stroke:#1f77b4;\" x=\"381.330405\" xlink:href=\"#mb285d92030\" y=\"155.874798\"/>\n     <use style=\"fill:#1f77b4;stroke:#1f77b4;\" x=\"287.644902\" xlink:href=\"#mb285d92030\" y=\"206.44207\"/>\n     <use style=\"fill:#1f77b4;stroke:#1f77b4;\" x=\"199.671929\" xlink:href=\"#mb285d92030\" y=\"358.110159\"/>\n     <use style=\"fill:#1f77b4;stroke:#1f77b4;\" x=\"364.192813\" xlink:href=\"#mb285d92030\" y=\"123.636096\"/>\n     <use style=\"fill:#1f77b4;stroke:#1f77b4;\" x=\"315.065049\" xlink:href=\"#mb285d92030\" y=\"251.504704\"/>\n     <use style=\"fill:#1f77b4;stroke:#1f77b4;\" x=\"279.647359\" xlink:href=\"#mb285d92030\" y=\"289.365795\"/>\n     <use style=\"fill:#1f77b4;stroke:#1f77b4;\" x=\"398.467998\" xlink:href=\"#mb285d92030\" y=\"180.551819\"/>\n     <use style=\"fill:#1f77b4;stroke:#1f77b4;\" x=\"337.915172\" xlink:href=\"#mb285d92030\" y=\"215.369158\"/>\n     <use style=\"fill:#1f77b4;stroke:#1f77b4;\" x=\"191.674386\" xlink:href=\"#mb285d92030\" y=\"325.644687\"/>\n     <use style=\"fill:#1f77b4;stroke:#1f77b4;\" x=\"502.436057\" xlink:href=\"#mb285d92030\" y=\"65.615214\"/>\n     <use style=\"fill:#1f77b4;stroke:#1f77b4;\" x=\"317.350061\" xlink:href=\"#mb285d92030\" y=\"184.455848\"/>\n     <use style=\"fill:#1f77b4;stroke:#1f77b4;\" x=\"448.738268\" xlink:href=\"#mb285d92030\" y=\"127.524358\"/>\n     <use style=\"fill:#1f77b4;stroke:#1f77b4;\" x=\"303.639988\" xlink:href=\"#mb285d92030\" y=\"212.239688\"/>\n     <use style=\"fill:#1f77b4;stroke:#1f77b4;\" x=\"310.495025\" xlink:href=\"#mb285d92030\" y=\"235.088083\"/>\n     <use style=\"fill:#1f77b4;stroke:#1f77b4;\" x=\"358.480283\" xlink:href=\"#mb285d92030\" y=\"205.446878\"/>\n     <use style=\"fill:#1f77b4;stroke:#1f77b4;\" x=\"302.497482\" xlink:href=\"#mb285d92030\" y=\"233.821566\"/>\n     <use style=\"fill:#1f77b4;stroke:#1f77b4;\" x=\"200.814435\" xlink:href=\"#mb285d92030\" y=\"342.550173\"/>\n     <use style=\"fill:#1f77b4;stroke:#1f77b4;\" x=\"395.040479\" xlink:href=\"#mb285d92030\" y=\"99.274207\"/>\n     <use style=\"fill:#1f77b4;stroke:#1f77b4;\" x=\"337.915172\" xlink:href=\"#mb285d92030\" y=\"170.495923\"/>\n     <use style=\"fill:#1f77b4;stroke:#1f77b4;\" x=\"311.637531\" xlink:href=\"#mb285d92030\" y=\"225.740885\"/>\n     <use style=\"fill:#1f77b4;stroke:#1f77b4;\" x=\"368.762838\" xlink:href=\"#mb285d92030\" y=\"177.28953\"/>\n     <use style=\"fill:#1f77b4;stroke:#1f77b4;\" x=\"358.480283\" xlink:href=\"#mb285d92030\" y=\"198.568051\"/>\n     <use style=\"fill:#1f77b4;stroke:#1f77b4;\" x=\"277.362346\" xlink:href=\"#mb285d92030\" y=\"254.838142\"/>\n     <use style=\"fill:#1f77b4;stroke:#1f77b4;\" x=\"548.136302\" xlink:href=\"#mb285d92030\" y=\"73.485341\"/>\n     <use style=\"fill:#1f77b4;stroke:#1f77b4;\" x=\"341.34269\" xlink:href=\"#mb285d92030\" y=\"157.927748\"/>\n     <use style=\"fill:#1f77b4;stroke:#1f77b4;\" x=\"296.784951\" xlink:href=\"#mb285d92030\" y=\"253.091642\"/>\n     <use style=\"fill:#1f77b4;stroke:#1f77b4;\" x=\"137.976597\" xlink:href=\"#mb285d92030\" y=\"435.173798\"/>\n     <use style=\"fill:#1f77b4;stroke:#1f77b4;\" x=\"315.065049\" xlink:href=\"#mb285d92030\" y=\"192.160027\"/>\n     <use style=\"fill:#1f77b4;stroke:#1f77b4;\" x=\"456.735811\" xlink:href=\"#mb285d92030\" y=\"59.648854\"/>\n     <use style=\"fill:#1f77b4;stroke:#1f77b4;\" x=\"453.308292\" xlink:href=\"#mb285d92030\" y=\"88.124328\"/>\n     <use style=\"fill:#1f77b4;stroke:#1f77b4;\" x=\"268.222297\" xlink:href=\"#mb285d92030\" y=\"269.54758\"/>\n     <use style=\"fill:#1f77b4;stroke:#1f77b4;\" x=\"390.470455\" xlink:href=\"#mb285d92030\" y=\"121.507605\"/>\n     <use style=\"fill:#1f77b4;stroke:#1f77b4;\" x=\"335.63016\" xlink:href=\"#mb285d92030\" y=\"181.75517\"/>\n     <use style=\"fill:#1f77b4;stroke:#1f77b4;\" x=\"281.932371\" xlink:href=\"#mb285d92030\" y=\"300.750776\"/>\n     <use style=\"fill:#1f77b4;stroke:#1f77b4;\" x=\"432.743182\" xlink:href=\"#mb285d92030\" y=\"130.613714\"/>\n     <use style=\"fill:#1f77b4;stroke:#1f77b4;\" x=\"403.038022\" xlink:href=\"#mb285d92030\" y=\"129.833467\"/>\n     <use style=\"fill:#1f77b4;stroke:#1f77b4;\" x=\"420.175614\" xlink:href=\"#mb285d92030\" y=\"107.909613\"/>\n     <use style=\"fill:#1f77b4;stroke:#1f77b4;\" x=\"443.025737\" xlink:href=\"#mb285d92030\" y=\"115.71817\"/>\n     <use style=\"fill:#1f77b4;stroke:#1f77b4;\" x=\"385.90043\" xlink:href=\"#mb285d92030\" y=\"129.832469\"/>\n     <use style=\"fill:#1f77b4;stroke:#1f77b4;\" x=\"415.60559\" xlink:href=\"#mb285d92030\" y=\"111.935284\"/>\n     <use style=\"fill:#1f77b4;stroke:#1f77b4;\" x=\"136.834091\" xlink:href=\"#mb285d92030\" y=\"406.720078\"/>\n     <use style=\"fill:#1f77b4;stroke:#1f77b4;\" x=\"412.178071\" xlink:href=\"#mb285d92030\" y=\"144.653271\"/>\n     <use style=\"fill:#1f77b4;stroke:#1f77b4;\" x=\"247.657187\" xlink:href=\"#mb285d92030\" y=\"324.077807\"/>\n     <use style=\"fill:#1f77b4;stroke:#1f77b4;\" x=\"268.222297\" xlink:href=\"#mb285d92030\" y=\"304.512905\"/>\n     <use style=\"fill:#1f77b4;stroke:#1f77b4;\" x=\"408.750553\" xlink:href=\"#mb285d92030\" y=\"163.301763\"/>\n     <use style=\"fill:#1f77b4;stroke:#1f77b4;\" x=\"369.905344\" xlink:href=\"#mb285d92030\" y=\"148.459008\"/>\n     <use style=\"fill:#1f77b4;stroke:#1f77b4;\" x=\"425.888145\" xlink:href=\"#mb285d92030\" y=\"141.092913\"/>\n     <use style=\"fill:#1f77b4;stroke:#1f77b4;\" x=\"559.561364\" xlink:href=\"#mb285d92030\" y=\"90.840274\"/>\n     <use style=\"fill:#1f77b4;stroke:#1f77b4;\" x=\"372.190356\" xlink:href=\"#mb285d92030\" y=\"161.207999\"/>\n     <use style=\"fill:#1f77b4;stroke:#1f77b4;\" x=\"273.934828\" xlink:href=\"#mb285d92030\" y=\"293.495147\"/>\n     <use style=\"fill:#1f77b4;stroke:#1f77b4;\" x=\"421.31812\" xlink:href=\"#mb285d92030\" y=\"125.291289\"/>\n     <use style=\"fill:#1f77b4;stroke:#1f77b4;\" x=\"439.598219\" xlink:href=\"#mb285d92030\" y=\"120.31563\"/>\n     <use style=\"fill:#1f77b4;stroke:#1f77b4;\" x=\"334.487654\" xlink:href=\"#mb285d92030\" y=\"236.654564\"/>\n     <use style=\"fill:#1f77b4;stroke:#1f77b4;\" x=\"413.320577\" xlink:href=\"#mb285d92030\" y=\"109.230714\"/>\n     <use style=\"fill:#1f77b4;stroke:#1f77b4;\" x=\"363.050307\" xlink:href=\"#mb285d92030\" y=\"142.659095\"/>\n     <use style=\"fill:#1f77b4;stroke:#1f77b4;\" x=\"285.359889\" xlink:href=\"#mb285d92030\" y=\"238.01608\"/>\n     <use style=\"fill:#1f77b4;stroke:#1f77b4;\" x=\"477.300921\" xlink:href=\"#mb285d92030\" y=\"40.065841\"/>\n     <use style=\"fill:#1f77b4;stroke:#1f77b4;\" x=\"214.524509\" xlink:href=\"#mb285d92030\" y=\"368.233912\"/>\n     <use style=\"fill:#1f77b4;stroke:#1f77b4;\" x=\"377.902887\" xlink:href=\"#mb285d92030\" y=\"159.019236\"/>\n     <use style=\"fill:#1f77b4;stroke:#1f77b4;\" x=\"165.396744\" xlink:href=\"#mb285d92030\" y=\"390.733596\"/>\n     <use style=\"fill:#1f77b4;stroke:#1f77b4;\" x=\"375.617875\" xlink:href=\"#mb285d92030\" y=\"156.339912\"/>\n     <use style=\"fill:#1f77b4;stroke:#1f77b4;\" x=\"312.780037\" xlink:href=\"#mb285d92030\" y=\"213.472177\"/>\n     <use style=\"fill:#1f77b4;stroke:#1f77b4;\" x=\"99.131388\" xlink:href=\"#mb285d92030\" y=\"446.998697\"/>\n     <use style=\"fill:#1f77b4;stroke:#1f77b4;\" x=\"469.303378\" xlink:href=\"#mb285d92030\" y=\"94.83561\"/>\n     <use style=\"fill:#1f77b4;stroke:#1f77b4;\" x=\"223.664558\" xlink:href=\"#mb285d92030\" y=\"328.269826\"/>\n     <use style=\"fill:#1f77b4;stroke:#1f77b4;\" x=\"408.750553\" xlink:href=\"#mb285d92030\" y=\"176.958032\"/>\n     <use style=\"fill:#1f77b4;stroke:#1f77b4;\" x=\"353.910258\" xlink:href=\"#mb285d92030\" y=\"185.495845\"/>\n     <use style=\"fill:#1f77b4;stroke:#1f77b4;\" x=\"220.237039\" xlink:href=\"#mb285d92030\" y=\"388.165935\"/>\n     <use style=\"fill:#1f77b4;stroke:#1f77b4;\" x=\"315.065049\" xlink:href=\"#mb285d92030\" y=\"283.251249\"/>\n     <use style=\"fill:#1f77b4;stroke:#1f77b4;\" x=\"277.362346\" xlink:href=\"#mb285d92030\" y=\"308.046869\"/>\n     <use style=\"fill:#1f77b4;stroke:#1f77b4;\" x=\"367.620332\" xlink:href=\"#mb285d92030\" y=\"189.592865\"/>\n     <use style=\"fill:#1f77b4;stroke:#1f77b4;\" x=\"376.760381\" xlink:href=\"#mb285d92030\" y=\"186.39524\"/>\n     <use style=\"fill:#1f77b4;stroke:#1f77b4;\" x=\"300.212469\" xlink:href=\"#mb285d92030\" y=\"156.418346\"/>\n     <use style=\"fill:#1f77b4;stroke:#1f77b4;\" x=\"525.286179\" xlink:href=\"#mb285d92030\" y=\"65.86718\"/>\n     <use style=\"fill:#1f77b4;stroke:#1f77b4;\" x=\"263.652273\" xlink:href=\"#mb285d92030\" y=\"297.582138\"/>\n     <use style=\"fill:#1f77b4;stroke:#1f77b4;\" x=\"456.735811\" xlink:href=\"#mb285d92030\" y=\"51.783217\"/>\n     <use style=\"fill:#1f77b4;stroke:#1f77b4;\" x=\"262.509767\" xlink:href=\"#mb285d92030\" y=\"305.673347\"/>\n     <use style=\"fill:#1f77b4;stroke:#1f77b4;\" x=\"388.185442\" xlink:href=\"#mb285d92030\" y=\"163.47799\"/>\n     <use style=\"fill:#1f77b4;stroke:#1f77b4;\" x=\"189.389373\" xlink:href=\"#mb285d92030\" y=\"390.494303\"/>\n     <use style=\"fill:#1f77b4;stroke:#1f77b4;\" x=\"406.465541\" xlink:href=\"#mb285d92030\" y=\"129.773993\"/>\n     <use style=\"fill:#1f77b4;stroke:#1f77b4;\" x=\"72.853747\" xlink:href=\"#mb285d92030\" y=\"529.822534\"/>\n     <use style=\"fill:#1f77b4;stroke:#1f77b4;\" x=\"318.492568\" xlink:href=\"#mb285d92030\" y=\"195.135324\"/>\n     <use style=\"fill:#1f77b4;stroke:#1f77b4;\" x=\"448.738268\" xlink:href=\"#mb285d92030\" y=\"115.451535\"/>\n     <use style=\"fill:#1f77b4;stroke:#1f77b4;\" x=\"548.136302\" xlink:href=\"#mb285d92030\" y=\"63.416272\"/>\n     <use style=\"fill:#1f77b4;stroke:#1f77b4;\" x=\"371.04785\" xlink:href=\"#mb285d92030\" y=\"156.819496\"/>\n     <use style=\"fill:#1f77b4;stroke:#1f77b4;\" x=\"353.910258\" xlink:href=\"#mb285d92030\" y=\"209.13726\"/>\n     <use style=\"fill:#1f77b4;stroke:#1f77b4;\" x=\"144.831634\" xlink:href=\"#mb285d92030\" y=\"422.056088\"/>\n     <use style=\"fill:#1f77b4;stroke:#1f77b4;\" x=\"366.477826\" xlink:href=\"#mb285d92030\" y=\"162.833555\"/>\n     <use style=\"fill:#1f77b4;stroke:#1f77b4;\" x=\"398.467998\" xlink:href=\"#mb285d92030\" y=\"138.584727\"/>\n     <use style=\"fill:#1f77b4;stroke:#1f77b4;\" x=\"150.544165\" xlink:href=\"#mb285d92030\" y=\"373.081941\"/>\n     <use style=\"fill:#1f77b4;stroke:#1f77b4;\" x=\"355.052764\" xlink:href=\"#mb285d92030\" y=\"147.761685\"/>\n     <use style=\"fill:#1f77b4;stroke:#1f77b4;\" x=\"454.450799\" xlink:href=\"#mb285d92030\" y=\"60.608321\"/>\n     <use style=\"fill:#1f77b4;stroke:#1f77b4;\" x=\"381.330405\" xlink:href=\"#mb285d92030\" y=\"157.255373\"/>\n     <use style=\"fill:#1f77b4;stroke:#1f77b4;\" x=\"312.780037\" xlink:href=\"#mb285d92030\" y=\"271.649527\"/>\n     <use style=\"fill:#1f77b4;stroke:#1f77b4;\" x=\"412.178071\" xlink:href=\"#mb285d92030\" y=\"145.958006\"/>\n     <use style=\"fill:#1f77b4;stroke:#1f77b4;\" x=\"356.19527\" xlink:href=\"#mb285d92030\" y=\"192.482144\"/>\n     <use style=\"fill:#1f77b4;stroke:#1f77b4;\" x=\"295.642445\" xlink:href=\"#mb285d92030\" y=\"237.110499\"/>\n     <use style=\"fill:#1f77b4;stroke:#1f77b4;\" x=\"468.160872\" xlink:href=\"#mb285d92030\" y=\"79.155329\"/>\n     <use style=\"fill:#1f77b4;stroke:#1f77b4;\" x=\"219.094533\" xlink:href=\"#mb285d92030\" y=\"279.199732\"/>\n     <use style=\"fill:#1f77b4;stroke:#1f77b4;\" x=\"302.497482\" xlink:href=\"#mb285d92030\" y=\"277.075233\"/>\n     <use style=\"fill:#1f77b4;stroke:#1f77b4;\" x=\"447.595762\" xlink:href=\"#mb285d92030\" y=\"81.14222\"/>\n     <use style=\"fill:#1f77b4;stroke:#1f77b4;\" x=\"337.915172\" xlink:href=\"#mb285d92030\" y=\"205.08724\"/>\n     <use style=\"fill:#1f77b4;stroke:#1f77b4;\" x=\"525.286179\" xlink:href=\"#mb285d92030\" y=\"57.88509\"/>\n    </g>\n   </g>\n   <g id=\"matplotlib.axis_1\">\n    <g id=\"xtick_1\">\n     <g id=\"line2d_1\">\n      <defs>\n       <path d=\"M 0 0 \nL 0 3.5 \n\" id=\"m2f3fe5ab5e\" style=\"stroke:#000000;stroke-width:0.8;\"/>\n      </defs>\n      <g>\n       <use style=\"stroke:#000000;stroke-width:0.8;\" x=\"113.983968\" xlink:href=\"#m2f3fe5ab5e\" y=\"554.531624\"/>\n      </g>\n     </g>\n     <g id=\"text_1\">\n      <!-- 50 -->\n      <g transform=\"translate(107.621468 569.130062)scale(0.1 -0.1)\">\n       <defs>\n        <path d=\"M 10.796875 72.90625 \nL 49.515625 72.90625 \nL 49.515625 64.59375 \nL 19.828125 64.59375 \nL 19.828125 46.734375 \nQ 21.96875 47.46875 24.109375 47.828125 \nQ 26.265625 48.1875 28.421875 48.1875 \nQ 40.625 48.1875 47.75 41.5 \nQ 54.890625 34.8125 54.890625 23.390625 \nQ 54.890625 11.625 47.5625 5.09375 \nQ 40.234375 -1.421875 26.90625 -1.421875 \nQ 22.3125 -1.421875 17.546875 -0.640625 \nQ 12.796875 0.140625 7.71875 1.703125 \nL 7.71875 11.625 \nQ 12.109375 9.234375 16.796875 8.0625 \nQ 21.484375 6.890625 26.703125 6.890625 \nQ 35.15625 6.890625 40.078125 11.328125 \nQ 45.015625 15.765625 45.015625 23.390625 \nQ 45.015625 31 40.078125 35.4375 \nQ 35.15625 39.890625 26.703125 39.890625 \nQ 22.75 39.890625 18.8125 39.015625 \nQ 14.890625 38.140625 10.796875 36.28125 \nz\n\" id=\"DejaVuSans-53\"/>\n        <path d=\"M 31.78125 66.40625 \nQ 24.171875 66.40625 20.328125 58.90625 \nQ 16.5 51.421875 16.5 36.375 \nQ 16.5 21.390625 20.328125 13.890625 \nQ 24.171875 6.390625 31.78125 6.390625 \nQ 39.453125 6.390625 43.28125 13.890625 \nQ 47.125 21.390625 47.125 36.375 \nQ 47.125 51.421875 43.28125 58.90625 \nQ 39.453125 66.40625 31.78125 66.40625 \nz\nM 31.78125 74.21875 \nQ 44.046875 74.21875 50.515625 64.515625 \nQ 56.984375 54.828125 56.984375 36.375 \nQ 56.984375 17.96875 50.515625 8.265625 \nQ 44.046875 -1.421875 31.78125 -1.421875 \nQ 19.53125 -1.421875 13.0625 8.265625 \nQ 6.59375 17.96875 6.59375 36.375 \nQ 6.59375 54.828125 13.0625 64.515625 \nQ 19.53125 74.21875 31.78125 74.21875 \nz\n\" id=\"DejaVuSans-48\"/>\n       </defs>\n       <use xlink:href=\"#DejaVuSans-53\"/>\n       <use x=\"63.623047\" xlink:href=\"#DejaVuSans-48\"/>\n      </g>\n     </g>\n    </g>\n    <g id=\"xtick_2\">\n     <g id=\"line2d_2\">\n      <g>\n       <use style=\"stroke:#000000;stroke-width:0.8;\" x=\"228.234582\" xlink:href=\"#m2f3fe5ab5e\" y=\"554.531624\"/>\n      </g>\n     </g>\n     <g id=\"text_2\">\n      <!-- 60 -->\n      <g transform=\"translate(221.872082 569.130062)scale(0.1 -0.1)\">\n       <defs>\n        <path d=\"M 33.015625 40.375 \nQ 26.375 40.375 22.484375 35.828125 \nQ 18.609375 31.296875 18.609375 23.390625 \nQ 18.609375 15.53125 22.484375 10.953125 \nQ 26.375 6.390625 33.015625 6.390625 \nQ 39.65625 6.390625 43.53125 10.953125 \nQ 47.40625 15.53125 47.40625 23.390625 \nQ 47.40625 31.296875 43.53125 35.828125 \nQ 39.65625 40.375 33.015625 40.375 \nz\nM 52.59375 71.296875 \nL 52.59375 62.3125 \nQ 48.875 64.0625 45.09375 64.984375 \nQ 41.3125 65.921875 37.59375 65.921875 \nQ 27.828125 65.921875 22.671875 59.328125 \nQ 17.53125 52.734375 16.796875 39.40625 \nQ 19.671875 43.65625 24.015625 45.921875 \nQ 28.375 48.1875 33.59375 48.1875 \nQ 44.578125 48.1875 50.953125 41.515625 \nQ 57.328125 34.859375 57.328125 23.390625 \nQ 57.328125 12.15625 50.6875 5.359375 \nQ 44.046875 -1.421875 33.015625 -1.421875 \nQ 20.359375 -1.421875 13.671875 8.265625 \nQ 6.984375 17.96875 6.984375 36.375 \nQ 6.984375 53.65625 15.1875 63.9375 \nQ 23.390625 74.21875 37.203125 74.21875 \nQ 40.921875 74.21875 44.703125 73.484375 \nQ 48.484375 72.75 52.59375 71.296875 \nz\n\" id=\"DejaVuSans-54\"/>\n       </defs>\n       <use xlink:href=\"#DejaVuSans-54\"/>\n       <use x=\"63.623047\" xlink:href=\"#DejaVuSans-48\"/>\n      </g>\n     </g>\n    </g>\n    <g id=\"xtick_3\">\n     <g id=\"line2d_3\">\n      <g>\n       <use style=\"stroke:#000000;stroke-width:0.8;\" x=\"342.485197\" xlink:href=\"#m2f3fe5ab5e\" y=\"554.531624\"/>\n      </g>\n     </g>\n     <g id=\"text_3\">\n      <!-- 70 -->\n      <g transform=\"translate(336.122697 569.130062)scale(0.1 -0.1)\">\n       <defs>\n        <path d=\"M 8.203125 72.90625 \nL 55.078125 72.90625 \nL 55.078125 68.703125 \nL 28.609375 0 \nL 18.3125 0 \nL 43.21875 64.59375 \nL 8.203125 64.59375 \nz\n\" id=\"DejaVuSans-55\"/>\n       </defs>\n       <use xlink:href=\"#DejaVuSans-55\"/>\n       <use x=\"63.623047\" xlink:href=\"#DejaVuSans-48\"/>\n      </g>\n     </g>\n    </g>\n    <g id=\"xtick_4\">\n     <g id=\"line2d_4\">\n      <g>\n       <use style=\"stroke:#000000;stroke-width:0.8;\" x=\"456.735811\" xlink:href=\"#m2f3fe5ab5e\" y=\"554.531624\"/>\n      </g>\n     </g>\n     <g id=\"text_4\">\n      <!-- 80 -->\n      <g transform=\"translate(450.373311 569.130062)scale(0.1 -0.1)\">\n       <defs>\n        <path d=\"M 31.78125 34.625 \nQ 24.75 34.625 20.71875 30.859375 \nQ 16.703125 27.09375 16.703125 20.515625 \nQ 16.703125 13.921875 20.71875 10.15625 \nQ 24.75 6.390625 31.78125 6.390625 \nQ 38.8125 6.390625 42.859375 10.171875 \nQ 46.921875 13.96875 46.921875 20.515625 \nQ 46.921875 27.09375 42.890625 30.859375 \nQ 38.875 34.625 31.78125 34.625 \nz\nM 21.921875 38.8125 \nQ 15.578125 40.375 12.03125 44.71875 \nQ 8.5 49.078125 8.5 55.328125 \nQ 8.5 64.0625 14.71875 69.140625 \nQ 20.953125 74.21875 31.78125 74.21875 \nQ 42.671875 74.21875 48.875 69.140625 \nQ 55.078125 64.0625 55.078125 55.328125 \nQ 55.078125 49.078125 51.53125 44.71875 \nQ 48 40.375 41.703125 38.8125 \nQ 48.828125 37.15625 52.796875 32.3125 \nQ 56.78125 27.484375 56.78125 20.515625 \nQ 56.78125 9.90625 50.3125 4.234375 \nQ 43.84375 -1.421875 31.78125 -1.421875 \nQ 19.734375 -1.421875 13.25 4.234375 \nQ 6.78125 9.90625 6.78125 20.515625 \nQ 6.78125 27.484375 10.78125 32.3125 \nQ 14.796875 37.15625 21.921875 38.8125 \nz\nM 18.3125 54.390625 \nQ 18.3125 48.734375 21.84375 45.5625 \nQ 25.390625 42.390625 31.78125 42.390625 \nQ 38.140625 42.390625 41.71875 45.5625 \nQ 45.3125 48.734375 45.3125 54.390625 \nQ 45.3125 60.0625 41.71875 63.234375 \nQ 38.140625 66.40625 31.78125 66.40625 \nQ 25.390625 66.40625 21.84375 63.234375 \nQ 18.3125 60.0625 18.3125 54.390625 \nz\n\" id=\"DejaVuSans-56\"/>\n       </defs>\n       <use xlink:href=\"#DejaVuSans-56\"/>\n       <use x=\"63.623047\" xlink:href=\"#DejaVuSans-48\"/>\n      </g>\n     </g>\n    </g>\n    <g id=\"xtick_5\">\n     <g id=\"line2d_5\">\n      <g>\n       <use style=\"stroke:#000000;stroke-width:0.8;\" x=\"570.986425\" xlink:href=\"#m2f3fe5ab5e\" y=\"554.531624\"/>\n      </g>\n     </g>\n     <g id=\"text_5\">\n      <!-- 90 -->\n      <g transform=\"translate(564.623925 569.130062)scale(0.1 -0.1)\">\n       <defs>\n        <path d=\"M 10.984375 1.515625 \nL 10.984375 10.5 \nQ 14.703125 8.734375 18.5 7.8125 \nQ 22.3125 6.890625 25.984375 6.890625 \nQ 35.75 6.890625 40.890625 13.453125 \nQ 46.046875 20.015625 46.78125 33.40625 \nQ 43.953125 29.203125 39.59375 26.953125 \nQ 35.25 24.703125 29.984375 24.703125 \nQ 19.046875 24.703125 12.671875 31.3125 \nQ 6.296875 37.9375 6.296875 49.421875 \nQ 6.296875 60.640625 12.9375 67.421875 \nQ 19.578125 74.21875 30.609375 74.21875 \nQ 43.265625 74.21875 49.921875 64.515625 \nQ 56.59375 54.828125 56.59375 36.375 \nQ 56.59375 19.140625 48.40625 8.859375 \nQ 40.234375 -1.421875 26.421875 -1.421875 \nQ 22.703125 -1.421875 18.890625 -0.6875 \nQ 15.09375 0.046875 10.984375 1.515625 \nz\nM 30.609375 32.421875 \nQ 37.25 32.421875 41.125 36.953125 \nQ 45.015625 41.5 45.015625 49.421875 \nQ 45.015625 57.28125 41.125 61.84375 \nQ 37.25 66.40625 30.609375 66.40625 \nQ 23.96875 66.40625 20.09375 61.84375 \nQ 16.21875 57.28125 16.21875 49.421875 \nQ 16.21875 41.5 20.09375 36.953125 \nQ 23.96875 32.421875 30.609375 32.421875 \nz\n\" id=\"DejaVuSans-57\"/>\n       </defs>\n       <use xlink:href=\"#DejaVuSans-57\"/>\n       <use x=\"63.623047\" xlink:href=\"#DejaVuSans-48\"/>\n      </g>\n     </g>\n    </g>\n   </g>\n   <g id=\"matplotlib.axis_2\">\n    <g id=\"ytick_1\">\n     <g id=\"line2d_6\">\n      <defs>\n       <path d=\"M 0 0 \nL -3.5 0 \n\" id=\"m8998b05638\" style=\"stroke:#000000;stroke-width:0.8;\"/>\n      </defs>\n      <g>\n       <use style=\"stroke:#000000;stroke-width:0.8;\" x=\"26.925\" xlink:href=\"#m8998b05638\" y=\"534.178855\"/>\n      </g>\n     </g>\n     <g id=\"text_6\">\n      <!-- 45 -->\n      <g transform=\"translate(7.2 537.978073)scale(0.1 -0.1)\">\n       <defs>\n        <path d=\"M 37.796875 64.3125 \nL 12.890625 25.390625 \nL 37.796875 25.390625 \nz\nM 35.203125 72.90625 \nL 47.609375 72.90625 \nL 47.609375 25.390625 \nL 58.015625 25.390625 \nL 58.015625 17.1875 \nL 47.609375 17.1875 \nL 47.609375 0 \nL 37.796875 0 \nL 37.796875 17.1875 \nL 4.890625 17.1875 \nL 4.890625 26.703125 \nz\n\" id=\"DejaVuSans-52\"/>\n       </defs>\n       <use xlink:href=\"#DejaVuSans-52\"/>\n       <use x=\"63.623047\" xlink:href=\"#DejaVuSans-53\"/>\n      </g>\n     </g>\n    </g>\n    <g id=\"ytick_2\">\n     <g id=\"line2d_7\">\n      <g>\n       <use style=\"stroke:#000000;stroke-width:0.8;\" x=\"26.925\" xlink:href=\"#m8998b05638\" y=\"468.7814\"/>\n      </g>\n     </g>\n     <g id=\"text_7\">\n      <!-- 50 -->\n      <g transform=\"translate(7.2 472.580619)scale(0.1 -0.1)\">\n       <use xlink:href=\"#DejaVuSans-53\"/>\n       <use x=\"63.623047\" xlink:href=\"#DejaVuSans-48\"/>\n      </g>\n     </g>\n    </g>\n    <g id=\"ytick_3\">\n     <g id=\"line2d_8\">\n      <g>\n       <use style=\"stroke:#000000;stroke-width:0.8;\" x=\"26.925\" xlink:href=\"#m8998b05638\" y=\"403.383946\"/>\n      </g>\n     </g>\n     <g id=\"text_8\">\n      <!-- 55 -->\n      <g transform=\"translate(7.2 407.183164)scale(0.1 -0.1)\">\n       <use xlink:href=\"#DejaVuSans-53\"/>\n       <use x=\"63.623047\" xlink:href=\"#DejaVuSans-53\"/>\n      </g>\n     </g>\n    </g>\n    <g id=\"ytick_4\">\n     <g id=\"line2d_9\">\n      <g>\n       <use style=\"stroke:#000000;stroke-width:0.8;\" x=\"26.925\" xlink:href=\"#m8998b05638\" y=\"337.986491\"/>\n      </g>\n     </g>\n     <g id=\"text_9\">\n      <!-- 60 -->\n      <g transform=\"translate(7.2 341.78571)scale(0.1 -0.1)\">\n       <use xlink:href=\"#DejaVuSans-54\"/>\n       <use x=\"63.623047\" xlink:href=\"#DejaVuSans-48\"/>\n      </g>\n     </g>\n    </g>\n    <g id=\"ytick_5\">\n     <g id=\"line2d_10\">\n      <g>\n       <use style=\"stroke:#000000;stroke-width:0.8;\" x=\"26.925\" xlink:href=\"#m8998b05638\" y=\"272.589037\"/>\n      </g>\n     </g>\n     <g id=\"text_10\">\n      <!-- 65 -->\n      <g transform=\"translate(7.2 276.388255)scale(0.1 -0.1)\">\n       <use xlink:href=\"#DejaVuSans-54\"/>\n       <use x=\"63.623047\" xlink:href=\"#DejaVuSans-53\"/>\n      </g>\n     </g>\n    </g>\n    <g id=\"ytick_6\">\n     <g id=\"line2d_11\">\n      <g>\n       <use style=\"stroke:#000000;stroke-width:0.8;\" x=\"26.925\" xlink:href=\"#m8998b05638\" y=\"207.191582\"/>\n      </g>\n     </g>\n     <g id=\"text_11\">\n      <!-- 70 -->\n      <g transform=\"translate(7.2 210.990801)scale(0.1 -0.1)\">\n       <use xlink:href=\"#DejaVuSans-55\"/>\n       <use x=\"63.623047\" xlink:href=\"#DejaVuSans-48\"/>\n      </g>\n     </g>\n    </g>\n    <g id=\"ytick_7\">\n     <g id=\"line2d_12\">\n      <g>\n       <use style=\"stroke:#000000;stroke-width:0.8;\" x=\"26.925\" xlink:href=\"#m8998b05638\" y=\"141.794128\"/>\n      </g>\n     </g>\n     <g id=\"text_12\">\n      <!-- 75 -->\n      <g transform=\"translate(7.2 145.593346)scale(0.1 -0.1)\">\n       <use xlink:href=\"#DejaVuSans-55\"/>\n       <use x=\"63.623047\" xlink:href=\"#DejaVuSans-53\"/>\n      </g>\n     </g>\n    </g>\n    <g id=\"ytick_8\">\n     <g id=\"line2d_13\">\n      <g>\n       <use style=\"stroke:#000000;stroke-width:0.8;\" x=\"26.925\" xlink:href=\"#m8998b05638\" y=\"76.396673\"/>\n      </g>\n     </g>\n     <g id=\"text_13\">\n      <!-- 80 -->\n      <g transform=\"translate(7.2 80.195892)scale(0.1 -0.1)\">\n       <use xlink:href=\"#DejaVuSans-56\"/>\n       <use x=\"63.623047\" xlink:href=\"#DejaVuSans-48\"/>\n      </g>\n     </g>\n    </g>\n    <g id=\"ytick_9\">\n     <g id=\"line2d_14\">\n      <g>\n       <use style=\"stroke:#000000;stroke-width:0.8;\" x=\"26.925\" xlink:href=\"#m8998b05638\" y=\"10.999219\"/>\n      </g>\n     </g>\n     <g id=\"text_14\">\n      <!-- 85 -->\n      <g transform=\"translate(7.2 14.798438)scale(0.1 -0.1)\">\n       <use xlink:href=\"#DejaVuSans-56\"/>\n       <use x=\"63.623047\" xlink:href=\"#DejaVuSans-53\"/>\n      </g>\n     </g>\n    </g>\n   </g>\n   <g id=\"patch_3\">\n    <path d=\"M 26.925 554.531624 \nL 26.925 10.931624 \n\" style=\"fill:none;stroke:#000000;stroke-linecap:square;stroke-linejoin:miter;stroke-width:0.8;\"/>\n   </g>\n   <g id=\"patch_4\">\n    <path d=\"M 584.925 554.531624 \nL 584.925 10.931624 \n\" style=\"fill:none;stroke:#000000;stroke-linecap:square;stroke-linejoin:miter;stroke-width:0.8;\"/>\n   </g>\n   <g id=\"patch_5\">\n    <path d=\"M 26.925 554.531624 \nL 584.925 554.531624 \n\" style=\"fill:none;stroke:#000000;stroke-linecap:square;stroke-linejoin:miter;stroke-width:0.8;\"/>\n   </g>\n   <g id=\"patch_6\">\n    <path d=\"M 26.925 10.931624 \nL 584.925 10.931624 \n\" style=\"fill:none;stroke:#000000;stroke-linecap:square;stroke-linejoin:miter;stroke-width:0.8;\"/>\n   </g>\n  </g>\n </g>\n <defs>\n  <clipPath id=\"pdb6a70d61a\">\n   <rect height=\"543.6\" width=\"558\" x=\"26.925\" y=\"10.931624\"/>\n  </clipPath>\n </defs>\n</svg>\n",
      "image/png": "[encoded data removed]"
     },
     "metadata": {
      "needs_background": "light"
     }
    }
   ],
   "source": [
    "# PARA VER LA CORRELACIÓN DE FORMA MÁS VISUAL \n",
    "plt.figure(figsize=(10,10))\n",
    "plt.scatter(y_test,y_pred)\n",
    "plt.show()"
   ]
  },
  {
   "cell_type": "code",
   "execution_count": null,
   "metadata": {},
   "outputs": [],
   "source": []
  }
 ]
}