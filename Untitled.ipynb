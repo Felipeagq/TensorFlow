{
 "cells": [
  {
   "source": [
    "# TENSORES"
   ],
   "cell_type": "markdown",
   "metadata": {}
  },
  {
   "cell_type": "code",
   "execution_count": null,
   "metadata": {},
   "outputs": [],
   "source": [
    "import tensorflow as tf\n",
    "import numpy as np"
   ]
  },
  {
   "cell_type": "code",
   "execution_count": null,
   "metadata": {},
   "outputs": [],
   "source": [
    "# Tensor escalar\n",
    "\n",
    "x0 = tf.constant(3)\n",
    "print(x0)\n",
    "print(x0.shape)\n",
    "print(x0.dtype)\n",
    "print(x0.numpy())"
   ]
  },
  {
   "cell_type": "code",
   "execution_count": null,
   "metadata": {},
   "outputs": [],
   "source": [
    "resultado = x0 + 5\n",
    "resultado"
   ]
  },
  {
   "cell_type": "code",
   "execution_count": null,
   "metadata": {},
   "outputs": [],
   "source": [
    "# tensor vector \n",
    "\n",
    "x1 = tf.constant([1.1,2.2,3.3,4.4,5.5])\n",
    "x1"
   ]
  },
  {
   "cell_type": "code",
   "execution_count": null,
   "metadata": {},
   "outputs": [],
   "source": [
    "# suma de un tenso vector con un entero\n",
    "r1 = x1 + 5\n",
    "r1"
   ]
  },
  {
   "cell_type": "code",
   "execution_count": null,
   "metadata": {},
   "outputs": [],
   "source": [
    "# suma de un vector tensor con un tensor escalar\n",
    "r2 = x1 + tf.constant(5.0) # de ser flotante tambien\n",
    "r2"
   ]
  },
  {
   "cell_type": "code",
   "execution_count": null,
   "metadata": {},
   "outputs": [],
   "source": [
    "# función add()\n",
    "r3 = tf.add(x1, tf.constant(8.0))\n",
    "r3"
   ]
  },
  {
   "cell_type": "code",
   "execution_count": null,
   "metadata": {},
   "outputs": [],
   "source": [
    "# tensor matriz\n",
    "x2 = tf.constant([[1,2,3,4,5],[6,7,8,9,10]])\n",
    "x2"
   ]
  },
  {
   "cell_type": "code",
   "execution_count": null,
   "metadata": {},
   "outputs": [],
   "source": [
    "# cambiando el dtype \n",
    "x2 = tf.cast(x2, tf.float32)\n",
    "x2"
   ]
  },
  {
   "cell_type": "code",
   "execution_count": null,
   "metadata": {},
   "outputs": [],
   "source": [
    "# multiplicacion de tensores\n",
    "r3 = tf.multiply(x1,x2)\n",
    "r3"
   ]
  },
  {
   "cell_type": "code",
   "execution_count": null,
   "metadata": {},
   "outputs": [],
   "source": [
    "x1"
   ]
  },
  {
   "cell_type": "code",
   "execution_count": null,
   "metadata": {},
   "outputs": [],
   "source": [
    "# obtener los arreglos np\n",
    "x1.numpy()"
   ]
  },
  {
   "cell_type": "code",
   "execution_count": null,
   "metadata": {},
   "outputs": [],
   "source": [
    "# convertir un arreglo np a tensor\n",
    "arr = np.array([[10,20],[30,40]])\n",
    "x4 = tf.convert_to_tensor(arr)\n",
    "x4"
   ]
  },
  {
   "cell_type": "code",
   "execution_count": null,
   "metadata": {},
   "outputs": [],
   "source": [
    "np.square(x4)"
   ]
  },
  {
   "cell_type": "code",
   "execution_count": null,
   "metadata": {},
   "outputs": [],
   "source": [
    "np.sqrt(x4)"
   ]
  },
  {
   "source": [
    "# VARIABLES"
   ],
   "cell_type": "markdown",
   "metadata": {}
  },
  {
   "cell_type": "code",
   "execution_count": null,
   "metadata": {},
   "outputs": [],
   "source": [
    "# las variables, a diferencia de los tensores, son mutables\n",
    "v1 = tf.Variable([[1.5,2,3],[4,5,6]])\n",
    "v1"
   ]
  },
  {
   "cell_type": "code",
   "execution_count": null,
   "metadata": {},
   "outputs": [],
   "source": [
    "# si no especificamos un dtype, este viene por defecto\n",
    "v2 = tf.Variable([[1,2,3],[4,5,6]])\n",
    "v2"
   ]
  },
  {
   "cell_type": "code",
   "execution_count": null,
   "metadata": {},
   "outputs": [],
   "source": [
    "# podemos asignarle un dtype\n",
    "v2 = tf.Variable([[1,2,3],[4,5,6]], dtype=tf.float32)\n",
    "v2"
   ]
  },
  {
   "cell_type": "code",
   "execution_count": null,
   "metadata": {},
   "outputs": [],
   "source": [
    "# tambien tienen la funcion .add()\n",
    "tf.add(v1,v2)"
   ]
  },
  {
   "cell_type": "code",
   "execution_count": null,
   "metadata": {},
   "outputs": [],
   "source": [
    "# se puede convertir de una variable a un tensor \n",
    "tf.convert_to_tensor(v1)"
   ]
  },
  {
   "cell_type": "code",
   "execution_count": null,
   "metadata": {},
   "outputs": [],
   "source": [
    "# tambien tienen parte numpy\n",
    "print(v1.numpy())"
   ]
  },
  {
   "cell_type": "code",
   "execution_count": null,
   "metadata": {},
   "outputs": [],
   "source": [
    "# se puede reasignar los valore de una variable\n",
    "# siempre y cuando este tanga la misma dimension del \n",
    "# original\n",
    "v1.assign([[10,20,30],[40,50,60]])"
   ]
  },
  {
   "cell_type": "code",
   "execution_count": null,
   "metadata": {},
   "outputs": [],
   "source": [
    "# tambien se puede asignar a un index en especifico\n",
    "v1[0,0].assign(100)"
   ]
  },
  {
   "source": [
    "# COMPUTATION GRAPHS"
   ],
   "cell_type": "markdown",
   "metadata": {}
  },
  {
   "cell_type": "code",
   "execution_count": null,
   "metadata": {},
   "outputs": [],
   "source": [
    "# Everything in tensorflow its a graph.\n",
    "# STATICS GRAPHS -->  contruirlos primero antes de ejecutarlo."
   ]
  },
  {
   "cell_type": "code",
   "execution_count": null,
   "metadata": {},
   "outputs": [],
   "source": [
    "# vemos si el eagerly esta corriendo, viene por default\n",
    "\n",
    "\n",
    "\n",
    "tf.compat.v1.executing_eagerly()"
   ]
  },
  {
   "cell_type": "code",
   "execution_count": null,
   "metadata": {},
   "outputs": [],
   "source": [
    "a = tf.constant(5, name='a')\n",
    "b = tf.constant(12, name='b')\n",
    "\n",
    "c = tf.add(a,b,name='suma')"
   ]
  },
  {
   "cell_type": "code",
   "execution_count": null,
   "metadata": {},
   "outputs": [],
   "source": [
    "c\n",
    "# ya tiene el resultado "
   ]
  },
  {
   "cell_type": "code",
   "execution_count": null,
   "metadata": {},
   "outputs": [],
   "source": [
    "# desabilitamos el eagerly\n",
    "tf.compat.v1.disable_eager_execution()\n",
    "tf.compat.v1.executing_eagerly()"
   ]
  },
  {
   "cell_type": "code",
   "execution_count": null,
   "metadata": {},
   "outputs": [],
   "source": [
    "# para resetear el graph\n",
    "tf.compat.v1.reset_default_graph()"
   ]
  },
  {
   "cell_type": "code",
   "execution_count": null,
   "metadata": {},
   "outputs": [],
   "source": [
    "# Ahora que estamos en static graph,\n",
    "# Podemos ver que c no muestra el resultado\n",
    "# Solo guarda la operación  \n",
    "\n",
    "a = tf.constant(5, name='a')\n",
    "b = tf.constant(12, name='b')\n",
    "\n",
    "c = tf.add(a,b,name='suma')\n",
    "c"
   ]
  },
  {
   "cell_type": "code",
   "execution_count": null,
   "metadata": {},
   "outputs": [],
   "source": [
    "# para que corra el graph debemos\n",
    "# inicia Session()\n",
    " \n",
    "sess = tf.compat.v1.Session()\n",
    "sess.run(c) \n",
    "# ahora vemos que si corre el graph\n"
   ]
  },
  {
   "cell_type": "code",
   "execution_count": null,
   "metadata": {},
   "outputs": [],
   "source": [
    "# siempre debemos cerrar Session()\n",
    "sess.close()"
   ]
  },
  {
   "cell_type": "code",
   "execution_count": null,
   "metadata": {},
   "outputs": [],
   "source": [
    "# tambien podemos instaciar varibles\n",
    "m = tf.Variable([4.0,5.9,5.5],tf.float32, name = 'm')\n",
    "c = tf.Variable([1.0,1.0,1.0],tf.float32, name = 'c')"
   ]
  },
  {
   "cell_type": "code",
   "execution_count": null,
   "metadata": {},
   "outputs": [],
   "source": [
    "# Incluso con las variables,\n",
    "#  debemos inicializarlas\n",
    "#  ante de correrlas\n",
    "print(m)\n",
    "print(c)"
   ]
  },
  {
   "cell_type": "code",
   "execution_count": null,
   "metadata": {},
   "outputs": [],
   "source": [
    "# tf.compat.v1.placeholder crea una varibale vacia \n",
    "# con de cierto tipo de dato y cierta forma\n",
    "# sirve para la construccion de Graphs sin la necesidad de data\n",
    "x = tf.compat.v1.placeholder(tf.float32,\n",
    "                                shape=[3], \n",
    "                                name='x')\n",
    "x"
   ]
  },
  {
   "cell_type": "code",
   "execution_count": null,
   "metadata": {},
   "outputs": [],
   "source": [
    "y = m * x + c\n",
    "print(y)\n",
    "# es un tensor de dtype=float32 \n",
    "# pero no tiene ningún valor "
   ]
  },
  {
   "cell_type": "code",
   "execution_count": null,
   "metadata": {},
   "outputs": [],
   "source": [
    "# variable global \n",
    "init = tf.compat.v1.global_variables_initializer()"
   ]
  },
  {
   "cell_type": "code",
   "execution_count": null,
   "metadata": {},
   "outputs": [],
   "source": [
    "# removemos todos los logs\n",
    "!rm -rf ./logs/"
   ]
  },
  {
   "cell_type": "code",
   "execution_count": null,
   "metadata": {},
   "outputs": [],
   "source": [
    "\n",
    "with tf.compat.v1.Session() as sess:\n",
    "    sess.run(init)\n",
    "    y_output = sess.run(y, feed_dict={x:[100.0,100.0,100.0]}) # aqui le damos el valor al placeholder\n",
    "    print(f'Final result : mx+c = {y_output}')\n",
    "    writer = tf.compat.v1.summary.FileWriter('./logs', sess.graph) # escribimos en logs el resumen de los graphs\n",
    "    writer.close()\n",
    "\n",
    "# vemos que al final imprime el resultado"
   ]
  },
  {
   "cell_type": "code",
   "execution_count": null,
   "metadata": {},
   "outputs": [],
   "source": [
    "# Ahora visualizaremos los statics tensor graphs\n",
    "%load_ext tensorboard\n",
    "%tensorboard --logdir=\"./logs\" --port 6060"
   ]
  },
  {
   "source": [
    "# EAGER EXECUTION IN TENSORFLOW 2.0"
   ],
   "cell_type": "markdown",
   "metadata": {}
  },
  {
   "cell_type": "code",
   "execution_count": 1,
   "metadata": {},
   "outputs": [],
   "source": [
    "# reset ipynb kernel\n",
    "import tensorflow as tf "
   ]
  },
  {
   "cell_type": "code",
   "execution_count": 2,
   "metadata": {},
   "outputs": [
    {
     "output_type": "execute_result",
     "data": {
      "text/plain": [
       "True"
      ]
     },
     "metadata": {},
     "execution_count": 2
    }
   ],
   "source": [
    "tf.executing_eagerly()\n",
    "# este modo de tf corre un tensor mientras los construye"
   ]
  },
  {
   "cell_type": "code",
   "execution_count": 3,
   "metadata": {},
   "outputs": [
    {
     "output_type": "execute_result",
     "data": {
      "text/plain": [
       "<tf.Tensor: shape=(1, 1), dtype=float32, numpy=array([[100.]], dtype=float32)>"
      ]
     },
     "metadata": {},
     "execution_count": 3
    }
   ],
   "source": [
    "x = [[10.0]]\n",
    "res = tf.matmul(x,x)\n",
    "res"
   ]
  },
  {
   "cell_type": "code",
   "execution_count": 4,
   "metadata": {},
   "outputs": [
    {
     "output_type": "execute_result",
     "data": {
      "text/plain": [
       "<tf.Tensor: shape=(2, 2), dtype=int32, numpy=\n",
       "array([[10, 20],\n",
       "       [30, 40]], dtype=int32)>"
      ]
     },
     "metadata": {},
     "execution_count": 4
    }
   ],
   "source": [
    "a = tf.constant([[10,20],\n",
    "                [30,40]])\n",
    "a"
   ]
  },
  {
   "cell_type": "code",
   "execution_count": 7,
   "metadata": {},
   "outputs": [
    {
     "output_type": "execute_result",
     "data": {
      "text/plain": [
       "<tf.Tensor: shape=(2, 2), dtype=int32, numpy=\n",
       "array([[12, 22],\n",
       "       [32, 42]], dtype=int32)>"
      ]
     },
     "metadata": {},
     "execution_count": 7
    }
   ],
   "source": [
    "b = tf.add(a,2)\n",
    "b"
   ]
  },
  {
   "cell_type": "code",
   "execution_count": 8,
   "metadata": {},
   "outputs": [
    {
     "output_type": "stream",
     "name": "stdout",
     "text": [
      "tf.Tensor(\n[[ 120  440]\n [ 960 1680]], shape=(2, 2), dtype=int32)\n"
     ]
    }
   ],
   "source": [
    "print(a*b)"
   ]
  },
  {
   "cell_type": "code",
   "execution_count": 9,
   "metadata": {},
   "outputs": [
    {
     "output_type": "stream",
     "name": "stdout",
     "text": [
      "<tf.Variable 'm:0' shape=(3,) dtype=float32, numpy=array([4. , 5.9, 5.5], dtype=float32)>\n<tf.Variable 'c:0' shape=(3,) dtype=float32, numpy=array([1., 1., 1.], dtype=float32)>\n"
     ]
    }
   ],
   "source": [
    "# tambien podemos instaciar varibles\n",
    "m = tf.Variable([4.0,5.9,5.5],tf.float32, name = 'm')\n",
    "c = tf.Variable([1.0,1.0,1.0],tf.float32, name = 'c')\n",
    "print(m)\n",
    "print(c)"
   ]
  },
  {
   "cell_type": "code",
   "execution_count": 10,
   "metadata": {},
   "outputs": [
    {
     "output_type": "execute_result",
     "data": {
      "text/plain": [
       "<tf.Variable 'x:0' shape=(3,) dtype=float32, numpy=array([100., 100., 100.], dtype=float32)>"
      ]
     },
     "metadata": {},
     "execution_count": 10
    }
   ],
   "source": [
    "x = tf.Variable([100.0,100.0,100.0], tf.float32, name = 'x')\n",
    "x"
   ]
  },
  {
   "cell_type": "code",
   "execution_count": 11,
   "metadata": {},
   "outputs": [
    {
     "output_type": "stream",
     "name": "stdout",
     "text": [
      "tf.Tensor([401. 591. 551.], shape=(3,), dtype=float32)\n"
     ]
    }
   ],
   "source": [
    "y = m * x + c\n",
    "print(y)"
   ]
  },
  {
   "cell_type": "code",
   "execution_count": 12,
   "metadata": {},
   "outputs": [],
   "source": [
    "def tensorflow(max_num):\n",
    "    counter = tf.constant(0)\n",
    "    max_num = tf.constant(max_num)\n",
    "\n",
    "    for num in range(0,max_num.numpy()+1):\n",
    "        num = tf.constant(num)\n",
    "\n",
    "        if int(num%3)==0 and int(num%5)==0:\n",
    "            print(f'Divisible entre 3 y 5 : {num.numpy()}')\n",
    "\n",
    "        elif int(num%3)==0 :\n",
    "            print(f'Divisible entre 3 : {num.numpy()}')\n",
    "\n",
    "        elif int(num%5)==0:\n",
    "            print(f'Divisible entre  5 : {num.numpy()}')\n",
    "        \n",
    "        else:\n",
    "            print(num.numpy())\n",
    "        \n",
    "        counter += 1"
   ]
  },
  {
   "cell_type": "code",
   "execution_count": 13,
   "metadata": {},
   "outputs": [
    {
     "output_type": "stream",
     "name": "stdout",
     "text": [
      "Divisible entre 3 y 5 : 0\n1\n2\nDivisible entre 3 : 3\n4\nDivisible entre  5 : 5\nDivisible entre 3 : 6\n7\n8\nDivisible entre 3 : 9\nDivisible entre  5 : 10\n11\nDivisible entre 3 : 12\n13\n14\nDivisible entre 3 y 5 : 15\n"
     ]
    }
   ],
   "source": [
    "tensorflow(15)"
   ]
  },
  {
   "cell_type": "code",
   "execution_count": null,
   "metadata": {},
   "outputs": [],
   "source": []
  }
 ],
 "metadata": {
  "kernelspec": {
   "name": "python385jvsc74a57bd0916dbcbb3f70747c44a77c7bcd40155683ae19c65e1c03b4aa3499c5328201f1",
   "display_name": "Python 3.8.5 64-bit"
  },
  "language_info": {
   "codemirror_mode": {
    "name": "ipython",
    "version": 3
   },
   "file_extension": ".py",
   "mimetype": "text/x-python",
   "name": "python",
   "nbconvert_exporter": "python",
   "pygments_lexer": "ipython3",
   "version": "3.8.5"
  },
  "metadata": {
   "interpreter": {
    "hash": "916dbcbb3f70747c44a77c7bcd40155683ae19c65e1c03b4aa3499c5328201f1"
   }
  }
 },
 "nbformat": 4,
 "nbformat_minor": 4
}