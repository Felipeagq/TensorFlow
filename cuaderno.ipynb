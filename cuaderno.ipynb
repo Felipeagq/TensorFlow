{
 "metadata": {
  "language_info": {
   "codemirror_mode": {
    "name": "ipython",
    "version": 3
   },
   "file_extension": ".py",
   "mimetype": "text/x-python",
   "name": "python",
   "nbconvert_exporter": "python",
   "pygments_lexer": "ipython3",
   "version": 3
  },
  "orig_nbformat": 2
 },
 "nbformat": 4,
 "nbformat_minor": 2,
 "cells": [
  {
   "source": [
    "# REGRESSION : THE SIMPLEST NEURAL NETWORK\n",
    "Es la red neuronal más sencilla\n",
    "\n",
    "The actual training of a neural network happens via GRADIENT DESCENT OPTIMIZATION \n",
    "\n",
    "Minimizing MSE (Mean Square Error) ---> Smallest posible Value "
   ],
   "cell_type": "markdown",
   "metadata": {}
  },
  {
   "source": [
    "# Forward and backward passes\n",
    "\n",
    "### Optimizer \n",
    "uses the error function and tweaks the model parameters to minimize error.\n",
    "\n",
    "\n",
    "\n",
    "### Forward Pass\n",
    "Use the current model weights and biases to make a prediction.\n",
    "\n",
    "\n",
    "### Backward Pass\n",
    "- Update parameters values based on loss error.\n",
    "- Allows the weights and biases of neurons to converge to their final values."
   ],
   "cell_type": "markdown",
   "metadata": {}
  },
  {
   "source": [
    "# Calculating Gradients Using Gradient Tape\n",
    "MSE = Mean Square Error of Loss\n",
    "\n",
    "Loss = y_pred - y_true"
   ],
   "cell_type": "markdown",
   "metadata": {}
  },
  {
   "source": [
    "# Calculating Gradients\n",
    "- Symbolic Differentiation : Conceptually simple but hard to implement.\n",
    "- Numeric Differentiation : Easy to implement but won't scale.\n",
    "- Automatic Differentiation: Conceptually difficult but easy to implement."
   ],
   "cell_type": "markdown",
   "metadata": {}
  },
  {
   "cell_type": "code",
   "execution_count": null,
   "metadata": {},
   "outputs": [],
   "source": []
  }
 ]
}